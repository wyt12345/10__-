{
 "cells": [
  {
   "cell_type": "markdown",
   "metadata": {},
   "source": [
    "# 天气预测"
   ]
  },
  {
   "cell_type": "markdown",
   "metadata": {},
   "source": [
    "> json\n",
    "- json.load(weather_file)  读取文件，文件用load，转成字典\n",
    "- dump存成文件\n",
    "- json.loads(dark_response.text)  读取字符串，转成字典\n",
    "- json.dumps(temperature)   转化成字符串\n",
    "\n",
    ">"
   ]
  },
  {
   "cell_type": "code",
   "execution_count": 3,
   "metadata": {
    "collapsed": true
   },
   "outputs": [],
   "source": [
    "import json\n",
    "import numpy as np\n",
    "import pandas as pd\n",
    "import requests\n",
    "import matplotlib.pyplot as plt\n",
    "%matplotlib inline"
   ]
  },
  {
   "cell_type": "markdown",
   "metadata": {},
   "source": [
    "#### 已经有json文件"
   ]
  },
  {
   "cell_type": "code",
   "execution_count": 4,
   "metadata": {
    "collapsed": false
   },
   "outputs": [],
   "source": [
    "weather_file=open(\"sample.json\", encoding='utf-8')  ##打开文件\n",
    "weather_data=json.load(weather_file)##读取文件，文件用load，转成字典\n",
    "weather_file.close()"
   ]
  },
  {
   "cell_type": "code",
   "execution_count": 6,
   "metadata": {
    "collapsed": false
   },
   "outputs": [
    {
     "name": "stdout",
     "output_type": "stream",
     "text": [
      "35.36\n",
      "40.64\n",
      "0.76\n",
      "Light snow in the morning.\n"
     ]
    }
   ],
   "source": [
    "print(weather_data[\"daily\"][\"data\"][7][\"temperatureMin\"])  ##第几天\n",
    "print(weather_data[\"daily\"][\"data\"][0][\"temperatureMax\"])\n",
    "print(weather_data[\"daily\"][\"data\"][0][\"humidity\"])\n",
    "print(weather_data[\"daily\"][\"data\"][0][\"summary\"])"
   ]
  },
  {
   "cell_type": "markdown",
   "metadata": {},
   "source": [
    "#### 根据API从网站获取数据"
   ]
  },
  {
   "cell_type": "code",
   "execution_count": 7,
   "metadata": {
    "collapsed": true
   },
   "outputs": [],
   "source": [
    "dark_url = \"https://api.darksky.net/forecast/%s/%s,%s?units=si\" % (\"62bf94de3c232f30f6f3ee5bb534c2f3\",##api\n",
    "                                                                    31.2300, 121.4700) \n",
    "dark_response = requests.get(dark_url)\n",
    "dark_data=json.loads(dark_response.text)"
   ]
  },
  {
   "cell_type": "code",
   "execution_count": 8,
   "metadata": {
    "collapsed": false
   },
   "outputs": [
    {
     "name": "stdout",
     "output_type": "stream",
     "text": [
      "35.36\n",
      "40.64\n",
      "0.76\n",
      "Light snow in the morning.\n"
     ]
    }
   ],
   "source": [
    "print(weather_data[\"daily\"][\"data\"][7][\"temperatureMin\"])  ##第几天\n",
    "print(weather_data[\"daily\"][\"data\"][0][\"temperatureMax\"])\n",
    "print(weather_data[\"daily\"][\"data\"][0][\"humidity\"])\n",
    "print(weather_data[\"daily\"][\"data\"][0][\"summary\"])"
   ]
  },
  {
   "cell_type": "markdown",
   "metadata": {},
   "source": [
    "#### 写成函数"
   ]
  },
  {
   "cell_type": "code",
   "execution_count": 12,
   "metadata": {
    "collapsed": true
   },
   "outputs": [],
   "source": [
    "##文件\n",
    "def load_json_sample(path):\n",
    "    with open(path, encoding='utf-8') as json_file:\n",
    "        return json.load(json_file)\n",
    "##API  \n",
    "def request_data():\n",
    "    # LA 37.8267,-122.4233 , beijing 39.904200, 116.407396\n",
    "    lat = 39.904200       ##纬度\n",
    "    long = 116.407396  ##经度\n",
    "    api_key = \"62bf94de3c232f30f6f3ee5bb534c2f3\"\n",
    "    url = \"https://api.darksky.net/forecast/%s/%s,%s?units=si\" % (api_key, lat, long)\n",
    "    response = requests.get(url)\n",
    "    return json.loads(response.text)\n",
    "\n",
    "##放在一起\n",
    "\n",
    "def get_daily_data(remote=False):\n",
    "    if remote:\n",
    "        json_obj = request_data()     ##网上\n",
    "    else:\n",
    "        json_obj = load_json_sample('sample.json')  ##本地文件读取\n",
    "#    pretty_print_dict_of_list(json_obj)\n",
    "    attributes = ['temperatureMin', 'temperatureMax', 'humidity','summary']\n",
    "    daily_data = daily_data_of_attributes(json_obj, attributes)\n",
    "    return daily_data\n",
    "\n",
    "##整理数据\n",
    "def daily_data_of_attributes(json_dict, attributes):\n",
    "    daily_attributes = {}\n",
    "    for attr in attributes:\n",
    "        daily_attributes[attr] = []\n",
    "    daily_data = json_dict[\"daily\"][\"data\"]\n",
    "    try:\n",
    "        for dict_data in daily_data:\n",
    "            for attr in attributes:\n",
    "                daily_attributes[attr].append(dict_data[attr])\n",
    "    except KeyError:\n",
    "        print(\"Key Not Found\")\n",
    "        return {}\n",
    "    return daily_attributes\n",
    "##七天的\n",
    "def pretty_print_dict_of_list(d):\n",
    "    indent = 4\n",
    "    print(\"{\")\n",
    "    for k, l in d.items():\n",
    "        print(indent * \" \" + k + \": \", end=\"\")\n",
    "        print(l)\n",
    "    print(\"}\")"
   ]
  },
  {
   "cell_type": "code",
   "execution_count": 13,
   "metadata": {
    "collapsed": false
   },
   "outputs": [
    {
     "name": "stdout",
     "output_type": "stream",
     "text": [
      "{\n",
      "    temperatureMin: [20.31, 20.61, 20.82, 20.47, 19.13, 19.21, 23.51, 27.05]\n",
      "    temperatureMax: [37.63, 34.13, 32.65, 35.32, 32.91, 37.14, 36.45, 37.05]\n",
      "    humidity: [0.43, 0.43, 0.55, 0.44, 0.46, 0.38, 0.29, 0.28]\n",
      "    summary: ['Rain in the morning.', 'Overcast throughout the day.', 'Partly cloudy throughout the day.', 'Clear throughout the day.', 'Rain in the evening and overnight.', 'Clear throughout the day.', 'Overcast throughout the day.', 'Partly cloudy throughout the day.']\n",
      "}\n"
     ]
    }
   ],
   "source": [
    "daily_data = get_daily_data(True)\n",
    "pretty_print_dict_of_list(daily_data)"
   ]
  },
  {
   "cell_type": "code",
   "execution_count": 15,
   "metadata": {
    "collapsed": false
   },
   "outputs": [
    {
     "data": {
      "image/png": "[encoded data removed]",
      "text/plain": [
       "<matplotlib.figure.Figure at 0x1e3b40011d0>"
      ]
     },
     "metadata": {},
     "output_type": "display_data"
    }
   ],
   "source": [
    "##画图\n",
    "df = pd.DataFrame(daily_data)\n",
    "df_temperature = df[[\"temperatureMin\", \"temperatureMax\"]]\n",
    "df_humidity = df[[\"humidity\"]]\n",
    "# Plot data\n",
    "plt.style.use('ggplot')\n",
    "_, axes = plt.subplots(nrows=2)\n",
    "df_temperature.plot(ax=axes[0])\n",
    "df_humidity.plot(ax=axes[1])\n",
    "plt.show()"
   ]
  },
  {
   "cell_type": "code",
   "execution_count": null,
   "metadata": {
    "collapsed": true
   },
   "outputs": [],
   "source": []
  }
 ],
 "metadata": {
  "kernelspec": {
   "display_name": "Python 3",
   "language": "python",
   "name": "python3"
  },
  "language_info": {
   "codemirror_mode": {
    "name": "ipython",
    "version": 3
   },
   "file_extension": ".py",
   "mimetype": "text/x-python",
   "name": "python",
   "nbconvert_exporter": "python",
   "pygments_lexer": "ipython3",
   "version": "3.6.0"
  }
 },
 "nbformat": 4,
 "nbformat_minor": 2
}
