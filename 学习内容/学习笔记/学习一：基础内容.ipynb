{
 "cells": [
  {
   "cell_type": "markdown",
   "metadata": {},
   "source": [
    "# 学习笔记#\n",
    "\n",
    "## 一、？查找字典\n",
    "\n",
    "## 二 、print打印\n",
    "\n",
    "## 三 、计算、赋值与数据类型\n",
    "\n",
    "## 四、存储类型\n",
    "\n",
    "## 五、各类能否被修改（Mutable, Immutable）\n",
    "\n",
    "## 六 、答题式input\n",
    "\n",
    "## 七、常见的公式\n",
    "\n",
    "## 八、板块module、包package"
   ]
  },
  {
   "cell_type": "markdown",
   "metadata": {},
   "source": [
    "## 一、？查找字典"
   ]
  },
  {
   "cell_type": "code",
   "execution_count": 10,
   "metadata": {
    "collapsed": false
   },
   "outputs": [],
   "source": [
    "?print()"
   ]
  },
  {
   "cell_type": "markdown",
   "metadata": {},
   "source": [
    "#### python 官网dictionary也可查找 "
   ]
  },
  {
   "cell_type": "code",
   "execution_count": null,
   "metadata": {
    "collapsed": true
   },
   "outputs": [],
   "source": [
    "https://docs.python.org/3/library"
   ]
  },
  {
   "cell_type": "markdown",
   "metadata": {},
   "source": [
    "## 二 、print打印"
   ]
  },
  {
   "cell_type": "markdown",
   "metadata": {},
   "source": [
    "####     换行\n",
    "######   由于直接空格会出错\n",
    "       (1)\\n\n",
    "       (2)  '''  三个首尾，里面写成啥样输出啥样\n",
    "       (3)输出里面的',用\\ \n",
    "           print('\\',\\\\,\\\\\\\\,\\n,\\\\n ')     \n",
    "           #',\\,\\\\,\n",
    "           ,\\n \n",
    "       (4)相邻两个用逗号隔开，输出之间有空格；\n",
    "          相邻两个用+隔开，输出之间无空格  数字与字符串不能相加\n",
    "       (5)print('>_< ' * 5)  # >_< >_< >_< >_< >_<\n",
    "       (6)print('a', 'b', 'c', sep=' ', end='    ')"
   ]
  },
  {
   "cell_type": "code",
   "execution_count": 2,
   "metadata": {
    "collapsed": false
   },
   "outputs": [
    {
     "name": "stdout",
     "output_type": "stream",
     "text": [
      "Hello World! \n",
      "你好,世界! Hola mundo!\n",
      "\n",
      "      Hello World! \n",
      "       你好,世界! \n",
      "       Hola mundo!\n",
      "       \n",
      "He said: \"I'm a string\"\n"
     ]
    }
   ],
   "source": [
    "print(\"Hello World! \\n你好,世界! Hola mundo!\")  \n",
    "\n",
    "print('''\n",
    "      Hello World! \n",
    "       你好,世界! \n",
    "       Hola mundo!\n",
    "       ''')\n",
    "print(\"He said: \\\"I'm a string\\\"\")"
   ]
  },
  {
   "cell_type": "markdown",
   "metadata": {},
   "source": [
    "## 三 、计算、赋值与数据类型"
   ]
  },
  {
   "cell_type": "markdown",
   "metadata": {},
   "source": [
    "#### 3.1 计算顺序 ()、** *、//整数 /浮点、%、+ -、+=\n",
    "#### 3.2 赋值互换 \n",
    "        num1 = 1\n",
    "        num2 = 2\n",
    "        temp = num1\n",
    "        num1 = num2\n",
    "        num2 = temp   直接互换 num1 , num2=num2,num1 \n",
    "#### 3.3 int整型与float浮点\n",
    "    (1)//整除得int  /除得浮点\n",
    "    (2)相互转化 int（）float（）\n",
    "    (3) %s 字符串   %d 整型  %r 浮点"
   ]
  },
  {
   "cell_type": "code",
   "execution_count": 3,
   "metadata": {
    "collapsed": false
   },
   "outputs": [
    {
     "name": "stdout",
     "output_type": "stream",
     "text": [
      "* and /: 6 10 2.0 3.0 4.0\n",
      "%: 0 1 1 3 6\n"
     ]
    },
    {
     "data": {
      "text/plain": [
       "3"
      ]
     },
     "execution_count": 3,
     "metadata": {},
     "output_type": "execute_result"
    },
    {
     "data": {
      "text/plain": [
       "3.0"
      ]
     },
     "execution_count": 3,
     "metadata": {},
     "output_type": "execute_result"
    },
    {
     "name": "stdout",
     "output_type": "stream",
     "text": [
      "For example: 2 + 3 = 5.3.\n"
     ]
    }
   ],
   "source": [
    "print(\"* and /:\", 2 * 3, 5 * 2, 10 / 5, 9 / 3, 2 * 3 * 4 / 6)  \n",
    "\n",
    "print(\"%:\", 9 % 3, 9 % 4, -8 % 3, 3 % 7,-8 % 14)\n",
    "\n",
    "int(3.56)\n",
    "\n",
    "float(3)\n",
    "\n",
    "print(\"For %s: 2 + %d = %r.\" % (\"example\", 3, 5.3))"
   ]
  },
  {
   "cell_type": "markdown",
   "metadata": {},
   "source": [
    "######                                        例题\n",
    "     输入一个数，这个数代表从凌晨0点，过去的分钟数，请计算并输出当前时间\n",
    "\n",
    "     本程序需要输出两个数: 小时(0 ～ 23) ：分钟(0 ～ 59).\n",
    "\n",
    "     例如：\n",
    "     如果，你输入是150, 那么应该是凌晨2:30了，所以你的程序应该输出2:30"
   ]
  },
  {
   "cell_type": "code",
   "execution_count": 74,
   "metadata": {
    "collapsed": false
   },
   "outputs": [
    {
     "name": "stdout",
     "output_type": "stream",
     "text": [
      "Write down the passing minumte=2682\n",
      "现在时间是 第 2 天 20 : 42\n"
     ]
    }
   ],
   "source": [
    "passing=int(input('Write down the passing minumte='))\n",
    "day=passing//24//60\n",
    "hour=(passing//60)%24\n",
    "minute=passing%60\n",
    "print('现在时间是','第',day+1,'天',hour,':',minute)      ##学会用求余"
   ]
  },
  {
   "cell_type": "markdown",
   "metadata": {},
   "source": [
    "#### 3.3 布尔boolean  True False\n",
    "      (1)判断\n",
    "      (2)做加法 True 1 False 0"
   ]
  },
  {
   "cell_type": "code",
   "execution_count": 4,
   "metadata": {
    "collapsed": false
   },
   "outputs": [
    {
     "data": {
      "text/plain": [
       "True"
      ]
     },
     "execution_count": 4,
     "metadata": {},
     "output_type": "execute_result"
    },
    {
     "data": {
      "text/plain": [
       "3"
      ]
     },
     "execution_count": 4,
     "metadata": {},
     "output_type": "execute_result"
    }
   ],
   "source": [
    "(1>2)or(3<4)\n",
    "\n",
    "True + 2"
   ]
  },
  {
   "cell_type": "markdown",
   "metadata": {},
   "source": [
    "#### 3.4 string字符串\n",
    "     (1)取 lan[::] 开始：结束：步数  #不包含结束的那各位置的字符\n",
    "     (2)len() 判断字符个数\n",
    "     (3)内部修改--------- **全部不改变原来的\n",
    "     \n",
    "         1.字符串----->数组\n",
    "     \n",
    "           a.split(',') #按字符串自带的格式拆分  \n",
    "     \n",
    "         2.两个字符串----->字符串////数组------->字符串\n",
    "         \n",
    "           print(\"Hello\"+\"World\"+\"!\") 直接相加，无空格   \n",
    "           ',,'.join(b)  以指定格式合并  可将数组变成字符串\n",
    "         \n",
    "         3.字符串的替换\n",
    "          \n",
    "           s.replace('a', 'b',1)  在1位将a替换成b\n",
    "          \n",
    "     (4)排版 center居中 ljust居左 rjust居右 strip掐头去尾\n",
    "        upper 全大写  title 标题形式\n",
    "    *(5)find 查找 count计算出现次数\n",
    "        isalnum判断其中是否含有除字母和数字以外的东西  \n",
    "        startswith/endswith判断是否以什么开头/结尾\n",
    "     (6)字符串的多样输出格式  python3.6\n",
    "        print('%s %d' % ('one', 1)))\n",
    "        print('{} {}'.format('one', 2))   \n",
    "        print(f\"Hello, {name}! How's it {question}?\")  f'直接关联"
   ]
  },
  {
   "cell_type": "code",
   "execution_count": 8,
   "metadata": {
    "collapsed": false
   },
   "outputs": [
    {
     "data": {
      "text/plain": [
       "'爱京'"
      ]
     },
     "execution_count": 8,
     "metadata": {},
     "output_type": "execute_result"
    }
   ],
   "source": [
    "#（1）\n",
    "\n",
    "letters = \"我爱北京天安门\" \n",
    "letters[1:5:2]"
   ]
  },
  {
   "cell_type": "code",
   "execution_count": 33,
   "metadata": {
    "collapsed": false
   },
   "outputs": [
    {
     "data": {
      "text/plain": [
       "['xz', 'wyb', 'szd']"
      ]
     },
     "execution_count": 33,
     "metadata": {},
     "output_type": "execute_result"
    },
    {
     "name": "stdout",
     "output_type": "stream",
     "text": [
      "Hello World !\n",
      "HelloWorld!\n"
     ]
    },
    {
     "data": {
      "text/plain": [
       "'xz,,wyb,,szd'"
      ]
     },
     "execution_count": 33,
     "metadata": {},
     "output_type": "execute_result"
    },
    {
     "data": {
      "text/plain": [
       "'I hate C. I hate C++. I like Python'"
      ]
     },
     "execution_count": 33,
     "metadata": {},
     "output_type": "execute_result"
    }
   ],
   "source": [
    "#（3）字符串的合并、拆分 split join  替换replace\n",
    "\n",
    "a='xz1wyb1szd'               #将字符串按内部规律进行切分成数组---split\n",
    "a.split('1')                #1不见了\n",
    "\n",
    "print(\"Hello\", \"World\", \"!\")    #逗号隔开，有空格-------直接字符串相加\n",
    "print(\"Hello\"+\"World\"+\"!\")      #字符相加无空格\n",
    "\n",
    "b=['xz','wyb','szd']           #将数组按指定格式合并成字符串-----------------join\n",
    "',,'.join(b)\n",
    "\n",
    "s = 'I hate C. I like C++. I like Python'   #---------replace\n",
    "s.replace('like', 'hate',1)"
   ]
  },
  {
   "cell_type": "code",
   "execution_count": 6,
   "metadata": {
    "collapsed": false
   },
   "outputs": [
    {
     "data": {
      "text/plain": [
       "'      Learn how to align      '"
      ]
     },
     "execution_count": 6,
     "metadata": {},
     "output_type": "execute_result"
    },
    {
     "data": {
      "text/plain": [
       "'Learn,how, to align'"
      ]
     },
     "execution_count": 6,
     "metadata": {},
     "output_type": "execute_result"
    }
   ],
   "source": [
    "#（4）\n",
    "\n",
    "align = 'Learn how to align'       #居中\n",
    "align.center(30)  \n",
    "\n",
    "align = 'Learn,how, to align,'     #掐头去尾\n",
    "align.strip(',')\n"
   ]
  },
  {
   "cell_type": "code",
   "execution_count": 8,
   "metadata": {
    "collapsed": false
   },
   "outputs": [
    {
     "data": {
      "text/plain": [
       "True"
      ]
     },
     "execution_count": 8,
     "metadata": {},
     "output_type": "execute_result"
    },
    {
     "data": {
      "text/plain": [
       "-1"
      ]
     },
     "execution_count": 8,
     "metadata": {},
     "output_type": "execute_result"
    },
    {
     "data": {
      "text/plain": [
       "1"
      ]
     },
     "execution_count": 8,
     "metadata": {},
     "output_type": "execute_result"
    },
    {
     "data": {
      "text/plain": [
       "21"
      ]
     },
     "execution_count": 8,
     "metadata": {},
     "output_type": "execute_result"
    },
    {
     "data": {
      "text/plain": [
       "2"
      ]
     },
     "execution_count": 8,
     "metadata": {},
     "output_type": "execute_result"
    }
   ],
   "source": [
    " #（5）\n",
    "\n",
    "py_desc = \"Python description: Python .\"  \n",
    "py_desc.startswith('Python')\n",
    "\n",
    "\n",
    "py_desc.find('a')   \n",
    "#没有a  -1\n",
    "py_desc.find('y')  \n",
    "# 1\n",
    "py_desc.rfind('y')  \n",
    "# 从右数\n",
    "\n",
    "\n",
    "py_desc.count(\"Python\")"
   ]
  },
  {
   "cell_type": "code",
   "execution_count": 9,
   "metadata": {
    "collapsed": false
   },
   "outputs": [
    {
     "name": "stdout",
     "output_type": "stream",
     "text": [
      "two one\n",
      "Five plus ten is 15 and not 30.\n",
      "Hello, Joshua! How's it hello?\n",
      "bdj 2\n"
     ]
    }
   ],
   "source": [
    "#(6)\n",
    "print('{1} {0}'.format('one', 'two'))\n",
    "\n",
    "a = 5\n",
    "b = 10\n",
    "print(f'Five plus ten is {a + b} and not {2 * (a + b)}.')\n",
    "\n",
    "\n",
    "name = \"Joshua\"\n",
    "question = \"hello\"\n",
    "print(f\"Hello, {name}! How's it {question}?\")\n",
    "\n",
    "print('{} {}'.format('bdj', 2)) \n"
   ]
  },
  {
   "cell_type": "code",
   "execution_count": null,
   "metadata": {
    "collapsed": true
   },
   "outputs": [],
   "source": []
  },
  {
   "cell_type": "markdown",
   "metadata": {},
   "source": [
    "## 四、存储类型"
   ]
  },
  {
   "cell_type": "markdown",
   "metadata": {},
   "source": [
    "#### 4.1 数组 List\n",
    "     (1)p=[2,'5',[3,5]] 可以存储数字、字符串、数组嵌套、指针   方括号\n",
    "     (2)连续的地址空间 0 1 2 3 ...\n",
    "     (3)创建 1.empty_list = []\n",
    "            2.another_empty_list = list()\n",
    "            3.weekdays=['Monday','Tuesday','Wednesday','Thursday','Friday']\n",
    "            4.将字符串按逗号切分得到的就是list\n",
    "               weekday_str = 'Monday,Tuesday,Wednesday,Thursday,Friday'\n",
    "               weekdays = weekday_str.split(',')  #生成list\n",
    "               \n",
    "     (4)内部修改\n",
    "        \n",
    "        1.替换元素-----------------直接等于\n",
    "     \n",
    "            weekdays[0] = \"Sunday\"  \n",
    "            \n",
    "        2.删除元素-----------------del(通过index)、remove（删某个词，确保在里面）\n",
    "        \n",
    "           del weekdays[0]  #删一个     ##所有后面都要往前加  慢，删最后一个与第一个\n",
    "           del al[3:]       #删一串\n",
    "           weekdays.remove('Friday')   #可以判断在不在先，'Friday' in weekdays    返回true or false \n",
    "          \n",
    "        3.增加元素------insert(在index加)、append(直接加在最后)、两个list直接相加\n",
    "              \n",
    "             weekdays.insert(0, 'Monday')   \n",
    "             #所有后面的都往后挪 慢 加最后与加第一个 list比较大的时候，尽量避免中间进行增删\n",
    "             weekdays.append('Friday')       \n",
    "             weekdays = weekdays + weekend #加法将两个合并\n",
    "       \n",
    "           list比较大的时候，尽量避免中间进行增删\n",
    "           \n",
    "         4.拆分成两个数组\n",
    "         \n",
    "              d=[('a', 'h'),  \n",
    "                 ('b', 'i'),\n",
    "                 ('c', 'j')]\n",
    "               s3, s4 = zip(*d)    生成两个数组，*同来拆分\n",
    "         \n",
    "           \n",
    "      (5) 变换  \n",
    "           \n",
    "        1.数组----------------------------->字符串\n",
    "        \n",
    "                a=','join(nums)\n",
    "           \n",
    "         字符串---------------------------->数组\n",
    "         \n",
    "                a=sorted('jhdgjhuf')\n",
    "                b='nakaiala'.split('a')\n",
    "                c=list('srgdtt')\n",
    "                \n",
    "                   s1 = 'abc'\n",
    "                   s2 = 'hij'\n",
    "               d=list(zip(s1, s2))         #[('a', 'h'),   形成含tuple的数组,不止含两个\n",
    "                                             ('b', 'i'),\n",
    "                                             ('c', 'j')]\n",
    "                                                              \n",
    "         2.tuple--------------------------->数组\n",
    "          \n",
    "                a=list((1,3,5))\n",
    "                \n",
    "         3.dictionary---------------------->数组\n",
    "          \n",
    "                a=list({'name': 'Ed', 'employer': 'Oracle'})保留key\n",
    "                #['name', 'employer']\n",
    "                list({'name': 'Ed', 'employer': 'Oracle'}.values())保留值\n",
    "                #['Ed', 'Oracle']\n",
    "             \n",
    "         4.set----------------------------->数组\n",
    "                \n",
    "                list({5,6,7,8})\n",
    "        \n",
    "      (5)工具：\n",
    "      \n",
    "         1.复制Copy:\n",
    "           \n",
    "           对比 b = a   ----------a变，b也会变      s2 = s1字符串不会跟着变\n",
    "               c = a.copy()  -------\n",
    "               d = a[:]   ---------   这三个不会随着a变而变\n",
    "               e = list(a)---------\n",
    "               \n",
    "         2.del remove insert \n",
    "         \n",
    "       (6)数组与字符串\n",
    "       \n",
    "       同：\n",
    "          1.都可以通过index查询\n",
    "               \n",
    "           x=['a', 'd', 'c']       y='a,b,c'\n",
    "           x[1]                    y[1]\n",
    "           #'d'                    #','\n",
    "          2.都可以创建空数组、字符串\n",
    "           a=[]                    a=''       \n",
    "#### 4.2 tuple   \n",
    "     \n",
    "     (1) tuple-------对比-----------list\n",
    "      \n",
    "          1.不可修改             可修改\n",
    "          2.创建a=()                  []\n",
    "          3.占用空间更小\n",
    "          4.数组里面出现[('a', 'h'),('b', 'i'),('c', 'j'),]\n",
    "     (2)\n",
    "     \n",
    "#### 4.3 集合set\n",
    "\n",
    "     (1) set-------------dictionary\n",
    "         \n",
    "         1.相当于dictionary的key\n",
    "         2.创建a=set()       a={}\n",
    "         3.输出都是{} \n",
    "         \n",
    "     (2) 集合的交& 、并|、和基本a-b、a∪b-a∩b异或用^，相同为0，想异为或\n",
    "   \n",
    "         num_set & even_set\n",
    "         num_set | even_set\n",
    "         num_set - even_set\n",
    "         even_set ^ num_set\n",
    "     \n",
    "#### 4.4*** 字典dictionary \n",
    "\n",
    "      (1) dictionary-----对比------list\n",
    "      \n",
    "          1.不可用index访问      可 \n",
    "          2.创建a={}            a=[]\n",
    "          3.没有顺序，输入和输出结果不同，<k1,v1>（输出字母排序python3.5后加的）\n",
    "          4.用key访问特别快  返回int除以size的余数，作为index[0,size) 得到新的<k1,v1>\n",
    "                            余数重复后，会在内部生成[<k1,v1>,<k2,v2>]\n",
    "      (2) 读取\n",
    "      \n",
    "            pizza.keys()    钥匙\n",
    "            pizza.values()  值\n",
    "            pizza.items()   全部\n",
    "            \n",
    "      (3) 修改\n",
    "            \n",
    "            pizza['topping'] = ['cheese','mushroom']  修改值\n",
    "            del pizza['topping']   删除钥匙\n",
    "            pizza.clear()    全删\n",
    "            \n",
    "      (4) 转化    \n",
    "      \n",
    "          1.list-----------------> dictionary\n",
    "               \n",
    "               dict(['ab', 'cd', 'ef']) 两个切分\n",
    "               #{'a': 'b', 'c': 'd', 'e': 'f'}\n",
    "               dict([['a', 'b'], ('c', 'd'), ('e', 'f')])  \n",
    "               #{'a': 'b', 'c': 'd', 'e': 'f'}\n",
    "               \n",
    "          2.\n",
    "      \n",
    "      (5) 快速建立一个dictionary\n",
    "      \n",
    "          s1='123456789'\n",
    "          s2='abcdefghi'\n",
    "          d=list(zip(s1, s2))\n",
    "          diction=dict(d)\n",
    "      (6)注意的细节\n",
    "      \n",
    "          由于key不可修改，所以建立key时要确保该类型是immutable\n",
    "      "
   ]
  },
  {
   "cell_type": "code",
   "execution_count": 30,
   "metadata": {
    "collapsed": false
   },
   "outputs": [
    {
     "data": {
      "text/plain": [
       "str"
      ]
     },
     "execution_count": 30,
     "metadata": {},
     "output_type": "execute_result"
    },
    {
     "data": {
      "text/plain": [
       "'d,f,g,h,h,j,j,u'"
      ]
     },
     "execution_count": 30,
     "metadata": {},
     "output_type": "execute_result"
    },
    {
     "data": {
      "text/plain": [
       "['d', 'f', 'g', 'h', 'h', 'j', 'j', 'u']"
      ]
     },
     "execution_count": 30,
     "metadata": {},
     "output_type": "execute_result"
    },
    {
     "data": {
      "text/plain": [
       "list"
      ]
     },
     "execution_count": 30,
     "metadata": {},
     "output_type": "execute_result"
    },
    {
     "data": {
      "text/plain": [
       "'d,f,g,a,a,j,j,u'"
      ]
     },
     "execution_count": 30,
     "metadata": {},
     "output_type": "execute_result"
    },
    {
     "data": {
      "text/plain": [
       "'d,f,g,h,h,j,j,u'"
      ]
     },
     "execution_count": 30,
     "metadata": {},
     "output_type": "execute_result"
    }
   ],
   "source": [
    "b=','.join(a)\n",
    "type(b)\n",
    "b\n",
    "c=b.split(',')\n",
    "c\n",
    "type(c)\n",
    "b.replace('h','a')\n",
    "b"
   ]
  },
  {
   "cell_type": "markdown",
   "metadata": {},
   "source": [
    "## 五、各类能否被修改（Mutable, Immutable）"
   ]
  },
  {
   "cell_type": "markdown",
   "metadata": {},
   "source": [
    "#####  布尔bool-------------------------------不可以============数组list---------------------------------可以\n",
    "#####  整型int----------------------------------不可以============集合set---------------------------------可以\n",
    "#####  浮点float-------------------------------不可以============字典dict--------------------------------可以  \n",
    "#####  字符串str------------------------------不可以   \n",
    "#####  tuple------------------------------------不可以\n",
    "#####  frozenset------------------------------不可以\n"
   ]
  },
  {
   "cell_type": "code",
   "execution_count": 50,
   "metadata": {
    "collapsed": false
   },
   "outputs": [
    {
     "name": "stdout",
     "output_type": "stream",
     "text": [
      "hello id is 1712960255120\n",
      "Yello id is 1712960834672\n",
      "Yellow id is 1712960834840\n"
     ]
    }
   ],
   "source": [
    "###   str\n",
    "s='hello'\n",
    "print(\"{} id is {}\".format(s,id(s)))\n",
    "s='Yello'\n",
    "print(\"{} id is {}\".format(s,id(s)))\n",
    "s= s+'w'\n",
    "print(\"{} id is {}\".format(s,id(s)))          #改变了储存编码,说明str不可修改"
   ]
  },
  {
   "cell_type": "code",
   "execution_count": 53,
   "metadata": {
    "collapsed": false
   },
   "outputs": [
    {
     "name": "stdout",
     "output_type": "stream",
     "text": [
      "1712960624456\n",
      "['a']\n",
      "1712960624456\n",
      "['a', 'b']\n"
     ]
    }
   ],
   "source": [
    "#list\n",
    "\n",
    "def buggy(arg, result=[]):\n",
    "    print(id(result))\n",
    "    result.append(arg)\n",
    "    print(result)\n",
    "    \n",
    "buggy('a')\n",
    "buggy('b') # expect ['b']"
   ]
  },
  {
   "cell_type": "code",
   "execution_count": 52,
   "metadata": {
    "collapsed": false
   },
   "outputs": [
    {
     "name": "stdout",
     "output_type": "stream",
     "text": [
      "before number is labeled 1784330992, value 10\n",
      "imu_number is labeled 1784330992, value 10\n",
      "after number is labeled 1784331312, value 20, outside imu_number is 10\n"
     ]
    }
   ],
   "source": [
    "###    int\n",
    "imu_number = 10\n",
    "def updateNumber(number):\n",
    "    print(\"before number is labeled {}, value {}\".format(id(number),number))    \n",
    "    print(\"imu_number is labeled {}, value {}\".format(id(imu_number),imu_number))    \n",
    "    number = 20\n",
    "    print(\"after number is labeled {}, value {}, outside imu_number is {}\".format(id(number),number,imu_number)) \n",
    "     #number的地址变了\n",
    "updateNumber(imu_number)"
   ]
  },
  {
   "cell_type": "markdown",
   "metadata": {},
   "source": [
    "## 六 、答题式input"
   ]
  },
  {
   "cell_type": "markdown",
   "metadata": {},
   "source": [
    "#### 5.1\n",
    "     (1)将问题储存在变量中    随机数\n",
    "     (2打印输出结果  %s 字符串(默认!!!!!!!!!) %f %.1f 浮点 %d 整数\n",
    "     若输出的有字符串     %\n",
    "     print(\"So, you're %s old, %s tall and %s heavy.\" % (age, height, weight))  # 用%\n",
    "     print('you answer is',first_num,'+',second_num,'=',first_num+second_num)   #同时输出字符与数字\n",
    "     若直接输出结果\n",
    "     print(first_num,\"+\",second_num,\"=\",float(first_num)+float(second_num))  #直接计算"
   ]
  },
  {
   "cell_type": "code",
   "execution_count": 66,
   "metadata": {
    "collapsed": false
   },
   "outputs": [
    {
     "name": "stdout",
     "output_type": "stream",
     "text": [
      "Please enter the first number:\n",
      ">>>19.2\n",
      "Please enter the second number:\n",
      ">>>3\n",
      "Got it!\n",
      "your answer is 19.2 + 3 = 22.2\n"
     ]
    }
   ],
   "source": [
    "first_num = input(\"Please enter the first number:\\n>>>\")\n",
    "second_num = input(\"Please enter the second number:\\n>>>\")\n",
    "print(\"Got it!\")\n",
    "print('your answer is',first_num,\"+\",second_num,\"=\",float(first_num)+float(second_num))"
   ]
  },
  {
   "cell_type": "code",
   "execution_count": 64,
   "metadata": {
    "collapsed": false
   },
   "outputs": [
    {
     "name": "stdout",
     "output_type": "stream",
     "text": [
      "Please enter the first number:\n",
      ">>>19.2\n",
      "Please enter the second number:\n",
      ">>>3\n",
      "you answer is 19.2 + 3.0 = 22.2\n"
     ]
    }
   ],
   "source": [
    "first_num = float(input(\"Please enter the first number:\\n>>>\"))\n",
    "second_num = float(input(\"Please enter the second number:\\n>>>\"))\n",
    "print('you answer is %.1f + %.1f = %.1f'%(first_num,second_num,first_num+second_num))    #不能自动输出以为小数"
   ]
  },
  {
   "cell_type": "markdown",
   "metadata": {},
   "source": [
    "## 七、常见的公式\n",
    "####  7.1 重要公式\n",
    "##### 7.1.1 输出全部结果      \n",
    "\n",
    "       from IPython.core.interactiveshell import InteractiveShell\n",
    "       InteractiveShell.ast_node_interactivity = \"all\"\n",
    "       \n",
    "##### 7.1.2 计时器 \n",
    "\n",
    "       from time import clock\n",
    "\n",
    "       def timer(f):\n",
    "           def _f(*args):\n",
    "               t0 = clock()\n",
    "               f(*args)\n",
    "               return clock() - t0\n",
    "           return _f\n",
    "           \n",
    "##### 7.1.3 生成随机数\n",
    "\n",
    "          from random import randint\n",
    "          mystery = randint(1, 100)   #产生[1,100]的随机整数\n",
    "          from random import random\n",
    "          random() #产生[0,1)随机数\n",
    "          \n",
    "#### 7.2 数学计算\n",
    "       \n",
    "            import math\n",
    "            \n",
    "            math.ceil(6.3)向上取整 7\n",
    "            math.pow((3,2) 次方  3**2\n",
    "            math.sqrt()  开平方\n",
    "            math.pie #π\n",
    "              \n",
    "    \n",
    "       \n",
    "       \n",
    "#### 7.3 循环语句 for、while、filter\n",
    "     \n",
    "     7.3.1 for\n",
    "         \n",
    "         (1) 三种排列\n",
    "         \n",
    "            判断==是否等于、<=小于等于 没有switch case\n",
    "      \n",
    "           1.for i in range(5):    # 01234    range(1,10,2) 间隔 1 3 5 7 9\n",
    "               print('* '*(5-i)+'o '*(i+1))     ## 这个地方标准格式是四个空格的缩进\n",
    "              \n",
    "           2.for i in range(5):\n",
    "                 for j in range(5 + 1):          ##三种输出结果一致\n",
    "                     if i + j > 4:\n",
    "                        print(\"o \", end=\"\")\n",
    "                     else:\n",
    "                        print(\"* \", end=\"\")\n",
    "                 print(\"\") \n",
    "            \n",
    "           3.for i in range(5):\n",
    "                 for j in range(5-i):\n",
    "                     print('* ',end='')\n",
    "                 for k in range(i+1):\n",
    "                     print('o ',end='')\n",
    "                 print('\\n')\n",
    "            \n",
    "            \n",
    "          (2) 两种改写\n",
    "           \n",
    "             num_list = []\n",
    "             for i in range(0, 10):\n",
    "                if i % 2 == 1:\n",
    "                    num_list.append(i)\n",
    "             num_list\n",
    "           \n",
    "             两种一样\n",
    "             num_list = [i for i in range(0,10) if i % 2 == 1]\n",
    "             num_list\n",
    "             \n",
    "          (3)返回list中的每一个元素 \n",
    "            \n",
    "            1. for day in weekdays:   \n",
    "                 print(day)\n",
    "          \n",
    "            2.enumerate(my_list, 1)可以计数\n",
    "            \n",
    "              my_list = ['Jan', 'Feb', 'Mar']\n",
    "              for c, value in enumerate(my_list, 1):   \n",
    "                  print(c, value)  \n",
    "              ##    \n",
    "               1 Jan\n",
    "               2 Feb\n",
    "               3 Mar\n",
    "               \n",
    "          (4)elif else\n",
    "          \n",
    "             possibility_to_rain = 0.7\n",
    "\n",
    "             if possibility_to_rain > 0.8:\n",
    "                 print(\"Do take your umberalla with you.\") ## 这个地方标准格式是四个空格的缩进  \n",
    "    \n",
    "             elif possibility_to_rain > 0.3:\n",
    "                 print(\"Take your umberalla just in case. hhhaha\")\n",
    "    \n",
    "             else:\n",
    "                 print(\"Enjoy the sunshine!\")\n",
    "               \n",
    "      7.3.2  while\n",
    "          \n",
    "          (1)布尔判断，是就进行循环\n",
    "             weekdays = ['Monday','Tuesday','Wednesday','Thursday','Friday']\n",
    "             i = 0\n",
    "             while i < len(weekdays):   \n",
    "                print(weekdays[i])\n",
    "                i +=1\n",
    "          (2)break、else\n",
    "          \n",
    "            1.while condition:\n",
    "                  statements_1\n",
    "              else:                 如果没有break，就需要else\n",
    "                  statments_2 \n",
    "                  \n",
    "            2.cnt = 1\n",
    "              while True:\n",
    "                   print(\"cnt = %d\" % cnt)\n",
    "                   ch = input('Do you want to continue? [y:n]: ')\n",
    "                   if ch == 'y':\n",
    "                   cnt += 1\n",
    "                   else:\n",
    "                        break\n",
    "                        \n",
    "            3.while、for中的else，如果遇到break，则不会运行else\n",
    "            \n",
    "             for i in range(10):                                          ##0\n",
    "                 print(i)                                                   1\n",
    "                 if i == 5:                                                 2\n",
    "                 break                                                      3\n",
    "             else:                                                          4\n",
    "                 print(\"no break\")                                         5\n",
    "           \n",
    "           \n",
    "             for i in range(10):                                           ##0\n",
    "                 print(i)                                                    1\n",
    "                 if i == 10:                                                 ...\n",
    "                 break                                                       9\n",
    "             else:                                                           no break\n",
    "                 print(\"no break\") 没有遇到就会输出\n",
    "                 \n",
    "            4.while True:#一定能够要发现break的条件，否则死机\n",
    "           \n",
    "        7.3.3 filter过滤\n",
    "        \n",
    "           my_list = [1, 5, 4, 6, 8, 11, 3, 12]\n",
    "\n",
    "           new_list = list(filter(lambda x: (x%2 == 0) , my_list))  #将满足条件的过滤出来\n",
    "\n",
    "           # Output: [4, 6, 8, 12]\n",
    "           new_list\n",
    "           \n",
    "          [i for i in my_list if i%2==0]  ##常用，易读\n",
    "          \n",
    "          \n",
    "           \n",
    "#### 7.4 自定义公式def、lambda\n",
    "\n",
    "     7.4.1  自定义公式def\n",
    "           \n",
    "           (1)参数问题\n",
    "           \n",
    "            1.*----list   **-----dictionary  括号里面包含参数，使得编码模块化，还可以重用\n",
    "            \n",
    "                def print_all_args(req1, *args, **kwargs):  \n",
    "                    print('required arg1:', req1)\n",
    "                    print('Positional args:', args)\n",
    "                    print('Keyword args:', kwargs)\n",
    "           \n",
    "                print_all_args(1,2,3,3,4,4,4)\n",
    "                ##required arg1: 1\n",
    "                Positional args: (2, 3, 3, 4, 4, 4)\n",
    "                Keyword args: {}\n",
    "            \n",
    "           2.有默认，则参数不足也可以正常运行\n",
    "        \n",
    "               def menu(wine, entree, dessert='pudding'):  ##由于甜点有默认的，所以输出两个参数也可以正常运行\n",
    "                   return {'wine':wine, 'entree':entree, 'dessert':dessert}\n",
    "\n",
    "               menu('chardonnay', 'chicken')\n",
    "           \n",
    "           3.参数=None 使得list不会被改变\n",
    "           \n",
    "               def buggy(arg, result=[]):\n",
    "                   result.append(arg)\n",
    "                   print(result)\n",
    "  \n",
    "               buggy('a')\n",
    "               buggy('b') # expect ['b']\n",
    "               buggy('c') # expect ['c']\n",
    "               ##['a']\n",
    "                 ['a', 'b']\n",
    "                 ['a', 'b', 'c']\n",
    "          \n",
    "              由于list可更改，所以会改变 我们可以通过none 强制改为空白\n",
    "           \n",
    "               def nonbuggy(arg, result=None):\n",
    "                   if result is None:\n",
    "                   result = []\n",
    "                   result.append(arg)\n",
    "                   print(result)\n",
    "\n",
    "               nonbuggy('a')\n",
    "               nonbuggy('b')\n",
    "              #['a']\n",
    "               ['b']\n",
    "               \n",
    "            4.参数可以是函数  嵌套传递函数\n",
    "              \n",
    "              def binary_operation(func, op1, op2):\n",
    "                  return func(op1, op2)\n",
    "    \n",
    "              def add(op1, op2):\n",
    "                  return op1 + op2\n",
    "\n",
    "              def sub(op1, op2):\n",
    "                  return op1 - op2\n",
    "\n",
    "              print(\"1 + 2 =\", binary_operation(add, 1, 2))\n",
    "              print(\"1 - 3 =\", binary_operation(sub, 1, 3))\n",
    "              \n",
    "              返回函数--------------------------------------\n",
    "              \n",
    "              def exp_factory(n):\n",
    "                  def exp(a):\n",
    "                      return a ** n\n",
    "                  return exp\n",
    "              \n",
    "              exp_factory(2)(3)   # 9 两个括号\n",
    "\n",
    "       (2).pass \\return true\n",
    "       \n",
    "             1.pass\n",
    "                  def do_nothing():\n",
    "                      pass   #空的\n",
    "                  type(do_nothing)\n",
    "       \n",
    "             2.return\n",
    "                  def im_handsome():\n",
    "                      return True  #永远返回true\n",
    "                      \n",
    "       (3) 注意类型问题\n",
    "       \n",
    "           def greeting(name: str) -> str:  #greeting(1) 输不出结果,给个提示，输入与输出的数据类型说明\n",
    "               return 'Hello ' + name\n",
    "               \n",
    "       (4) 计算时间\n",
    "       \n",
    "           #判断是否数字重复使用了（不用dictionary）\n",
    "           def has_duplicate(l):\n",
    "               import time\n",
    "               start = time.time()\n",
    "    \n",
    "                rst = False\n",
    "                for i in range(len(l)):\n",
    "                    for j in range(i + 1, len(l)):\n",
    "                        if l[i] == l[j]:\n",
    "                        rst = True\n",
    "        \n",
    "               t = time.time() - start\n",
    "    \n",
    "               return rst, len(l), t\n",
    "               \n",
    "      7.4.2  lambda命名函数-----简单的，有限制        \n",
    "       \n",
    "        (1)double = lambda x: x * 2\n",
    "\n",
    "           # Output: 10\n",
    "            double(5)\n",
    "       \n",
    "        \n",
    "    \n",
    "          \n",
    "       \n",
    "#### 7.5 排序    \n",
    "\n",
    "      1.排序nlogn  nums.sort()   在原来基础上排序 nums.sort(reverse=True) 降序排序\n",
    "               sorted(nums)  创建一个新数组排序sorted(nums,reverse=True)\n",
    "               \n",
    ">- **内部都必须是同一个类型  int和float之间可以**\n",
    "\n",
    ">- **只有sorted()可以对字符串进行排序，但输出的结果是数组（可以用join变成字符串)**\n",
    "\n",
    ">- **key:**\n",
    "   * sorted(dictionary,key=dictionary.get,reverse=True) 字典按照value的值由大到小排序\n",
    "   * sorted(list,key=len) 数组按照每个元素的长度从小到大排序\n",
    "\n",
    "               \n",
    "#### 7.6 作图\n",
    "  \n",
    "     1.简单线性\n",
    "       bal_records=[10500.0, 11025.0, 11576.25, 12155.0625]\n",
    "       import matplotlib.pyplot as plt\n",
    "       fig, ax = plt.subplots()\n",
    "       ax.plot([i for i in range(1, 4+1)],bal_records)   #在画布上画图  \n",
    "       ax.set(xlabel='n th year', ylabel='Money',title='How much I got') #x轴、y轴、标题\n",
    "       ax.grid()\n",
    "      \n",
    "       plt.show()  #显示画布\n",
    "       \n",
    "     \n",
    "               \n",
    "#### 7.6 其他小工具\n",
    "\n",
    ">      7.6.1.id()----------------------返回储存编码 id()\n",
    "   \n",
    ">      7.6.2. 打印全部\n",
    "         \n",
    "          from IPython.core.interactiveshell import InteractiveShell\n",
    "          InteractiveShell.ast_node_interactivity = \"all\"\n",
    "       \n",
    ">      7.6.3.timer()--------------------计时器 \n",
    "      \n",
    "          from time import clock   clock() 返回cpu时间\n",
    "          def timer(f):\n",
    "              def _f(*args):\n",
    "                  t0 = clock()  \n",
    "                  f(*args)\n",
    "                  return clock() - t0   #运行结束时间-运行开始时间\n",
    "              return _f\n",
    "              \n",
    "         timer(delete_elem)(x, -1)\n",
    "       \n",
    ">       7.6.4.randint(1, 100)-----------产生随机数\n",
    "          \n",
    "          from random import randint\n",
    "          mystery = randint(1, 100)   #产生1-100的数\n",
    "       \n",
    ">       7.6.5 记录函数文档docstring,用.__doc__可以输出该函数所记录的解释文档\n",
    "          \n",
    "          print(print.__doc__)\n",
    "        \n",
    ">       7.6.6 map--------支持多个function传入，将多个参数值输入，输出函数输出值\n",
    "       \n",
    "        items = [1, 2, 3, 4, 5]\n",
    "        squared = list(map(lambda x: x**2, items)) #用map更好读\n",
    "        squared\n",
    "        \n",
    ">       7.6.7 zip 返回第i个元素来自第i个参数\n",
    "       \n",
    "        x=list(zip(*rst))[0]   将list中的每个小组的第一个提取出来\n",
    "        y = list(zip(*rst))[1]\n",
    "       \n",
    ">       7.6.8 reduce\n",
    "         \n",
    "        (1)#连加\n",
    "        \n",
    "           from functools import reduce\n",
    "           reduce(lambda x,y: x+y, [47,11,42,13])  \n",
    "         ------------------------------------------\n",
    "           reduce(lambda x, y: x+y, range(1,101))\n",
    "           \n",
    "        (2)连比\n",
    "        \n",
    "           f = lambda a,b: a if (a > b) else b\n",
    "           reduce(f, [47,11,42,102,13])\n",
    "        ---------------------------------------------------\n",
    "           f=[47,11,42,102,13]\n",
    "           maximum=f[0]\n",
    "           for i in range(1,len(f)):\n",
    "           if f[i]> maximum:\n",
    "              maximum=f[i]\n",
    "              a=i\n",
    "           print(maximum,a)\n",
    "           \n",
    ">        7.6.8try except-------------------有个地方必须执行下去，不希望前面出错\n",
    "        \n",
    "           def binary_operation(func, op1, op2):\n",
    "               return func(op1, op2)\n",
    "       \n",
    "           def div(op1, op2):\n",
    "               try:\n",
    "                   return op1 / op2\n",
    "               except ZeroDivisionError:\n",
    "                   print(\"Division by zero!\")\n",
    "\n",
    "           print(\"5 / 2 = \", binary_operation(div, 5, 2))\n",
    "           \n",
    ">         7.6.9 pip\n",
    "         \n",
    "         pip intall +package名称\n",
    "         pip freeze > newrequire.txt ##将所有安装过的package用txt打印出来D:\\python_lec>pip freeze > newrequre.txt\n",
    "         pip 下载包和anacoda下载\n",
    "         \n",
    ">        "
   ]
  },
  {
   "cell_type": "code",
   "execution_count": null,
   "metadata": {
    "collapsed": true
   },
   "outputs": [],
   "source": [
    "\"D:\\python_lec\""
   ]
  },
  {
   "cell_type": "code",
   "execution_count": null,
   "metadata": {
    "collapsed": true
   },
   "outputs": [],
   "source": [
    "###猜数小游戏\n",
    "\n",
    "from random import randint\n",
    "mystery = randint(1, 100)\n",
    "times = 3\n",
    "print(\"I've thought a number from 1 to 100. You have %s times to guess it out.\" % times)\n",
    "\n",
    "def guess_number(times):\n",
    "    for i in range(0, times):\n",
    "        user_input = int(input(\"Please enter a number:\\n>>> \"))\n",
    "        if user_input == mystery:\n",
    "            print(\"Great, you are right, the number is %s.\" % mystery)\n",
    "            break\n",
    "        elif user_input > mystery:\n",
    "            print(\"Your input is too big.\")\n",
    "            print(\"You have %s time(s) left. Good luck!\" % (times - i))\n",
    "        else:\n",
    "            print(\"Your input is too small.\")\n",
    "            print(\"You have %s time(s) left. Good luck!\" % (times - i))\n",
    "\n",
    "    print(\"\")\n",
    "    print(\"Game is over...\")"
   ]
  },
  {
   "cell_type": "markdown",
   "metadata": {
    "collapsed": true
   },
   "source": [
    "### 算术题，算π\n",
    "### 方法一\n",
    "\n",
    "$$\n",
    "\\frac{\\pi}{4} = 1-\\frac{1}{3}+\\frac{1}{5}-\\frac{1}{7}+\\frac{1}{9}+…\n",
    "$$"
   ]
  },
  {
   "cell_type": "code",
   "execution_count": 8,
   "metadata": {
    "collapsed": false
   },
   "outputs": [
    {
     "data": {
      "text/plain": [
       "3.1416026536897204"
      ]
     },
     "execution_count": 8,
     "metadata": {},
     "output_type": "execute_result"
    }
   ],
   "source": [
    "def pai(i):\n",
    "    a=-1/(2*i-1)*(-1)**i\n",
    "    return a\n",
    "sum(map(pai,range(1,100000)))*4"
   ]
  },
  {
   "cell_type": "code",
   "execution_count": 4,
   "metadata": {
    "collapsed": false
   },
   "outputs": [
    {
     "name": "stdout",
     "output_type": "stream",
     "text": [
      "3.1416026536897204\n"
     ]
    }
   ],
   "source": [
    "def pai2(n,m):\n",
    "    a=0\n",
    "    while n<m:\n",
    "        a=a+-1/(2*n-1)*(-1)**n\n",
    "        n+=1\n",
    "    return a*4\n",
    "print(pai2(1,100000))"
   ]
  },
  {
   "cell_type": "code",
   "execution_count": 13,
   "metadata": {
    "collapsed": false
   },
   "outputs": [
    {
     "name": "stdout",
     "output_type": "stream",
     "text": [
      "3.1416026536897204\n"
     ]
    }
   ],
   "source": [
    "a=0\n",
    "for n in range(1,100000):\n",
    "    a=a+-1/(2*n-1)*(-1)**n\n",
    "print(a*4)"
   ]
  },
  {
   "cell_type": "code",
   "execution_count": 17,
   "metadata": {
    "collapsed": false
   },
   "outputs": [
    {
     "data": {
      "text/plain": [
       "3.1416026536897204"
      ]
     },
     "execution_count": 17,
     "metadata": {},
     "output_type": "execute_result"
    }
   ],
   "source": [
    "n=1\n",
    "a=0\n",
    "while n<100000:\n",
    "    a=a+-1/(2*n-1)*(-1)**n\n",
    "    n+=1\n",
    "a*4"
   ]
  },
  {
   "cell_type": "markdown",
   "metadata": {},
   "source": [
    "### 方法二: 蒙特卡洛模拟\n",
    "想象一个圆形靶子，我们不停的向靶面射击, 命名圆内的我们算是“击中 也就是 $x^2 + y^2 ≤ 1$.<br/>\n",
    "假如我们不停的射击，直到我们把这个方形的靶子全部覆盖(打成了骰子)<br/>\n",
    "圆的面积应该是$$ S_{circle} = \\pi r^2 $$\n",
    "方形的面积应该是$$ S_{square} = a^2 $$\n",
    "也就是说 $$ S_{circle} /  S_{square} = \\pi r^2 / a^2$$\n",
    "$$ r = 1, a =2 $$\n",
    "hits / tries is approximately equal to the ratio of the areas\n",
    "of the circle\n",
    "那么$$ S_{circle} /  S_{square} = \\pi / 4$$\n",
    "那么预估的$$\\pi = 4 \\times (S_{circle} /  S_{square})$$\n",
    "![](circle.png)"
   ]
  },
  {
   "cell_type": "code",
   "execution_count": 55,
   "metadata": {
    "collapsed": false
   },
   "outputs": [
    {
     "data": {
      "text/plain": [
       "78505"
      ]
     },
     "execution_count": 55,
     "metadata": {},
     "output_type": "execute_result"
    },
    {
     "data": {
      "text/plain": [
       "3.1402"
      ]
     },
     "execution_count": 55,
     "metadata": {},
     "output_type": "execute_result"
    }
   ],
   "source": [
    "from random import random\n",
    "hits=0\n",
    "TRIES=100000\n",
    "for i in range(TRIES):                        \n",
    "    x = random()\n",
    "    y = random()\n",
    "    if x*x+y*y<=1:\n",
    "        hits+=1\n",
    "hits/TEST*4\n",
    "\n",
    "### another solution\n",
    "#   for i in range(TRIES):\n",
    "#        x = -1+2*random()\n",
    "#        y = -1+2*random()\n",
    "#        if x*x+y*y<=1:\n",
    "#        hits+=1\n"
   ]
  },
  {
   "cell_type": "markdown",
   "metadata": {},
   "source": [
    "## 八、板块module、包package"
   ]
  },
  {
   "cell_type": "markdown",
   "metadata": {},
   "source": [
    "### 8.1 两者区别\n",
    "#### (1)在引用的py文件并没有文件夹打包下，package=module\n",
    "#### (2) 有文件夹下，package>module\n",
    "\n",
    "     ##将report report2打包，放在文件夹里命名为reports，并删除源文件，之前的import就无效了，而变成\n",
    "     from reports import report1\n",
    "     report1.get_description()\n",
    "     在这里，reports文件夹就是一个package,而report就是一个module，小章节\n",
    "\n",
    "### 8.2 取特定一个、两个，取全部\n",
    "     从中拿一个\n",
    "     from report import get_description\n",
    "     get_description()\n",
    "     从中拿两个\n",
    "     from report import get_description, get_desc\n",
    "     get_description()\n",
    "     get_desc()\n",
    "     取全部，打点拿具体的\n",
    "     get_description()\n",
    "     report.get_desc()\n",
    "\n",
    "\n",
    "### 8.3 别名 as\n",
    "\n",
    "     from report import get_description as get_weather\n",
    "     get_weather()\n",
    "     \n",
    "### 8.4  __init__.py文件\n",
    "     \n",
    "     在3.3以前必须有__init__.py文件才可以认识package，现在通过目录就可以\n",
    "     \n",
    "### 8.5 有用的包\n",
    "  \n",
    "    8.5.1 Counter\n",
    "    \n",
    "       from collections import Counter\n",
    "       all_world=['hello','hello','hello','hello','你好']\n",
    "       c=Counter(all_world)\n",
    "       c 计算里面各个元素重复的次数\n"
   ]
  },
  {
   "cell_type": "markdown",
   "metadata": {},
   "source": [
    "## 九、文件"
   ]
  },
  {
   "cell_type": "markdown",
   "metadata": {},
   "source": [
    "#### 1.内存一清，就没有定义了，所以要对文件和硬盘进行一定操作，进行交流\n",
    "#### 2.进程与线程\n",
    "####    三步走---打开文件，写入test，关上文件\n",
    "####  'r'    读文件--默认\n",
    "#### 'w'   如果文件不存在，则创建一个文件。如果文件存在，则重写它\n",
    "####  'x'   创建新的文件，并可以写，若已经存在该文件名，会报错\n",
    "####  'a'   打开进行写入，如果文件存在，则追加到文件末尾\n",
    "####  'b'   二进制模式binary mode.\n",
    "####  't'    文本模式text mode \n",
    "####  'wt‘ 写文本\n",
    "#### ' rt'   读文本\n",
    "####  'wb' 写二进制文件\n",
    "####  ‘rb'  读二进制文件\n",
    "##  9.1文本文件\n",
    "### 9.1.1写入文本文件"
   ]
  },
  {
   "cell_type": "code",
   "execution_count": 19,
   "metadata": {
    "collapsed": false
   },
   "outputs": [
    {
     "data": {
      "text/plain": [
       "34"
      ]
     },
     "execution_count": 19,
     "metadata": {},
     "output_type": "execute_result"
    }
   ],
   "source": [
    "text = '''\\\n",
    "First line\n",
    "Second line\n",
    "Third line\n",
    "'''\n",
    "\n",
    "len(text)"
   ]
  },
  {
   "cell_type": "code",
   "execution_count": 21,
   "metadata": {
    "collapsed": false
   },
   "outputs": [],
   "source": [
    "fout = open('tmp1', 'wt')  \n",
    "ret = fout.write(text)                #将字符串写入流。返回写入的字符数（始终等于字符串的长度）。\n",
    "fout.close()"
   ]
  },
  {
   "cell_type": "code",
   "execution_count": 14,
   "metadata": {
    "collapsed": true
   },
   "outputs": [],
   "source": [
    "fout = open('tmp2', 'w')\n",
    "print(text, file=fout)       ##write（）不会像print（）那样添加任何空格或换行符。 print（）还提供了自定义其行为的可能性。\n",
    "fout.close()"
   ]
  },
  {
   "cell_type": "markdown",
   "metadata": {},
   "source": [
    "zen_of_py = '''\\\n",
    "The Zen of Python, by Tim Peters\n",
    "\n",
    "Beautiful is better than ugly.\n",
    "Explicit is better than implicit.\n",
    "Simple is better than complex.\n",
    "Complex is better than complicated.\n",
    "Flat is better than nested.\n",
    "Sparse is better than dense.\n",
    "Readability counts.\n",
    "Special cases aren't special enough to break the rules.\n",
    "Although practicality beats purity.\n",
    "Errors should never pass silently.\n",
    "Unless explicitly silenced.\n",
    "In the face of ambiguity, refuse the temptation to guess.\n",
    "There should be one-- and preferably only one --obvious way to do it.\n",
    "Although that way may not be obvious at first unless you're Dutch.\n",
    "Now is better than never.\n",
    "Although never is often better than *right* now.\n",
    "If the implementation is hard to explain, it's a bad idea.\n",
    "If the implementation is easy to explain, it may be a good idea.\n",
    "Namespaces are one honking great idea -- let's do more of those!\n",
    "'''"
   ]
  },
  {
   "cell_type": "code",
   "execution_count": 24,
   "metadata": {
    "collapsed": false
   },
   "outputs": [],
   "source": [
    "fout = open('zen_of_py ', 'w')\n",
    "size = len(zen_of_py)\n",
    "offset = 0\n",
    "chunk = 100\n",
    "###若数据很大，无法全部读取，例如视频，就可以这样写，一部分一部分的写\n",
    "\n",
    "while offset < size:\n",
    "    fout.write(zen_of_py[offset : offset+chunk])\n",
    "    offset += chunk\n",
    "\n",
    "fout.close()"
   ]
  },
  {
   "cell_type": "markdown",
   "metadata": {},
   "source": [
    "##  9.1文本文件\n",
    "### 9.1.2 读文本文件\n",
    "#####  read\n",
    ">调用read（）时要小心，不要使用大文件的参数。一个千兆字节的文件将消耗一个千兆字节的内存。\n",
    "read([size])方法从文件当前位置起读取size个字节，若无参数size，则表示读取至文件结束为止，它范围为字符串对象\n",
    "\n",
    "\n",
    "#####   readline()\n",
    ">从字面意思可以看出，该方法每次读出一行内容，所以，读取时占用内存小，比较适合大文件，该方法返回一个字符串对象。\n",
    "\n",
    "#####   readlines()\n",
    ">readlines()方法读取整个文件所有行，保存在一个列表(list)变量中，每行作为一个元素，但读取大文件会比较占内存\n",
    "\n",
    "####   for line in fin\n",
    ">一行一行的循环"
   ]
  },
  {
   "cell_type": "code",
   "execution_count": 25,
   "metadata": {
    "collapsed": false
   },
   "outputs": [
    {
     "name": "stdout",
     "output_type": "stream",
     "text": [
      "First line\n",
      "Second line\n",
      "Third line\n",
      "\n"
     ]
    }
   ],
   "source": [
    "fin = open('tmp1', 'rt')\n",
    "text = fin.read()    ##读出来   .write() 读输出字符串大小\n",
    "fin.close()\n",
    "print(text)"
   ]
  },
  {
   "cell_type": "code",
   "execution_count": 29,
   "metadata": {
    "collapsed": false
   },
   "outputs": [
    {
     "name": "stdout",
     "output_type": "stream",
     "text": [
      "fragment：    The Zen of Python, by Tim Peters\n",
      "\n",
      "Beautiful is better than ugly.\n",
      "Explicit is better than implicit.\n",
      "S\n",
      "fragment：    imple is better than complex.\n",
      "Complex is better than complicated.\n",
      "Flat is better than nested.\n",
      "Sparse\n",
      "fragment：     is better than dense.\n",
      "Readability counts.\n",
      "Special cases aren't special enough to break the rules.\n",
      "A\n",
      "fragment：    lthough practicality beats purity.\n",
      "Errors should never pass silently.\n",
      "Unless explicitly silenced.\n",
      "In\n",
      "fragment：     the face of ambiguity, refuse the temptation to guess.\n",
      "There should be one-- and preferably only on\n",
      "fragment：    e --obvious way to do it.\n",
      "Although that way may not be obvious at first unless you're Dutch.\n",
      "Now is \n",
      "fragment：    better than never.\n",
      "Although never is often better than *right* now.\n",
      "If the implementation is hard to\n",
      "fragment：     explain, it's a bad idea.\n",
      "If the implementation is easy to explain, it may be a good idea.\n",
      "Namespac\n",
      "fragment：    es are one honking great idea -- let's do more of those!\n",
      "\n"
     ]
    }
   ],
   "source": [
    "##分片读取文件，写文件，用chunk\n",
    "zen_of_py = ''\n",
    "fin = open('zen_of_py', 'r')\n",
    "chunk = 100\n",
    "\n",
    "while True:\n",
    "    fragment = fin.read(chunk)\n",
    "    if not fragment:\n",
    "        break\n",
    "    print('fragment：   ',fragment)\n",
    "    zen_of_py += fragment\n",
    "\n",
    "fin.close()"
   ]
  },
  {
   "cell_type": "code",
   "execution_count": 30,
   "metadata": {
    "collapsed": false
   },
   "outputs": [
    {
     "name": "stdout",
     "output_type": "stream",
     "text": [
      "First line\n",
      "Second line\n",
      "Third line\n"
     ]
    }
   ],
   "source": [
    "fin = open('tmp1', 'r')\n",
    "\n",
    "while True:\n",
    "    line = fin.readline()\n",
    "    if not line:\n",
    "        break\n",
    "    print(line, end='')\n",
    "\n",
    "fin.close()"
   ]
  },
  {
   "cell_type": "code",
   "execution_count": 51,
   "metadata": {
    "collapsed": false
   },
   "outputs": [
    {
     "name": "stdout",
     "output_type": "stream",
     "text": [
      "First line\n",
      "Second line\n",
      "Third line\n"
     ]
    }
   ],
   "source": [
    "fin = open('tmp1', 'r')\n",
    "for line in fin:          ###for 循环\n",
    "    print(line, end='')\n",
    "fin.close()"
   ]
  },
  {
   "cell_type": "code",
   "execution_count": 32,
   "metadata": {
    "collapsed": false
   },
   "outputs": [
    {
     "data": {
      "text/plain": [
       "['First line\\n', 'Second line\\n', 'Third line\\n']"
      ]
     },
     "execution_count": 32,
     "metadata": {},
     "output_type": "execute_result"
    }
   ],
   "source": [
    "fin = open('tmp1', 'r')\n",
    "lines = fin.readlines()\n",
    "fin.close()\n",
    "\n",
    "lines   ##list"
   ]
  },
  {
   "cell_type": "markdown",
   "metadata": {},
   "source": [
    "## 9.2二进制文件\n",
    "### 9.2.1写入文件"
   ]
  },
  {
   "cell_type": "code",
   "execution_count": 37,
   "metadata": {
    "collapsed": false
   },
   "outputs": [
    {
     "name": "stdout",
     "output_type": "stream",
     "text": [
      "b'\\x00\\x01\\x02\\x03\\x04\\x05\\x06\\x07\\x08\\t\\n\\x0b\\x0c\\r\\x0e\\x0f\\x10\\x11\\x12\\x13\\x14\\x15\\x16\\x17\\x18\\x19\\x1a\\x1b\\x1c\\x1d\\x1e\\x1f !\"#$%&\\'()*+,-./0123456789:;<=>?@ABCDEFGHIJKLMNOPQRSTUVWXYZ[\\\\]^_`abcdefghijklmnopqrstuvwxyz{|}~\\x7f\\x80\\x81\\x82\\x83\\x84\\x85\\x86\\x87\\x88\\x89\\x8a\\x8b\\x8c\\x8d\\x8e\\x8f\\x90\\x91\\x92\\x93\\x94\\x95\\x96\\x97\\x98\\x99\\x9a\\x9b\\x9c\\x9d\\x9e\\x9f\\xa0\\xa1\\xa2\\xa3\\xa4\\xa5\\xa6\\xa7\\xa8\\xa9\\xaa\\xab\\xac\\xad\\xae\\xaf\\xb0\\xb1\\xb2\\xb3\\xb4\\xb5\\xb6\\xb7\\xb8\\xb9\\xba\\xbb\\xbc\\xbd\\xbe\\xbf\\xc0\\xc1\\xc2\\xc3\\xc4\\xc5\\xc6\\xc7\\xc8\\xc9\\xca\\xcb\\xcc\\xcd\\xce\\xcf\\xd0\\xd1\\xd2\\xd3\\xd4\\xd5\\xd6\\xd7\\xd8\\xd9\\xda\\xdb\\xdc\\xdd\\xde\\xdf\\xe0\\xe1\\xe2\\xe3\\xe4\\xe5\\xe6\\xe7\\xe8\\xe9\\xea\\xeb\\xec\\xed\\xee\\xef\\xf0\\xf1\\xf2\\xf3\\xf4\\xf5\\xf6\\xf7\\xf8\\xf9\\xfa\\xfb\\xfc\\xfd\\xfe\\xff'\n"
     ]
    },
    {
     "data": {
      "text/plain": [
       "256"
      ]
     },
     "execution_count": 37,
     "metadata": {},
     "output_type": "execute_result"
    }
   ],
   "source": [
    "bdata = bytes(range(256))\n",
    "print(bdata)\n",
    "len(bdata)"
   ]
  },
  {
   "cell_type": "code",
   "execution_count": 39,
   "metadata": {
    "collapsed": false
   },
   "outputs": [
    {
     "name": "stdout",
     "output_type": "stream",
     "text": [
      "Write 256 bytes\n"
     ]
    }
   ],
   "source": [
    "fout = open('bfile', 'wb')\n",
    "ret = fout.write(bdata)\n",
    "fout.close()\n",
    "print('Write %d bytes' % ret)"
   ]
  },
  {
   "cell_type": "code",
   "execution_count": null,
   "metadata": {
    "collapsed": true
   },
   "outputs": [],
   "source": [
    "##一部分一部分的写入\n",
    "fout = open('bfile', 'wb')\n",
    "size = len(bdata)\n",
    "offset = 0\n",
    "chunk = 100\n",
    "\n",
    "while offset < size:\n",
    "    ret = fout.write(bdata[offset : offset+chunk])\n",
    "    print(ret)\n",
    "    offset += chunk\n",
    "\n",
    "fout.close()"
   ]
  },
  {
   "cell_type": "markdown",
   "metadata": {},
   "source": [
    "## 9.2二进制文件\n",
    "### 9.2.2读取文件"
   ]
  },
  {
   "cell_type": "code",
   "execution_count": 40,
   "metadata": {
    "collapsed": false
   },
   "outputs": [
    {
     "data": {
      "text/plain": [
       "256"
      ]
     },
     "execution_count": 40,
     "metadata": {},
     "output_type": "execute_result"
    }
   ],
   "source": [
    "fin = open('bfile', 'rb')\n",
    "bdata = fin.read()\n",
    "fin.close()\n",
    "len(bdata)"
   ]
  },
  {
   "cell_type": "markdown",
   "metadata": {},
   "source": [
    "## 9.3 关闭文件\n",
    "### 1.open、 write 、close 三步\n",
    ">fin = open('tmp1', 'rt')\n",
    "\n",
    ">text = fin.read()\n",
    "\n",
    ">fin.close()\n",
    "    \n",
    "### 2.with open、write二步\n",
    ">with open('tmp1', 'w') as fout:\n",
    "\n",
    ">fout.write(text)"
   ]
  },
  {
   "cell_type": "markdown",
   "metadata": {},
   "source": [
    "## 9.4 改变位置\n",
    "### 1.tell()\n",
    ">返回文件开头的当前字节\n",
    "\n",
    ">这只适用于ASCII编码的文本文件，其中每个字符存储在一个字节中。像UTF-8这样的编码可以使用每个字符不同的字节数。\n",
    "\n",
    "### 2.seek()\n",
    ">让您跳转到文件中的另一个字节\n",
    "\n",
    ">使用第二个参数调用call seek（）：seek（offset，origin）。\n",
    "- 如果origin为0（默认值），则从开始处偏移字节。\n",
    "- 如果原点为1，则从当前位置偏移。\n",
    "- 如果原点是2，则转到相对于结尾的偏移字节（即偏移必须为负）。\n",
    "\n",
    ">origin不是关键字参数。"
   ]
  },
  {
   "cell_type": "code",
   "execution_count": 41,
   "metadata": {
    "collapsed": false
   },
   "outputs": [
    {
     "name": "stdout",
     "output_type": "stream",
     "text": [
      "starting pos = 0\n",
      "# char read = 11\n",
      "ending pos = 12\n"
     ]
    }
   ],
   "source": [
    "fin = open('tmp1', 'r')\n",
    "print('starting pos =', fin.tell())   #返回当前流位置\n",
    "line = fin.readline()  \n",
    "line\n",
    "print('# char read =', len(line))\n",
    "print('ending pos =', fin.tell())\n",
    "fin.close()"
   ]
  },
  {
   "cell_type": "code",
   "execution_count": 42,
   "metadata": {
    "collapsed": false
   },
   "outputs": [
    {
     "data": {
      "text/plain": [
       "2"
      ]
     },
     "execution_count": 42,
     "metadata": {},
     "output_type": "execute_result"
    }
   ],
   "source": [
    "fin = open('bfile', 'rb')\n",
    "fin.seek(2)"
   ]
  },
  {
   "cell_type": "code",
   "execution_count": 43,
   "metadata": {
    "collapsed": false
   },
   "outputs": [
    {
     "name": "stdout",
     "output_type": "stream",
     "text": [
      "1\n",
      "255\n"
     ]
    }
   ],
   "source": [
    "fin = open('bfile', 'rb')\n",
    "fin.seek(-1, 2)\n",
    "bdata = fin.read()\n",
    "\n",
    "print(len(bdata))\n",
    "print(bdata[0])"
   ]
  },
  {
   "cell_type": "markdown",
   "metadata": {},
   "source": [
    "## 9.5结构化文本文件"
   ]
  },
  {
   "cell_type": "markdown",
   "metadata": {},
   "source": [
    "### 对于纯文本文件，唯一的组织级别是行（用换行符分隔）。有时你可能想要一个更丰富的结构。\n",
    "#### 引入额外的分隔符。             \n",
    "- 逗号分隔值（CSV）：\\t|              \n",
    "- HTML和XML:<，>              \n",
    "- JSON:{，}，[，] "
   ]
  },
  {
   "cell_type": "markdown",
   "metadata": {},
   "source": [
    "### 9.5.1 CSV"
   ]
  },
  {
   "cell_type": "markdown",
   "metadata": {},
   "source": [
    "**写入文件**\n",
    "\n",
    ">- writer 而不是write\n",
    "\n",
    ">- 文件wps打开的话，则无法改写\n",
    "\n",
    "**读取文件**\n",
    ">- reader 而不是read\n",
    "\n",
    ">- for row in csvin：一排一排的取，line也可以\n",
    "\n",
    "**字典格式读取csv.DictReader()**\n",
    "\n",
    ">- 若文件没有key，必须给明fieldnames，即给出key"
   ]
  },
  {
   "cell_type": "code",
   "execution_count": 75,
   "metadata": {
    "collapsed": true
   },
   "outputs": [],
   "source": [
    "import csv\n",
    "\n",
    "dc_heros = [\n",
    "    ['Flash', 'Barry Allen'],\n",
    "    ['Green Arrow', 'Oliver Queen'],\n",
    "    ['Atom', 'Ray Palmer'],\n",
    "    ['Bat Man', 'Bruce Wayne']\n",
    "]"
   ]
  },
  {
   "cell_type": "code",
   "execution_count": 45,
   "metadata": {
    "collapsed": true
   },
   "outputs": [],
   "source": [
    "with open('dc_heros.csv', 'w') as fout:\n",
    "    csvout = csv.writer(fout)\n",
    "    csvout.writerows(dc_heros)"
   ]
  },
  {
   "cell_type": "code",
   "execution_count": 76,
   "metadata": {
    "collapsed": false
   },
   "outputs": [
    {
     "name": "stdout",
     "output_type": "stream",
     "text": [
      "[['Name', 'Real Name'], [], ['Flash', 'Barry Allen'], [], ['Green Arrow', 'Oliver Queen'], [], ['Atom', 'Ray Palmer'], [], ['Bat Man', 'Bruce Wayne'], []]\n"
     ]
    }
   ],
   "source": [
    "with open('dc_heros.csv', 'r') as fin:\n",
    "    csvin = csv.reader(fin)\n",
    "    dc_heros = [row for row in csvin]\n",
    "\n",
    "print(dc_heros)"
   ]
  },
  {
   "cell_type": "code",
   "execution_count": 48,
   "metadata": {
    "collapsed": false
   },
   "outputs": [
    {
     "data": {
      "text/plain": [
       "[OrderedDict([('Name', 'Flash'), ('Real Name', 'Barry Allen')]),\n",
       " OrderedDict([('Name', 'Green Arrow'), ('Real Name', 'Oliver Queen')]),\n",
       " OrderedDict([('Name', 'Atom'), ('Real Name', 'Ray Palmer')]),\n",
       " OrderedDict([('Name', 'Bat Man'), ('Real Name', 'Bruce Wayne')])]"
      ]
     },
     "execution_count": 48,
     "metadata": {},
     "output_type": "execute_result"
    }
   ],
   "source": [
    "with open('dc_heros.csv', 'r') as fin:\n",
    "    csvin = csv.DictReader(fin, fieldnames=['Name', 'Real Name'])##必须给明fieldnames，即给出key\n",
    "    dc_heros = [row for row in csvin]\n",
    "\n",
    "dc_heros"
   ]
  },
  {
   "cell_type": "code",
   "execution_count": 53,
   "metadata": {
    "collapsed": false
   },
   "outputs": [
    {
     "data": {
      "text/plain": [
       "[OrderedDict([('Name', 'Flash'), ('Real Name', 'Barry Allen')]),\n",
       " OrderedDict([('Name', 'Green Arrow'), ('Real Name', 'Oliver Queen')]),\n",
       " OrderedDict([('Name', 'Atom'), ('Real Name', 'Ray Palmer')]),\n",
       " OrderedDict([('Name', 'Bat Man'), ('Real Name', 'Bruce Wayne')])]"
      ]
     },
     "execution_count": 53,
     "metadata": {},
     "output_type": "execute_result"
    }
   ],
   "source": [
    "dc_heros = [\n",
    "    {'Name': 'Flash',       'Real Name': 'Barry Allen'},   ##注意格式，类似字典，这样 csv.DictWriter就不需要加key\n",
    "    {'Name': 'Green Arrow', 'Real Name': 'Oliver Queen'},\n",
    "    {'Name': 'Atom',        'Real Name': 'Ray Palmer'},\n",
    "    {'Name': 'Bat Man',     'Real Name': 'Bruce Wayne'},\n",
    "]\n",
    "\n",
    "with open('dc_heros.csv', 'w') as fout:\n",
    "    cout = csv.DictWriter(fout, dc_heros[0].keys())\n",
    "    cout.writeheader()\n",
    "    cout.writerows(dc_heros)\n",
    "    \n",
    "with open('dc_heros.csv', 'r') as fin:\n",
    "    csvin = csv.DictReader(fin)\n",
    "    dc_heros = [row for row in csvin]\n",
    "\n",
    "dc_heros"
   ]
  },
  {
   "cell_type": "markdown",
   "metadata": {},
   "source": [
    "### 9.5.2 JSON------二进制格式保存和恢复任何对象"
   ]
  },
  {
   "cell_type": "markdown",
   "metadata": {},
   "source": [
    "#### pickle\n",
    "以特殊的二进制格式保存和恢复任何对象\n",
    "\n",
    "pickle模块对错误或恶意构建的数据不安全\n",
    "\n",
    ">- dumps转成字符串\n",
    "\n",
    ">- dump转成文件\n",
    "\n",
    ">- loads从字符串中拿出来"
   ]
  },
  {
   "cell_type": "code",
   "execution_count": 1,
   "metadata": {
    "collapsed": true
   },
   "outputs": [],
   "source": [
    "temperature = {\n",
    "    'avg': 20.0,\n",
    "    'daily': [\n",
    "        {'highest': 21.0, 'lowest': 19.0},\n",
    "        {'highest': 22.0, 'lowest': 18.0},\n",
    "        {'highest': 23.0, 'lowest': 17.0}\n",
    "    ]\n",
    "}"
   ]
  },
  {
   "cell_type": "code",
   "execution_count": 5,
   "metadata": {
    "collapsed": false
   },
   "outputs": [
    {
     "data": {
      "text/plain": [
       "str"
      ]
     },
     "execution_count": 5,
     "metadata": {},
     "output_type": "execute_result"
    }
   ],
   "source": [
    "import json\n",
    "\n",
    "temperature_json = json.dumps(temperature)\n",
    "type(temperature_json)"
   ]
  },
  {
   "cell_type": "code",
   "execution_count": 56,
   "metadata": {
    "collapsed": false
   },
   "outputs": [
    {
     "name": "stdout",
     "output_type": "stream",
     "text": [
      "{'avg': 20.0,\n",
      " 'daily': [{'highest': 21.0, 'lowest': 19.0},\n",
      "           {'highest': 22.0, 'lowest': 18.0},\n",
      "           {'highest': 23.0, 'lowest': 17.0}]}\n"
     ]
    }
   ],
   "source": [
    "temperature2 = json.loads(temperature_json)\n",
    "\n",
    "from pprint import pprint\n",
    "pprint(temperature2)"
   ]
  },
  {
   "cell_type": "markdown",
   "metadata": {},
   "source": [
    "## 9.6  os-----提供了许多系统功能\n",
    "### 9.6.1 路径path\n",
    ">**绝对路径与相对路径的区别** \n",
    "\n",
    ">- 1.绝对路径就是无论从外部还是内部访问，都能够通过此路径找到文件夹。\n",
    "\n",
    ">- 2.而相对路径是相对于自身的，其他位置的文件和路径，只能通过内部访问。\n",
    "\n",
    ">- 3.外部不能通过此路径访问到文件，通俗的来说，绝对路径是一条大家都能够通到目的地的路。\n",
    "\n",
    ">pos.path.isabs(path)判断是否为绝对路径的形式，但并不会判断该文件是否存在 \n",
    "\n",
    ">- 在WIndow系统下，如果输入的字符串以\" / \"开头，os.path.isabs()就会返回True\n",
    "\n",
    ">os.path.abspath()-----os.path.realpath()返回路径的绝对版本。\n",
    "\n",
    ">os.path.islink(path)测试路径是否是符号链接。\n",
    "\n",
    "#### . . /  上一级  . /  当前直接写目录名    下一级直接写目录名\n",
    "#### 文件\n",
    "\n",
    ">os.path.exists()判断是否存在\n",
    "\n",
    ">os.path.isfile(' ')判断是否是文件 \n",
    " \n",
    ">os.path.isdir('')判断是否是目录（文件夹）\n",
    " \n",
    "#### 目录\n",
    "\n",
    ">os.path.exists()判断是否存在\n",
    "\n",
    ">os.path.isdir('')判断是否是目录（文件夹）\n",
    "\n",
    "\n",
    ">os.path.islink(path)测试路径是否是符号链接。\n",
    "\n",
    "### 9.6.2 变更文件、目录\n",
    "#### 文件\n",
    ">os.rename('tmp2', 'tmp')改变文件名 \n",
    "\n",
    ">os.remove('')删除文件\n",
    "\n",
    "#### 目录\n",
    "\n",
    ">oos.mkdir('untitled')创建目录\n",
    "\n",
    ">os.rmdir('untitled')删除目录\n",
    "\n",
    "### 9.6.3其他工具\n",
    "#### 1.显示当前工作环境下的文件或目录\n",
    "\n",
    ">**os.listdir('.')返回包含目录中文件名的列表**\n",
    "\n",
    ">- 路径可以指定为str或bytes。如果路径是字节，返回的文件名也是字节；在所有其他情况下返回的文件名将是str。 \n",
    "\n",
    ">- 如果path为None，则使用path='.'\n",
    "\n",
    ">- 列表是任意顺序的。它不包括特殊条目“.”和“..”即使它们存在于目录中。\n",
    "\n",
    "#### 2.查找文件或目录\n",
    "\n",
    ">glob.glob('T*')找出包含（）匹配的目录或文件 \n",
    "\n",
    ">- import glob   glob.glob('T*')  编辑看\n",
    "\n",
    "('T*')所有开头是t的('*T*')所有文件名中包含t的  ? 记录字符的长度来匹配\n",
    "\n",
    ">- [abc]匹配字符a、b或c-----[!a b c]匹配除a、b或c之外的任何字符 \n",
    " * glob.glob('[e,t]*')以e或t开头的\n",
    " * glob.glob('*[f,t]*')所有包含e或t的\n",
    " \n",
    "#### 3.返回当前位置\n",
    ">-print(os.getpid())返回当前进程id。\n",
    ">-print(os.getcwd())返回表示当前工作目录\n",
    "\n",
    "### 9.6.4比较\n",
    "\n",
    "**Copy**:\n",
    "\n",
    "- 你有两个不同版本的文件，如果你编辑一个，另一个保持不变。如果删除其中一个，则另一个将保留在那里，但如果对其进行了编辑，则可能不相同。 \n",
    "- 两倍的磁盘空间（两个不同的文件）\n",
    "\n",
    "**Hard Link**:\n",
    "\n",
    "- 有一个文件有两个不同的文件名。如果您编辑一个，它将在所有文件名位置进行编辑。如果你删除一个，它仍然存在于其他地方\n",
    "- 磁盘上只有一个文件。\n",
    "\n",
    "**Soft Link**:\n",
    "\n",
    "- 一个文件有一个文件名，一个指针指向另一个文件名。\n",
    "- 如果你编辑链接，它实际上是在编辑原始文件。如果删除文件，链接将断开。如果删除链接，则文件将保持原位。\n",
    "- 磁盘上只有一个文件。\n",
    "\n",
    "\n",
    "**进程与线程的区别** \n",
    "到目前为止，我们编写的大多数程序在一个地方（一台机器）和一行中运行（顺序）。但我们可以在一次（并发）和多个地方（分布式计算或网络）执行多个精简操作。\n",
    "\n",
    "1、首先是定义\n",
    "\n",
    "进程：是执行中一段程序，即一旦程序被载入到内存中并准备执行，它就是一个进程。进程是表示资源分配的的基本概念，又是调度运行的基本单位，是系统中的并发执行的单位。\n",
    "\n",
    "线程：单个进程中执行中每个任务就是一个线程。线程是进程中执行运算的最小单位。\n",
    "\n",
    "2、一个线程只能属于一个进程，但是一个进程可以拥有多个线程。多线程处理就是允许一个进程中在同一时刻执行多个任务。\n",
    "\n",
    "3、线程是一种轻量级的进程，与进程相比，线程给操作系统带来侧创建、维护、和管理的负担要轻，意味着线程的代价或开销比较小。\n",
    "\n",
    "4、线程没有地址空间，线程包含在进程的地址空间中。线程上下文只包含一个堆栈、一个寄存器、一个优先权，线程文本包含在他的进程 的文本片段中，进程拥有的所有资源都属于线程。所有的线程共享进程的内存和资源。 同一进程中的多个线程共享代码段(代码和常量)，数据段(全局变量和静态变量)，扩展段(堆存储)。但是每个线程拥有自己的栈段， 寄存器的内容，栈段又叫运行时段，用来存放所有局部变量和临时变量。\n",
    "\n",
    "5、父和子进程使用进程间通信机制，同一进程的线程通过读取和写入数据到进程变量来通信。\n",
    "\n",
    "6、进程内的任何线程都被看做是同位体，且处于相同的级别。不管是哪个线程创建了哪一个线程，进程内的任何线程都可以销毁、挂起、恢复和更改其它线程的优先权。线程也要对进程施加控制，进程中任何线程都可以通过销毁主线程来销毁进程，销毁主线程将导致该进程的销毁，对主线程的修改可能影响所有的线程。\n",
    "\n",
    "7、子进程不对任何其他子进程施加控制，进程的线程可以对同一进程的其它线程施加控制。子进程不能对父进程施加控制，进程中所有线程都可以对主线程施加控制。\n",
    "\n",
    "相同点：\n",
    "\n",
    "进程和线程都有ID/寄存器组、状态和优先权、信息块，创建后都可更改自己的属性，都可与父进程共享资源、都不鞥直接访问其他无关进程或线程的资源。\n",
    "\n",
    "\n"
   ]
  },
  {
   "cell_type": "code",
   "execution_count": 2,
   "metadata": {
    "collapsed": false
   },
   "outputs": [
    {
     "data": {
      "text/plain": [
       "False"
      ]
     },
     "execution_count": 2,
     "metadata": {},
     "output_type": "execute_result"
    }
   ],
   "source": [
    "import os\n",
    "\n",
    "os.path.exists('.tmp1')"
   ]
  },
  {
   "cell_type": "code",
   "execution_count": 8,
   "metadata": {
    "collapsed": false,
    "scrolled": true
   },
   "outputs": [
    {
     "data": {
      "text/plain": [
       "True"
      ]
     },
     "execution_count": 8,
     "metadata": {},
     "output_type": "execute_result"
    }
   ],
   "source": [
    "os.path.exists('../code 1')"
   ]
  },
  {
   "cell_type": "code",
   "execution_count": 10,
   "metadata": {
    "collapsed": false
   },
   "outputs": [
    {
     "data": {
      "text/plain": [
       "False"
      ]
     },
     "execution_count": 10,
     "metadata": {},
     "output_type": "execute_result"
    }
   ],
   "source": [
    "os.path.isfile('../code 1')"
   ]
  },
  {
   "cell_type": "code",
   "execution_count": 9,
   "metadata": {
    "collapsed": false,
    "scrolled": true
   },
   "outputs": [
    {
     "data": {
      "text/plain": [
       "True"
      ]
     },
     "execution_count": 9,
     "metadata": {},
     "output_type": "execute_result"
    }
   ],
   "source": [
    "os.path.isdir('../code 1')"
   ]
  },
  {
   "cell_type": "code",
   "execution_count": 23,
   "metadata": {
    "collapsed": false
   },
   "outputs": [
    {
     "data": {
      "text/plain": [
       "True"
      ]
     },
     "execution_count": 23,
     "metadata": {},
     "output_type": "execute_result"
    }
   ],
   "source": [
    "os.path.isabs(\"C:\\imp\")"
   ]
  },
  {
   "cell_type": "code",
   "execution_count": 24,
   "metadata": {
    "collapsed": false
   },
   "outputs": [
    {
     "data": {
      "text/plain": [
       "['.ipynb_checkpoints',\n",
       " 'arrayutil.py',\n",
       " 'bfile',\n",
       " 'dc_heros.csv',\n",
       " 't8',\n",
       " 'tmp1',\n",
       " 'tmp2',\n",
       " 'zen_of_py',\n",
       " '__pycache__',\n",
       " '基础内容.ipynb',\n",
       " '算法.ipynb']"
      ]
     },
     "execution_count": 24,
     "metadata": {},
     "output_type": "execute_result"
    }
   ],
   "source": [
    "os.listdir('.')"
   ]
  },
  {
   "cell_type": "code",
   "execution_count": 67,
   "metadata": {
    "collapsed": false
   },
   "outputs": [
    {
     "data": {
      "text/plain": [
       "['arrayutil.py', 't8', 'tmp1', 'tmp2']"
      ]
     },
     "execution_count": 67,
     "metadata": {},
     "output_type": "execute_result"
    }
   ],
   "source": [
    "import glob\n",
    "\n",
    "glob.glob('*t*')"
   ]
  },
  {
   "cell_type": "code",
   "execution_count": 55,
   "metadata": {
    "collapsed": false
   },
   "outputs": [
    {
     "data": {
      "text/plain": [
       "['tmp1', 'tmp2']"
      ]
     },
     "execution_count": 55,
     "metadata": {},
     "output_type": "execute_result"
    }
   ],
   "source": [
    "glob.glob('????')"
   ]
  },
  {
   "cell_type": "code",
   "execution_count": 68,
   "metadata": {
    "collapsed": false
   },
   "outputs": [
    {
     "data": {
      "text/plain": [
       "['arrayutil.py', 'bfile', 't8', 'tmp1', 'tmp2', 'zen_of_py']"
      ]
     },
     "execution_count": 68,
     "metadata": {},
     "output_type": "execute_result"
    }
   ],
   "source": [
    "glob.glob('*[f,t]*')"
   ]
  },
  {
   "cell_type": "code",
   "execution_count": 69,
   "metadata": {
    "collapsed": false
   },
   "outputs": [
    {
     "name": "stdout",
     "output_type": "stream",
     "text": [
      "Thread <_MainThread(MainThread, started 7380)> says\" I'm the main program\n",
      "Thread <Thread(Thread-6, started 16024)> says\" I'm function 0Thread <Thread(Thread-7, started 7668)> says\" I'm function 1Thread <Thread(Thread-8, started 8884)> says\" I'm function 2\n",
      "\n",
      "\n",
      "Thread <Thread(Thread-9, started 11648)> says\" I'm function 3\n"
     ]
    }
   ],
   "source": [
    "import threading\n",
    "\n",
    "def do_this(what):\n",
    "    whoami(what)\n",
    "\n",
    "def whoami(what):\n",
    "    print('Thread %s says\" %s' % (threading.current_thread(), what))\n",
    "\n",
    "if __name__ == '__main__':\n",
    "    whoami(\"I'm the main program\")\n",
    "    for n in range(4):\n",
    "        p = threading.Thread(target=do_this, args=(\"I'm function %s\" % n,))\n",
    "        p.start()  "
   ]
  },
  {
   "cell_type": "code",
   "execution_count": 70,
   "metadata": {
    "collapsed": true
   },
   "outputs": [],
   "source": [
    "?threading.Thread()"
   ]
  },
  {
   "cell_type": "markdown",
   "metadata": {},
   "source": [
    "### 生成多个邮件\n",
    "我们想统一发送多封邮件，我们有一个姓名列表，一个邮件主题，我们想通过程序为每一个人生成一个邮件。"
   ]
  },
  {
   "cell_type": "code",
   "execution_count": 72,
   "metadata": {
    "collapsed": false
   },
   "outputs": [
    {
     "name": "stdout",
     "output_type": "stream",
     "text": [
      "hello ﻿张三\n",
      " \n",
      "  we want to invite you to join my party\n",
      "hello 李四\n",
      " \n",
      "  we want to invite you to join my party\n",
      "hello 王二\n",
      " \n",
      "  we want to invite you to join my party\n",
      "hello 麻子 \n",
      "  we want to invite you to join my party\n"
     ]
    }
   ],
   "source": [
    "with open('name.txt','r',encoding='UTF-8') as file_object:\n",
    "     lines=file_object.readlines()\n",
    "for line in lines:\n",
    "    print('hello',line,'\\n  we want to invite you to join my party')"
   ]
  },
  {
   "cell_type": "markdown",
   "metadata": {},
   "source": [
    "### 获取照片长宽\n",
    "大多数的文件头部保存有文件信息，例如jpeg文件头有 长、高信息，颜色，灰阶等。\n",
    "不用任何现成的库，我们获取图像文件jpeg的长宽信息\n",
    "注意，高 信息在 第164为开始，2字节\n",
    "宽信息是之后两字节"
   ]
  },
  {
   "cell_type": "code",
   "execution_count": 73,
   "metadata": {
    "collapsed": false
   },
   "outputs": [
    {
     "name": "stdout",
     "output_type": "stream",
     "text": [
      "The resolution of the image is 11824 x 8243\n"
     ]
    }
   ],
   "source": [
    "def jpeg_res(filename):\n",
    "    with open(filename,'rb') as img_file:\n",
    "        img_file.seek(163)\n",
    "        a=img_file.read(2)\n",
    "        height=(a[0]<< 8) + a[1]  ##<<位移\n",
    "        a=img_file.read(2)\n",
    "        width=(a[0]<< 8) + a[1] \n",
    "\n",
    "    print(\"The resolution of the image is\",width,\"x\",height)\n",
    "\n",
    "jpeg_res(\"签名.png\")"
   ]
  },
  {
   "cell_type": "markdown",
   "metadata": {},
   "source": [
    "## 如何合并文件并提起内容\n",
    "\n",
    "假设一个文件夹下面有很多excel文件，文件名符合以下规律\n",
    "```\n",
    "<project_name>_<number>\n",
    "```\n",
    "希望把数据提取出来并合并"
   ]
  },
  {
   "cell_type": "code",
   "execution_count": 77,
   "metadata": {
    "collapsed": true
   },
   "outputs": [],
   "source": [
    "import os\n",
    "import csv"
   ]
  },
  {
   "cell_type": "code",
   "execution_count": 78,
   "metadata": {
    "collapsed": false
   },
   "outputs": [
    {
     "data": {
      "text/plain": [
       "['粗钢_1.csv', '粗钢_2.csv', '粗钢_3.csv']"
      ]
     },
     "execution_count": 78,
     "metadata": {},
     "output_type": "execute_result"
    }
   ],
   "source": [
    "dir_name = \"data\"\n",
    "all_files=os.listdir(dir_name)\n",
    "all_files"
   ]
  },
  {
   "cell_type": "code",
   "execution_count": 80,
   "metadata": {
    "collapsed": false
   },
   "outputs": [],
   "source": [
    "row_steels=[]\n",
    "for fin in all_files :\n",
    "    with open(fin,'r') as row_steel:\n",
    "        csvin = csv.reader(row_steel)\n",
    "        dc_3=[row for row in csvin]\n",
    "    row_steels.append(dc_3)"
   ]
  },
  {
   "cell_type": "code",
   "execution_count": 81,
   "metadata": {
    "collapsed": true
   },
   "outputs": [],
   "source": [
    "with open('datas.csv', 'w') as fout:\n",
    "    csvout = csv.writer(fout)\n",
    "    csvout.writerows(row_steels)"
   ]
  },
  {
   "cell_type": "markdown",
   "metadata": {},
   "source": [
    "### 把以下字符串按照长度排序\n",
    "```\n",
    "Browse the docs online or download a copy of your own. Python's documentation, tutorials, and guides are constantly evolving.\n",
    "Python is an easy to learn, powerful programming language. It has efficient high-level data structures and a simple but effective approach to object-oriented programming. Python’s elegant syntax and dynamic typing, together with its interpreted nature, make it an ideal language for scripting and rapid application development in many areas on most platforms.\n",
    "The Python interpreter and the extensive standard library are freely available in source or binary form for all major platforms from the Python Web site, https://www.python.org/, and may be freely distributed. The same site also contains distributions of and pointers to many free third party Python modules, programs and tools, and additional documentation.\n",
    "```"
   ]
  },
  {
   "cell_type": "code",
   "execution_count": 91,
   "metadata": {
    "collapsed": true
   },
   "outputs": [],
   "source": [
    "strings=[\n",
    "    'Browse the docs online or download a copy of your own. Python\\'s documentation, tutorials, and guides are constantly evolving.',\n",
    "    'Python is an easy to learn, powerful programming language. It has efficient high-level data structures and a simple but effective approach to object-oriented programming. Python’s elegant syntax and dynamic typing, together with its interpreted nature, make it an ideal language for scripting and rapid application development in many areas on most platforms.',\n",
    "    'The Python interpreter and the extensive standard library are freely available in source or binary form for all major platforms from the Python Web site, https://www.python.org/, and may be freely distributed. The same site also contains distributions of and pointers to many free third party Python modules, programs and tools, and additional documentation.']\n"
   ]
  },
  {
   "cell_type": "code",
   "execution_count": 92,
   "metadata": {
    "collapsed": false
   },
   "outputs": [
    {
     "data": {
      "text/plain": [
       "[\"Browse the docs online or download a copy of your own. Python's documentation, tutorials, and guides are constantly evolving.\",\n",
       " 'The Python interpreter and the extensive standard library are freely available in source or binary form for all major platforms from the Python Web site, https://www.python.org/, and may be freely distributed. The same site also contains distributions of and pointers to many free third party Python modules, programs and tools, and additional documentation.',\n",
       " 'Python is an easy to learn, powerful programming language. It has efficient high-level data structures and a simple but effective approach to object-oriented programming. Python’s elegant syntax and dynamic typing, together with its interpreted nature, make it an ideal language for scripting and rapid application development in many areas on most platforms.']"
      ]
     },
     "execution_count": 92,
     "metadata": {},
     "output_type": "execute_result"
    }
   ],
   "source": [
    "sort_strings=sorted(strings,key=len)\n",
    "sort_strings"
   ]
  },
  {
   "cell_type": "markdown",
   "metadata": {},
   "source": [
    "### 词频统计\n",
    "你有一个目录，放了你一个月的日记，都是 txt，为了避免分词的问题，假设内容都是英文，请统计出你认为每篇日记最重要的词。\n",
    "词频统计NARTPK"
   ]
  },
  {
   "cell_type": "code",
   "execution_count": 94,
   "metadata": {
    "collapsed": false
   },
   "outputs": [],
   "source": [
    "with open('oldman.txt', 'r') as fin:\n",
    "    all_text = fin.readlines() ##都成list\n",
    "    all_strings=(''.join(all_text))\n",
    "    words=all_strings.split(' ')\n",
    "# your code"
   ]
  },
  {
   "cell_type": "code",
   "execution_count": 95,
   "metadata": {
    "collapsed": false
   },
   "outputs": [
    {
     "data": {
      "text/plain": [
       "{'The': 125,\n",
       " 'Old': 1,\n",
       " 'Man': 2,\n",
       " 'and': 828,\n",
       " 'the': 1430,\n",
       " 'Sea': 1,\n",
       " 'He': 172,\n",
       " 'was': 283,\n",
       " 'an': 19,\n",
       " 'old': 159,\n",
       " 'man': 150,\n",
       " 'who': 17,\n",
       " 'fished': 3,\n",
       " 'alone': 10,\n",
       " 'in': 227,\n",
       " 'a': 260,\n",
       " '\\nskiff': 1,\n",
       " 'Gulf': 3,\n",
       " 'Stream': 1,\n",
       " 'he': 565,\n",
       " 'had': 140,\n",
       " 'gone': 13,\n",
       " 'eighty-four': 1,\n",
       " 'days': 10,\n",
       " 'now': 79,\n",
       " 'without': 10,\n",
       " 'taking': 4,\n",
       " 'fish': 170,\n",
       " 'In\\n': 1,\n",
       " 'first': 18,\n",
       " 'forty': 3,\n",
       " 'boy': 76,\n",
       " 'been': 24,\n",
       " 'with': 138,\n",
       " 'him': 142,\n",
       " 'But': 124,\n",
       " 'after': 18,\n",
       " 'boy鈥檚': 2,\n",
       " 'parents': 1,\n",
       " '\\n': 1,\n",
       " 'told': 9,\n",
       " 'that': 191,\n",
       " 'definitely': 1,\n",
       " 'finally': 1,\n",
       " 'salao': 1,\n",
       " 'which': 10,\n",
       " 'is': 135,\n",
       " 'worst': 1,\n",
       " 'form': 1,\n",
       " 'of': 381,\n",
       " 'unlucky': 1,\n",
       " 'at': 62,\n",
       " 'their': 33,\n",
       " 'orders': 1,\n",
       " 'another': 17,\n",
       " 'boat': 32,\n",
       " 'caught': 4,\n",
       " 'three': 9,\n",
       " 'good': 26,\n",
       " 'week': 2,\n",
       " 'It': 64,\n",
       " 'made': 34,\n",
       " 'sad': 4,\n",
       " 'to': 297,\n",
       " 'see': 42,\n",
       " 'come': 31,\n",
       " 'each': 19,\n",
       " 'day': 24,\n",
       " 'his': 295,\n",
       " 'skiff': 20,\n",
       " 'empty': 1,\n",
       " 'always': 14,\n",
       " 'went': 23,\n",
       " 'down': 62,\n",
       " 'help': 9,\n",
       " 'carry': 4,\n",
       " 'either': 2,\n",
       " 'coiled': 5,\n",
       " 'lines': 18,\n",
       " 'or': 41,\n",
       " 'gaff': 8,\n",
       " 'harpoon': 6,\n",
       " 'sail': 9,\n",
       " 'furled': 3,\n",
       " 'around': 11,\n",
       " 'mast': 7,\n",
       " 'patched': 2,\n",
       " 'flour': 1,\n",
       " 'sacks': 5,\n",
       " 'it': 274,\n",
       " 'looked': 25,\n",
       " 'like': 33,\n",
       " 'flag': 1,\n",
       " 'permanent': 1,\n",
       " 'defeat': 1,\n",
       " 'thin': 2,\n",
       " 'gaunt': 1,\n",
       " 'deep': 11,\n",
       " 'wrinkles': 1,\n",
       " 'back': 62,\n",
       " 'neck': 5,\n",
       " 'brown': 4,\n",
       " 'blotches': 2,\n",
       " 'benevolent': 1,\n",
       " 'skin': 2,\n",
       " 'cancer': 1,\n",
       " 'sun': 42,\n",
       " 'brings': 3,\n",
       " 'from': 65,\n",
       " 'its': 23,\n",
       " '': 1,\n",
       " 'reflection': 1,\n",
       " 'on': 135,\n",
       " 'tropic': 1,\n",
       " 'sea': 28,\n",
       " 'were': 90,\n",
       " 'cheeks': 1,\n",
       " 'ran': 3,\n",
       " 'well': 16,\n",
       " 'sides': 5,\n",
       " 'face': 9,\n",
       " 'hands': 17,\n",
       " 'deep-creased': 1,\n",
       " 'scars': 2,\n",
       " 'handling': 1,\n",
       " 'heavy': 13,\n",
       " 'cords': 1,\n",
       " 'none': 1,\n",
       " 'these': 5,\n",
       " 'fresh': 10,\n",
       " 'They': 32,\n",
       " 'as': 114,\n",
       " 'erosions': 1,\n",
       " 'fishless': 1,\n",
       " 'desert': 1,\n",
       " 'Everything': 2,\n",
       " 'about': 16,\n",
       " 'except': 5,\n",
       " 'eyes': 19,\n",
       " 'they': 65,\n",
       " 'same': 6,\n",
       " 'color': 2,\n",
       " 'cheerful': 1,\n",
       " 'undefeated': 1,\n",
       " 'Santiago': 3,\n",
       " 'said': 127,\n",
       " 'climbed': 1,\n",
       " 'bank': 1,\n",
       " 'where': 25,\n",
       " 'hauled': 1,\n",
       " 'up': 48,\n",
       " 'I': 316,\n",
       " 'could': 66,\n",
       " 'go': 30,\n",
       " 'you': 104,\n",
       " 'again': 33,\n",
       " 'We鈥檝e': 1,\n",
       " 'some': 22,\n",
       " 'money': 3,\n",
       " 'taught': 1,\n",
       " 'loved': 7,\n",
       " 'No': 12,\n",
       " 'You鈥檙e': 5,\n",
       " 'lucky': 6,\n",
       " 'Stay': 2,\n",
       " 'them': 67,\n",
       " 'remember': 16,\n",
       " 'how': 12,\n",
       " 'eighty-seven': 2,\n",
       " 'then': 56,\n",
       " 'we': 23,\n",
       " 'big': 24,\n",
       " 'ones': 4,\n",
       " 'every': 4,\n",
       " 'for': 88,\n",
       " 'weeks': 1,\n",
       " 'know': 29,\n",
       " 'did': 35,\n",
       " 'not': 122,\n",
       " 'leave': 4,\n",
       " 'me': 36,\n",
       " 'because': 17,\n",
       " 'doubted': 1,\n",
       " 'papa': 1,\n",
       " 'am': 21,\n",
       " 'must': 52,\n",
       " 'obey': 1,\n",
       " 'quite': 5,\n",
       " 'normal': 2,\n",
       " 'hasn鈥檛': 3,\n",
       " 'much': 27,\n",
       " 'faith': 2,\n",
       " 'have': 80,\n",
       " 'Haven鈥檛': 1,\n",
       " 'Yes': 7,\n",
       " 'Can': 7,\n",
       " 'offer': 1,\n",
       " 'beer': 4,\n",
       " 'Terrace': 7,\n",
       " 'we鈥檒l': 1,\n",
       " 'take': 22,\n",
       " 'stuff': 2,\n",
       " 'home': 4,\n",
       " 'Why': 7,\n",
       " 'Between': 1,\n",
       " 'fishermen': 13,\n",
       " 'sat': 2,\n",
       " 'many': 16,\n",
       " 'fun': 1,\n",
       " 'angry': 1,\n",
       " 'Others': 2,\n",
       " 'older': 2,\n",
       " 'show': 7,\n",
       " 'spoke': 6,\n",
       " 'politely': 1,\n",
       " 'current': 15,\n",
       " 'depths': 2,\n",
       " 'drifted': 3,\n",
       " 'steady': 12,\n",
       " 'weather': 8,\n",
       " 'what': 32,\n",
       " 'seen': 10,\n",
       " 'successful': 1,\n",
       " 'already': 4,\n",
       " 'butchered': 3,\n",
       " 'marlin': 5,\n",
       " 'out': 70,\n",
       " 'carried': 8,\n",
       " 'laid': 3,\n",
       " 'full': 4,\n",
       " 'length': 2,\n",
       " 'across': 21,\n",
       " 'two': 35,\n",
       " 'planks': 2,\n",
       " 'men': 6,\n",
       " 'staggering': 1,\n",
       " 'end': 2,\n",
       " 'plank': 1,\n",
       " 'house': 4,\n",
       " 'waited': 5,\n",
       " 'ice': 4,\n",
       " 'truck': 1,\n",
       " 'market': 2,\n",
       " 'Havana': 5,\n",
       " 'Those': 1,\n",
       " 'sharks': 3,\n",
       " 'taken': 6,\n",
       " 'shark': 5,\n",
       " 'factory': 1,\n",
       " 'other': 20,\n",
       " 'side': 18,\n",
       " 'cove': 1,\n",
       " 'hoisted': 2,\n",
       " 'block': 1,\n",
       " 'tackle': 1,\n",
       " 'livers': 2,\n",
       " 'removed': 1,\n",
       " 'fins': 3,\n",
       " 'cut': 25,\n",
       " 'off': 17,\n",
       " 'hides': 1,\n",
       " 'skinned': 3,\n",
       " 'flesh': 4,\n",
       " 'into': 40,\n",
       " 'strips': 6,\n",
       " 'salting': 1,\n",
       " 'When': 13,\n",
       " 'wind': 6,\n",
       " 'east': 6,\n",
       " 'smell': 7,\n",
       " 'came': 23,\n",
       " 'harbour': 3,\n",
       " 'factory;': 1,\n",
       " 'but': 36,\n",
       " 'today': 8,\n",
       " 'there': 40,\n",
       " 'only': 27,\n",
       " 'faint': 4,\n",
       " 'edge': 5,\n",
       " 'odour': 1,\n",
       " 'backed': 1,\n",
       " 'north': 4,\n",
       " 'dropped': 8,\n",
       " 'pleasant': 1,\n",
       " 'sunny': 1,\n",
       " 'holding': 5,\n",
       " 'glass': 1,\n",
       " 'thinking': 2,\n",
       " 'years': 4,\n",
       " 'ago': 1,\n",
       " 'get': 22,\n",
       " 'sardines': 12,\n",
       " 'tomorrow': 2,\n",
       " 'Go': 1,\n",
       " 'play': 3,\n",
       " 'baseball': 10,\n",
       " 'can': 49,\n",
       " 'still': 25,\n",
       " 'row': 2,\n",
       " 'Rogelio': 1,\n",
       " 'will': 66,\n",
       " 'throw': 3,\n",
       " 'net': 5,\n",
       " 'would': 67,\n",
       " 'If': 23,\n",
       " 'cannot': 13,\n",
       " 'serve': 1,\n",
       " 'way': 13,\n",
       " 'You': 18,\n",
       " 'bought': 3,\n",
       " 'are': 47,\n",
       " 'How': 11,\n",
       " 'when': 61,\n",
       " 'took': 16,\n",
       " 'Five': 1,\n",
       " 'nearly': 4,\n",
       " 'killed': 1,\n",
       " 'brought': 7,\n",
       " 'too': 42,\n",
       " 'green': 6,\n",
       " 'tore': 1,\n",
       " 'pieces': 1,\n",
       " 'tail': 10,\n",
       " 'slapping': 1,\n",
       " 'banging': 2,\n",
       " 'thwart': 2,\n",
       " 'breaking': 8,\n",
       " 'noise': 3,\n",
       " 'clubbing': 2,\n",
       " 'throwing': 1,\n",
       " 'bow': 20,\n",
       " 'wet': 3,\n",
       " 'feeling': 7,\n",
       " 'whole': 2,\n",
       " 'shiver': 2,\n",
       " 'chopping': 1,\n",
       " 'tree': 1,\n",
       " 'sweet': 4,\n",
       " 'blood': 4,\n",
       " 'all': 64,\n",
       " 'over': 30,\n",
       " 'really': 5,\n",
       " 'just': 10,\n",
       " 'tell': 6,\n",
       " 'everything': 5,\n",
       " 'together': 6,\n",
       " 'sun-burned': 1,\n",
       " 'confident': 4,\n",
       " 'loving': 1,\n",
       " 'my': 27,\n",
       " 'I鈥檇': 1,\n",
       " 'gamble': 1,\n",
       " 'your': 15,\n",
       " 'father鈥檚': 1,\n",
       " 'mother鈥檚': 1,\n",
       " 'May': 4,\n",
       " 'four': 5,\n",
       " 'baits': 9,\n",
       " 'mine': 6,\n",
       " 'left': 45,\n",
       " 'put': 21,\n",
       " 'salt': 8,\n",
       " 'box': 4,\n",
       " 'Let': 6,\n",
       " 'One': 4,\n",
       " 'His': 11,\n",
       " 'hope': 3,\n",
       " 'confidence': 4,\n",
       " 'never': 18,\n",
       " 'freshening': 1,\n",
       " 'breeze': 10,\n",
       " 'rises': 1,\n",
       " 'Two': 2,\n",
       " 'agreed': 1,\n",
       " 'didn鈥檛': 1,\n",
       " 'steal': 3,\n",
       " 'Thank': 3,\n",
       " 'simple': 3,\n",
       " 'wonder': 9,\n",
       " 'attained': 2,\n",
       " 'humility': 1,\n",
       " 'knew': 24,\n",
       " 'disgraceful': 1,\n",
       " 'no': 39,\n",
       " 'loss': 2,\n",
       " 'true': 5,\n",
       " 'pride': 1,\n",
       " 'Tomorrow': 3,\n",
       " 'going': 15,\n",
       " 'be': 65,\n",
       " 'this': 28,\n",
       " 'Where': 2,\n",
       " 'asked': 12,\n",
       " 'Far': 1,\n",
       " 'shifts': 1,\n",
       " 'want': 8,\n",
       " 'before': 22,\n",
       " 'light': 19,\n",
       " 'I鈥檒l': 17,\n",
       " 'try': 8,\n",
       " 'work': 15,\n",
       " 'far': 12,\n",
       " 'Then': 47,\n",
       " 'if': 37,\n",
       " 'hook': 20,\n",
       " 'something': 14,\n",
       " 'truly': 6,\n",
       " 'aid': 2,\n",
       " 'does': 11,\n",
       " 'such': 7,\n",
       " 'bird': 25,\n",
       " 'working': 8,\n",
       " 'dolphin': 25,\n",
       " 'Are': 2,\n",
       " 'bad': 10,\n",
       " 'almost': 16,\n",
       " 'blind': 1,\n",
       " 'strange': 12,\n",
       " 'turtle-ing': 2,\n",
       " 'That': 12,\n",
       " 'kills': 2,\n",
       " 'Mosquito': 1,\n",
       " 'Coast': 1,\n",
       " 'strong': 18,\n",
       " 'enough': 10,\n",
       " 'think': 23,\n",
       " 'so': 60,\n",
       " 'And': 14,\n",
       " 'tricks': 2,\n",
       " 'us': 10,\n",
       " 'So': 5,\n",
       " 'cast': 4,\n",
       " 'picked': 4,\n",
       " 'gear': 5,\n",
       " 'shoulder': 7,\n",
       " 'wooden': 1,\n",
       " 'hard-braided': 1,\n",
       " 'shaft': 1,\n",
       " 'under': 16,\n",
       " 'stern': 15,\n",
       " 'along': 6,\n",
       " 'club': 1,\n",
       " 'used': 7,\n",
       " 'subdue': 1,\n",
       " 'alongside': 1,\n",
       " 'one': 46,\n",
       " 'better': 13,\n",
       " 'dew': 1,\n",
       " 'though': 19,\n",
       " 'sure': 4,\n",
       " 'local': 1,\n",
       " 'people': 7,\n",
       " 'thought': 101,\n",
       " 'needless': 1,\n",
       " 'temptations': 1,\n",
       " 'walked': 4,\n",
       " 'road': 5,\n",
       " 'man鈥檚': 12,\n",
       " 'shack': 7,\n",
       " 'through': 18,\n",
       " 'open': 10,\n",
       " 'door': 4,\n",
       " 'leaned': 10,\n",
       " 'wrapped': 3,\n",
       " 'against': 48,\n",
       " 'wall': 4,\n",
       " 'beside': 5,\n",
       " 'long': 22,\n",
       " 'room': 4,\n",
       " 'tough': 1,\n",
       " 'budshields': 1,\n",
       " 'royal': 1,\n",
       " 'palm': 2,\n",
       " 'called': 7,\n",
       " 'guano': 2,\n",
       " 'bed': 9,\n",
       " 'table': 5,\n",
       " 'chair': 4,\n",
       " 'place': 6,\n",
       " 'dirt': 1,\n",
       " 'floor': 2,\n",
       " 'cook': 1,\n",
       " 'charcoal': 1,\n",
       " 'On': 1,\n",
       " 'walls': 3,\n",
       " 'flattened': 1,\n",
       " 'overlapping': 1,\n",
       " 'leaves': 1,\n",
       " 'sturdy': 1,\n",
       " 'fibered': 1,\n",
       " 'picture': 2,\n",
       " 'Sacred': 1,\n",
       " 'Heart': 1,\n",
       " 'Jesus': 2,\n",
       " 'Virgin': 3,\n",
       " 'Cobre': 2,\n",
       " 'These': 1,\n",
       " 'relics': 1,\n",
       " 'wife': 3,\n",
       " 'Once': 4,\n",
       " 'tinted': 1,\n",
       " 'photograph': 1,\n",
       " 'lonely': 1,\n",
       " 'shelf': 1,\n",
       " 'corner': 2,\n",
       " 'clean': 4,\n",
       " 'shirt': 3,\n",
       " 'What': 10,\n",
       " 'do': 56,\n",
       " 'eat': 32,\n",
       " 'A': 3,\n",
       " 'pot': 2,\n",
       " 'yellow': 9,\n",
       " 'rice': 4,\n",
       " 'Do': 7,\n",
       " 'make': 20,\n",
       " 'fire': 1,\n",
       " 'later': 6,\n",
       " 'Or': 4,\n",
       " 'may': 5,\n",
       " 'cold': 10,\n",
       " 'Of': 1,\n",
       " 'course': 7,\n",
       " 'There': 22,\n",
       " 'remembered': 4,\n",
       " 'sold': 1,\n",
       " 'fiction': 2,\n",
       " 'Eighty-five': 1,\n",
       " 'number': 1,\n",
       " 'bring': 5,\n",
       " 'dressed': 2,\n",
       " 'thousand': 3,\n",
       " 'pounds': 3,\n",
       " 'Will': 1,\n",
       " 'sit': 1,\n",
       " 'doorway': 1,\n",
       " 'yesterday鈥檚': 2,\n",
       " 'paper': 3,\n",
       " 'read': 1,\n",
       " 'whether': 2,\n",
       " 'Perico': 1,\n",
       " 'gave': 6,\n",
       " 'bodega': 1,\n",
       " 'explained': 1,\n",
       " 'keep': 11,\n",
       " 'yours': 1,\n",
       " 'share': 1,\n",
       " 'morning': 12,\n",
       " 'Yankees': 4,\n",
       " 'lose': 6,\n",
       " 'fear': 5,\n",
       " 'Indians': 2,\n",
       " 'Cleveland': 2,\n",
       " 'Have': 3,\n",
       " 'son': 1,\n",
       " 'Think': 2,\n",
       " 'great': 44,\n",
       " 'DiMaggio': 5,\n",
       " 'both': 9,\n",
       " 'Tigers': 1,\n",
       " 'Detroit': 2,\n",
       " 'Be': 2,\n",
       " 'careful': 3,\n",
       " 'even': 10,\n",
       " 'Reds': 1,\n",
       " 'Cincinnati': 1,\n",
       " 'White': 1,\n",
       " 'Sax': 1,\n",
       " 'Chicago': 1,\n",
       " 'study': 1,\n",
       " 'should': 13,\n",
       " 'buy': 1,\n",
       " 'terminal': 1,\n",
       " 'lottery': 1,\n",
       " 'eighty-five': 3,\n",
       " 'eighty-fifth': 1,\n",
       " 'We': 4,\n",
       " 'record': 1,\n",
       " 'happen': 3,\n",
       " 'twice': 1,\n",
       " 'find': 4,\n",
       " 'order': 2,\n",
       " 'sheet': 1,\n",
       " 'That鈥檚': 3,\n",
       " 'dollars': 2,\n",
       " 'half': 6,\n",
       " 'Who': 3,\n",
       " 'borrow': 4,\n",
       " 'easy': 3,\n",
       " 'perhaps': 6,\n",
       " 'First': 1,\n",
       " 'beg': 1,\n",
       " 'Keep': 2,\n",
       " 'warm': 3,\n",
       " 'Remember': 3,\n",
       " 'September': 4,\n",
       " 'month': 2,\n",
       " 'Anyone': 1,\n",
       " 'fisherman': 5,\n",
       " 'asleep': 8,\n",
       " 'army': 1,\n",
       " 'blanket': 6,\n",
       " 'spread': 6,\n",
       " 'shoulders': 16,\n",
       " 'powerful': 1,\n",
       " 'although': 8,\n",
       " 'very': 23,\n",
       " 'creases': 1,\n",
       " 'head': 26,\n",
       " 'fallen': 1,\n",
       " 'forward': 5,\n",
       " 'times': 9,\n",
       " 'patches': 2,\n",
       " 'faded': 1,\n",
       " 'different': 3,\n",
       " 'shades': 1,\n",
       " 'by': 20,\n",
       " 'closed': 1,\n",
       " 'life': 5,\n",
       " 'newspaper': 4,\n",
       " 'lay': 6,\n",
       " 'knees': 5,\n",
       " 'weight': 14,\n",
       " 'arm': 9,\n",
       " 'held': 23,\n",
       " 'evening': 5,\n",
       " 'barefooted': 1,\n",
       " 'Wake': 1,\n",
       " 'hand': 83,\n",
       " 'opened': 3,\n",
       " 'moment': 5,\n",
       " 'coming': 8,\n",
       " 'away': 10,\n",
       " 'smiled': 1,\n",
       " 'got': 5,\n",
       " 'Supper': 1,\n",
       " 'We鈥檙e': 2,\n",
       " 'supper': 1,\n",
       " 'I鈥檓': 7,\n",
       " 'hungry': 3,\n",
       " 'Come': 5,\n",
       " 'can鈥檛': 5,\n",
       " 'getting': 5,\n",
       " 'folding': 1,\n",
       " 'started': 12,\n",
       " 'fold': 1,\n",
       " 'You鈥檒l': 1,\n",
       " 'eating': 9,\n",
       " 'while': 10,\n",
       " 'alive': 1,\n",
       " 'live': 2,\n",
       " 'time': 30,\n",
       " 'care': 2,\n",
       " 'yourself': 5,\n",
       " 'Black': 1,\n",
       " 'beans': 1,\n",
       " 'fried': 1,\n",
       " 'bananas': 1,\n",
       " 'stew': 2,\n",
       " 'two-decker': 1,\n",
       " 'metal': 1,\n",
       " 'container': 2,\n",
       " 'sets': 3,\n",
       " 'knives': 1,\n",
       " 'forks': 1,\n",
       " 'spoons': 1,\n",
       " 'pocket': 2,\n",
       " 'napkin': 1,\n",
       " 'set': 5,\n",
       " 'Martin': 1,\n",
       " 'owner': 1,\n",
       " 'thank': 3,\n",
       " 'thanked': 1,\n",
       " 'don鈥檛': 8,\n",
       " 'need': 4,\n",
       " 'give': 8,\n",
       " 'belly': 3,\n",
       " 'meat': 4,\n",
       " 'Has': 1,\n",
       " 'done': 3,\n",
       " 'more': 36,\n",
       " 'than': 20,\n",
       " 'once': 8,\n",
       " 'thoughtful': 1,\n",
       " 'sent': 2,\n",
       " 'beers': 1,\n",
       " 'cans': 2,\n",
       " 'best': 3,\n",
       " 'bottles': 2,\n",
       " 'Hatuey': 1,\n",
       " 'kind': 4,\n",
       " 'Should': 2,\n",
       " 'I鈥檝e': 1,\n",
       " 'asking': 2,\n",
       " 'gently': 8,\n",
       " 'wished': 2,\n",
       " 'until': 18,\n",
       " 'ready': 8,\n",
       " 'needed': 2,\n",
       " 'wash': 2,\n",
       " 'village': 2,\n",
       " 'water': 70,\n",
       " 'supply': 1,\n",
       " 'streets': 1,\n",
       " 'here': 12,\n",
       " 'soap': 1,\n",
       " 'towel': 1,\n",
       " 'thoughtless': 1,\n",
       " 'jacket': 1,\n",
       " 'winter': 1,\n",
       " 'sort': 3,\n",
       " 'shoes': 1,\n",
       " 'Your': 1,\n",
       " 'excellent': 4,\n",
       " 'Tell': 2,\n",
       " 'In': 9,\n",
       " 'American': 1,\n",
       " 'League': 1,\n",
       " 'happily': 2,\n",
       " 'lost': 2,\n",
       " 'means': 2,\n",
       " 'nothing': 16,\n",
       " 'himself': 22,\n",
       " 'team': 1,\n",
       " 'Naturally': 1,\n",
       " 'makes': 5,\n",
       " 'difference': 5,\n",
       " 'league': 1,\n",
       " 'between': 5,\n",
       " 'Brooklyn': 2,\n",
       " 'Philadelphia': 1,\n",
       " 'Dick': 1,\n",
       " 'Sisler': 1,\n",
       " 'those': 4,\n",
       " 'drives': 1,\n",
       " 'park': 1,\n",
       " 'ever': 7,\n",
       " 'hits': 1,\n",
       " 'longest': 1,\n",
       " 'ball': 1,\n",
       " 'wanted': 4,\n",
       " 'fishing': 4,\n",
       " 'timid': 2,\n",
       " 'ask': 3,\n",
       " 'mistake': 1,\n",
       " 'might': 9,\n",
       " 'our': 7,\n",
       " 'lives': 1,\n",
       " 'say': 11,\n",
       " 'father': 6,\n",
       " 'Maybe': 7,\n",
       " 'poor': 2,\n",
       " 'understand': 3,\n",
       " 'Sisler鈥檚': 1,\n",
       " 'playing': 2,\n",
       " 'Big': 3,\n",
       " 'Leagues': 2,\n",
       " 'age': 3,\n",
       " 'square': 1,\n",
       " 'rigged': 1,\n",
       " 'ship': 2,\n",
       " 'Africa': 4,\n",
       " 'lions': 8,\n",
       " 'beaches': 4,\n",
       " 'talk': 6,\n",
       " 'Baseball': 1,\n",
       " 'John': 1,\n",
       " 'J': 2,\n",
       " 'McGraw': 1,\n",
       " 'Jota': 1,\n",
       " 'sometimes': 5,\n",
       " 'rough': 1,\n",
       " 'harshspoken': 1,\n",
       " 'difficult': 4,\n",
       " 'drinking': 1,\n",
       " 'mind': 1,\n",
       " 'horses': 3,\n",
       " 'At': 3,\n",
       " 'least': 2,\n",
       " 'lists': 1,\n",
       " 'frequently': 1,\n",
       " 'names': 2,\n",
       " 'telephone': 1,\n",
       " 'manager': 3,\n",
       " 'My': 6,\n",
       " 'thinks': 1,\n",
       " 'greatest': 3,\n",
       " 'Because': 2,\n",
       " 'most': 2,\n",
       " 'Durocher': 1,\n",
       " 'continued': 2,\n",
       " 'year': 2,\n",
       " 'Luque': 1,\n",
       " 'Mike': 1,\n",
       " 'Gonzalez': 1,\n",
       " 'equal': 1,\n",
       " 'others': 4,\n",
       " 'Que': 1,\n",
       " 'Va': 2,\n",
       " 'happy': 5,\n",
       " 'prove': 2,\n",
       " 'wrong': 1,\n",
       " 'resolution': 1,\n",
       " 'ought': 1,\n",
       " 'things': 10,\n",
       " 'Good': 3,\n",
       " 'night': 24,\n",
       " 'wake': 6,\n",
       " 'alarm': 2,\n",
       " 'clock': 2,\n",
       " 'Age': 1,\n",
       " 'early': 9,\n",
       " 'Is': 2,\n",
       " 'longer': 5,\n",
       " 'All': 3,\n",
       " 'young': 3,\n",
       " 'boys': 1,\n",
       " 'sleep': 18,\n",
       " 'late': 3,\n",
       " 'hard': 9,\n",
       " 'waken': 2,\n",
       " 'inferior': 1,\n",
       " 'Sleep': 1,\n",
       " 'eaten': 3,\n",
       " 'trousers': 8,\n",
       " 'dark': 32,\n",
       " 'rolled': 2,\n",
       " 'pillow': 2,\n",
       " 'putting': 3,\n",
       " 'inside': 5,\n",
       " 'slept': 5,\n",
       " 'newspapers': 1,\n",
       " 'covered': 5,\n",
       " 'springs': 1,\n",
       " 'short': 1,\n",
       " 'dreamed': 6,\n",
       " 'golden': 3,\n",
       " 'white': 7,\n",
       " 'hurt': 10,\n",
       " 'high': 10,\n",
       " 'capes': 1,\n",
       " 'mountains': 3,\n",
       " 'lived': 2,\n",
       " 'coast': 2,\n",
       " 'dreams': 1,\n",
       " 'heard': 8,\n",
       " 'surf': 1,\n",
       " 'roar': 1,\n",
       " 'saw': 25,\n",
       " 'native': 1,\n",
       " 'boats': 10,\n",
       " 'riding': 1,\n",
       " 'smelled': 3,\n",
       " 'tar': 1,\n",
       " 'oakum': 1,\n",
       " 'deck': 1,\n",
       " 'land': 10,\n",
       " 'Usually': 1,\n",
       " 'woke': 4,\n",
       " 'tonight': 3,\n",
       " 'dream': 4,\n",
       " 'dreaming': 1,\n",
       " 'peaks': 1,\n",
       " 'Islands': 2,\n",
       " 'rising': 5,\n",
       " 'harbours': 1,\n",
       " 'roadsteads': 1,\n",
       " 'Canary': 1,\n",
       " 'storms': 1,\n",
       " 'nor': 13,\n",
       " 'women': 2,\n",
       " 'occurrences': 1,\n",
       " 'fights': 1,\n",
       " 'contests': 1,\n",
       " 'strength': 13,\n",
       " 'places': 1,\n",
       " 'beach': 3,\n",
       " 'played': 2,\n",
       " 'cats': 1,\n",
       " 'dusk': 1,\n",
       " 'simply': 1,\n",
       " 'moon': 11,\n",
       " 'unrolled': 1,\n",
       " 'urinated': 2,\n",
       " 'outside': 1,\n",
       " 'shivering': 5,\n",
       " 'soon': 7,\n",
       " 'rowing': 3,\n",
       " 'unlocked': 1,\n",
       " 'quietly': 1,\n",
       " 'bare': 2,\n",
       " 'feet': 9,\n",
       " 'cot': 1,\n",
       " 'clearly': 2,\n",
       " 'dying': 1,\n",
       " 'hold': 7,\n",
       " 'foot': 7,\n",
       " 'turned': 8,\n",
       " 'nodded': 1,\n",
       " 'sitting': 2,\n",
       " 'pulled': 10,\n",
       " 'sleepy': 1,\n",
       " 'sorry': 5,\n",
       " 'Qua': 1,\n",
       " 'barefoot': 1,\n",
       " 'moving': 9,\n",
       " 'carrying': 2,\n",
       " 'masts': 1,\n",
       " 'reached': 7,\n",
       " 'rolls': 1,\n",
       " 'line': 120,\n",
       " 'basket': 1,\n",
       " 'coffee': 4,\n",
       " 'We鈥檒l': 1,\n",
       " 'condensed': 1,\n",
       " 'milk': 1,\n",
       " 'served': 1,\n",
       " 'waking': 1,\n",
       " 'Very': 1,\n",
       " 'Manolin': 1,\n",
       " 'feel': 14,\n",
       " 'Now': 27,\n",
       " 'wants': 1,\n",
       " 'anyone': 4,\n",
       " 'anything': 3,\n",
       " 'let': 23,\n",
       " 'five': 1,\n",
       " 'right': 31,\n",
       " 'credit': 1,\n",
       " 'bare-footed': 1,\n",
       " 'coral': 1,\n",
       " 'rocks': 1,\n",
       " 'stored': 1,\n",
       " 'drank': 3,\n",
       " 'slowly': 21,\n",
       " 'For': 4,\n",
       " 'bored': 1,\n",
       " 'lunch': 1,\n",
       " 'bottle': 3,\n",
       " 'trail': 3,\n",
       " 'pebbled': 1,\n",
       " 'sand': 1,\n",
       " 'lifted': 4,\n",
       " 'slid': 2,\n",
       " 'her': 21,\n",
       " 'luck': 4,\n",
       " 'fitted': 1,\n",
       " 'rope': 1,\n",
       " 'lashings': 1,\n",
       " 'oars': 12,\n",
       " 'onto': 7,\n",
       " 'thole': 1,\n",
       " 'pins': 1,\n",
       " 'leaning': 3,\n",
       " 'thrust': 1,\n",
       " 'blades': 1,\n",
       " 'began': 9,\n",
       " 'dip': 5,\n",
       " 'push': 1,\n",
       " 'below': 3,\n",
       " 'hills': 3,\n",
       " 'Sometimes': 3,\n",
       " 'someone': 1,\n",
       " 'speak': 1,\n",
       " 'silent': 1,\n",
       " 'apart': 1,\n",
       " 'mouth': 8,\n",
       " 'headed': 3,\n",
       " 'part': 9,\n",
       " 'ocean': 14,\n",
       " 'hoped': 2,\n",
       " 'behind': 5,\n",
       " 'rowed': 7,\n",
       " 'phosphorescence': 3,\n",
       " 'weed': 5,\n",
       " 'sudden': 5,\n",
       " 'seven': 1,\n",
       " 'hundred': 11,\n",
       " 'fathoms': 8,\n",
       " 'sorts': 1,\n",
       " 'congregated': 1,\n",
       " 'swirl': 2,\n",
       " 'steep': 1,\n",
       " 'Here': 1,\n",
       " 'concentrations': 1,\n",
       " 'shrimp': 1,\n",
       " 'bait': 17,\n",
       " 'schools': 3,\n",
       " 'squid': 1,\n",
       " 'deepest': 2,\n",
       " 'holes': 1,\n",
       " 'rose': 11,\n",
       " 'close': 2,\n",
       " 'surface': 9,\n",
       " 'wandering': 1,\n",
       " 'fed': 2,\n",
       " 'trembling': 1,\n",
       " 'sound': 2,\n",
       " 'flying': 21,\n",
       " 'hissing': 2,\n",
       " ...}"
      ]
     },
     "execution_count": 95,
     "metadata": {},
     "output_type": "execute_result"
    }
   ],
   "source": [
    "word_freq={}\n",
    "for word in words:\n",
    "    if word in word_freq.keys():\n",
    "        word_freq[word]+=1\n",
    "    else:\n",
    "        word_freq[word]=1\n",
    "word_freq\n"
   ]
  },
  {
   "cell_type": "code",
   "execution_count": 96,
   "metadata": {
    "collapsed": false
   },
   "outputs": [
    {
     "data": {
      "text/plain": [
       "['the', 'and', 'he', 'of', 'I', 'to', 'his', 'was', 'it', 'a']"
      ]
     },
     "execution_count": 96,
     "metadata": {},
     "output_type": "execute_result"
    }
   ],
   "source": [
    "sorted_words=sorted(word_freq,key=word_freq.get,reverse=True)[0:10]\n",
    "sorted_words"
   ]
  },
  {
   "cell_type": "code",
   "execution_count": 5,
   "metadata": {
    "collapsed": false
   },
   "outputs": [
    {
     "name": "stdout",
     "output_type": "stream",
     "text": [
      "Object `find` not found.\n"
     ]
    }
   ],
   "source": [
    "?find('a')"
   ]
  },
  {
   "cell_type": "code",
   "execution_count": 6,
   "metadata": {
    "collapsed": true
   },
   "outputs": [],
   "source": [
    "a=[1,2]"
   ]
  },
  {
   "cell_type": "code",
   "execution_count": 8,
   "metadata": {
    "collapsed": false
   },
   "outputs": [
    {
     "data": {
      "text/plain": [
       "True"
      ]
     },
     "execution_count": 8,
     "metadata": {},
     "output_type": "execute_result"
    }
   ],
   "source": [
    "3 not in a"
   ]
  },
  {
   "cell_type": "code",
   "execution_count": 9,
   "metadata": {
    "collapsed": false
   },
   "outputs": [
    {
     "ename": "TypeError",
     "evalue": "append() takes exactly one argument (2 given)",
     "output_type": "error",
     "traceback": [
      "\u001b[0;31m---------------------------------------------------------------------------\u001b[0m",
      "\u001b[0;31mTypeError\u001b[0m                                 Traceback (most recent call last)",
      "\u001b[0;32m<ipython-input-9-89930f43c120>\u001b[0m in \u001b[0;36m<module>\u001b[0;34m()\u001b[0m\n\u001b[0;32m----> 1\u001b[0;31m \u001b[0ma\u001b[0m\u001b[1;33m.\u001b[0m\u001b[0mappend\u001b[0m\u001b[1;33m(\u001b[0m\u001b[1;36m4\u001b[0m\u001b[1;33m,\u001b[0m\u001b[1;36m5\u001b[0m\u001b[1;33m)\u001b[0m\u001b[1;33m\u001b[0m\u001b[0m\n\u001b[0m",
      "\u001b[0;31mTypeError\u001b[0m: append() takes exactly one argument (2 given)"
     ]
    }
   ],
   "source": [
    "a.append(4,5)"
   ]
  },
  {
   "cell_type": "code",
   "execution_count": 10,
   "metadata": {
    "collapsed": true
   },
   "outputs": [],
   "source": [
    "b=[]"
   ]
  },
  {
   "cell_type": "code",
   "execution_count": 11,
   "metadata": {
    "collapsed": false
   },
   "outputs": [
    {
     "data": {
      "text/plain": [
       "False"
      ]
     },
     "execution_count": 11,
     "metadata": {},
     "output_type": "execute_result"
    }
   ],
   "source": [
    "b ==None"
   ]
  },
  {
   "cell_type": "code",
   "execution_count": 12,
   "metadata": {
    "collapsed": false
   },
   "outputs": [
    {
     "data": {
      "text/plain": [
       "0"
      ]
     },
     "execution_count": 12,
     "metadata": {},
     "output_type": "execute_result"
    }
   ],
   "source": [
    "len(b)"
   ]
  },
  {
   "cell_type": "code",
   "execution_count": 13,
   "metadata": {
    "collapsed": false
   },
   "outputs": [
    {
     "name": "stdout",
     "output_type": "stream",
     "text": [
      "1\n"
     ]
    }
   ],
   "source": [
    "if 1!=2:\n",
    "    print(1)"
   ]
  },
  {
   "cell_type": "code",
   "execution_count": null,
   "metadata": {
    "collapsed": true
   },
   "outputs": [],
   "source": []
  }
 ],
 "metadata": {
  "kernelspec": {
   "display_name": "Python 3",
   "language": "python",
   "name": "python3"
  },
  "language_info": {
   "codemirror_mode": {
    "name": "ipython",
    "version": 3
   },
   "file_extension": ".py",
   "mimetype": "text/x-python",
   "name": "python",
   "nbconvert_exporter": "python",
   "pygments_lexer": "ipython3",
   "version": "3.6.0"
  }
 },
 "nbformat": 4,
 "nbformat_minor": 2
}
