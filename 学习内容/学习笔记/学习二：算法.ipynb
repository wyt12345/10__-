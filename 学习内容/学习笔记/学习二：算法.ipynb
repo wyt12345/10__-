{
 "cells": [
  {
   "cell_type": "markdown",
   "metadata": {},
   "source": [
    "# Algorithm算法\n",
    "\n",
    "## Big O Notation\n",
    "\n",
    "### 一、$O(1)$"
   ]
  },
  {
   "cell_type": "code",
   "execution_count": 13,
   "metadata": {
    "collapsed": true
   },
   "outputs": [],
   "source": [
    "from IPython.core.interactiveshell import InteractiveShell\n",
    "InteractiveShell.ast_node_interactivity = \"all\""
   ]
  },
  {
   "cell_type": "code",
   "execution_count": 14,
   "metadata": {
    "collapsed": true
   },
   "outputs": [],
   "source": [
    "from time import clock\n",
    "\n",
    "def timer(f):\n",
    "    def _f(*args):\n",
    "        t0 = clock()\n",
    "        f(*args)\n",
    "        return clock() - t0\n",
    "    return _f"
   ]
  },
  {
   "cell_type": "code",
   "execution_count": 15,
   "metadata": {
    "collapsed": true
   },
   "outputs": [],
   "source": [
    "import matplotlib.pyplot as plt\n",
    "%matplotlib inline  "
   ]
  },
  {
   "cell_type": "code",
   "execution_count": 43,
   "metadata": {
    "collapsed": false
   },
   "outputs": [
    {
     "data": {
      "text/plain": [
       "[<matplotlib.lines.Line2D at 0x2107ab14ef0>]"
      ]
     },
     "execution_count": 43,
     "metadata": {},
     "output_type": "execute_result"
    },
    {
     "data": {
      "image/png": "[encoded data removed]",
      "text/plain": [
       "<matplotlib.figure.Figure at 0x2107a967390>"
      ]
     },
     "metadata": {},
     "output_type": "display_data"
    }
   ],
   "source": [
    "def square(x):\n",
    "    import time\n",
    "    start = time.time()\n",
    "    t = time.time() - start\n",
    "    return x,t\n",
    "\n",
    "rst=list(map(square,range(100,100000,100)))\n",
    "x=list(zip(*rst))[0]\n",
    "y = list(zip(*rst))[1]\n",
    "plt.plot(x, y)"
   ]
  },
  {
   "cell_type": "markdown",
   "metadata": {},
   "source": [
    "### 二、 $O(n)$"
   ]
  },
  {
   "cell_type": "markdown",
   "metadata": {},
   "source": [
    "### 1.循环1次，寻找最大值"
   ]
  },
  {
   "cell_type": "code",
   "execution_count": 48,
   "metadata": {
    "collapsed": true
   },
   "outputs": [],
   "source": [
    "def find_max(l):\n",
    "    import time\n",
    "    start = time.time()\n",
    "    \n",
    "    if l == None:\n",
    "        return None\n",
    "    mx = l[0]\n",
    "    for n in l:\n",
    "        if n > mx:\n",
    "            mx = n\n",
    "            \n",
    "    t = time.time() - start   ##函数运行的时间\n",
    "    \n",
    "    return len(l), t\n"
   ]
  },
  {
   "cell_type": "code",
   "execution_count": 54,
   "metadata": {
    "collapsed": false
   },
   "outputs": [
    {
     "data": {
      "text/plain": [
       "[<matplotlib.lines.Line2D at 0x210005d3470>]"
      ]
     },
     "execution_count": 54,
     "metadata": {},
     "output_type": "execute_result"
    },
    {
     "data": {
      "image/png": "[encoded data removed]",
      "text/plain": [
       "<matplotlib.figure.Figure at 0x2107b2e3240>"
      ]
     },
     "metadata": {},
     "output_type": "display_data"
    }
   ],
   "source": [
    "import random\n",
    "\n",
    "random_lists = [[int(1000*random.random()) for i in range(100 * n)] for n in range(1, 20)] ##每次增加100，共1000个\n",
    "rst = [find_max(l) for l in random_lists]    \n",
    "\n",
    "x=list(zip(*rst))[0]\n",
    "y = list(zip(*rst))[1]\n",
    "plt.plot(x, y)\n",
    "## 时间变化不大"
   ]
  },
  {
   "cell_type": "markdown",
   "metadata": {},
   "source": [
    "### 三、 $O(n^2)$"
   ]
  },
  {
   "cell_type": "code",
   "execution_count": 52,
   "metadata": {
    "collapsed": true
   },
   "outputs": [],
   "source": [
    "#判断是否数字重复使用了（不用dictionary）\n",
    "def has_duplicate(l):\n",
    "    import time\n",
    "    start = time.time()\n",
    "    \n",
    "    rst = False\n",
    "    for i in range(len(l)):             ##两个for，逐个比较 i=0,j n i=1 j=n-1......循环n(n+1)/2,所以是n**2\n",
    "        for j in range(i + 1, len(l)):\n",
    "            if l[i] == l[j]:\n",
    "                rst = True\n",
    "        \n",
    "    t = time.time() - start\n",
    "    \n",
    "    return rst, len(l), t"
   ]
  },
  {
   "cell_type": "code",
   "execution_count": 55,
   "metadata": {
    "collapsed": false
   },
   "outputs": [
    {
     "data": {
      "text/plain": [
       "[<matplotlib.lines.Line2D at 0x210006502b0>]"
      ]
     },
     "execution_count": 55,
     "metadata": {},
     "output_type": "execute_result"
    },
    {
     "data": {
      "image/png": "[encoded data removed]",
      "text/plain": [
       "<matplotlib.figure.Figure at 0x2107b2e3128>"
      ]
     },
     "metadata": {},
     "output_type": "display_data"
    }
   ],
   "source": [
    "import matplotlib.pyplot as plt\n",
    "%matplotlib inline  \n",
    "rst = [has_duplicate(l) for l in random_lists]\n",
    "\n",
    "x = list(zip(*rst))[1]       ##长度\n",
    "y = list(zip(*rst))[2]      ##时间增长很快\n",
    "\n",
    "plt.plot(x, y)"
   ]
  },
  {
   "cell_type": "code",
   "execution_count": 36,
   "metadata": {
    "collapsed": false
   },
   "outputs": [
    {
     "data": {
      "text/plain": [
       "7.694415444348124e-06"
      ]
     },
     "execution_count": 36,
     "metadata": {},
     "output_type": "execute_result"
    },
    {
     "data": {
      "text/plain": [
       "3.0777661720549077e-05"
      ]
     },
     "execution_count": 36,
     "metadata": {},
     "output_type": "execute_result"
    }
   ],
   "source": [
    "##### 快捷方法\n",
    "f=[0,1]\n",
    "def _f(n):\n",
    "    if n==0:\n",
    "        return 0\n",
    "    elif n==1:\n",
    "        return 1\n",
    "    else:\n",
    "        f=[0,1]\n",
    "        for i in range(1,n-1):\n",
    "            f.append(f[i]+f[i-1])\n",
    "        return f[n-1]\n",
    "timer(_f)(6)\n",
    "timer(_f)(35)        "
   ]
  },
  {
   "cell_type": "markdown",
   "metadata": {},
   "source": [
    "## 典型例题\n",
    "\n",
    "## 1.Fibonacci  递归，函数中套用自身 \n",
    "#### $f(n)=f(n-1)+f(n-2)$ 0,1,1,2,3,5,8,13,21,,,,\n",
    "##### $f(5)=f(4)+f(3)\n",
    "           =f(4)+f(3)+f(2)\n",
    "           =f(4)+f(3)+f(2)+f(1)\n",
    "           =f(4)+f(3)+f(2)+f(1)+f(0)$\n",
    "      其中f(1)就计算了2^n,树状图\n",
    "      "
   ]
  },
  {
   "cell_type": "code",
   "execution_count": 56,
   "metadata": {
    "collapsed": false
   },
   "outputs": [
    {
     "data": {
      "text/plain": [
       "7.266949978657067e-06"
      ]
     },
     "execution_count": 56,
     "metadata": {},
     "output_type": "execute_result"
    },
    {
     "data": {
      "text/plain": [
       "3.206006658729166e-05"
      ]
     },
     "execution_count": 56,
     "metadata": {},
     "output_type": "execute_result"
    }
   ],
   "source": [
    "#-------------o(1)\n",
    "f=[0,1]\n",
    "def _f(n):\n",
    "    if n==0:\n",
    "        return 0\n",
    "    elif n==1:\n",
    "        return 1\n",
    "    else:\n",
    "        f=[0,1]\n",
    "        for i in range(1,n-1):\n",
    "            f.append(f[i]+f[i-1])\n",
    "        return f[n-1]\n",
    "timer(_f)(6)\n",
    "timer(_f)(35) "
   ]
  },
  {
   "cell_type": "code",
   "execution_count": 57,
   "metadata": {
    "collapsed": false
   },
   "outputs": [
    {
     "data": {
      "text/plain": [
       "6.412010407075286e-06"
      ]
     },
     "execution_count": 57,
     "metadata": {},
     "output_type": "execute_result"
    },
    {
     "data": {
      "text/plain": [
       "1.496136246714741e-05"
      ]
     },
     "execution_count": 57,
     "metadata": {},
     "output_type": "execute_result"
    }
   ],
   "source": [
    "##-----------o(n)\n",
    "def fibonacci2(n):\n",
    "    assert(n>=0)\n",
    "    a, b = 0, 1\n",
    "    for i in range(1, n+1):\n",
    "        a, b = b, a+b      \n",
    "    return a \n",
    "timer(fibonacci2)(6)\n",
    "timer(fibonacci2)(35) "
   ]
  },
  {
   "cell_type": "code",
   "execution_count": 59,
   "metadata": {
    "collapsed": false
   },
   "outputs": [
    {
     "data": {
      "text/plain": [
       "1.2824020814150572e-05"
      ]
     },
     "execution_count": 59,
     "metadata": {},
     "output_type": "execute_result"
    },
    {
     "data": {
      "text/plain": [
       "7.662189086840954"
      ]
     },
     "execution_count": 59,
     "metadata": {},
     "output_type": "execute_result"
    }
   ],
   "source": [
    "##-----------o(2^n)\n",
    "def fibonacci(n):\n",
    "    if n == 0:\n",
    "        return 0\n",
    "    elif n == 1:\n",
    "        return 1\n",
    "    else:                                      ##函数套函数\n",
    "        return fibonacci(n-1) + fibonacci(n-2)  ##两个都会计算\n",
    "\n",
    "timer(fibonacci)(6)\n",
    "timer(fibonacci)(35)  ##很慢"
   ]
  },
  {
   "cell_type": "code",
   "execution_count": null,
   "metadata": {
    "collapsed": true
   },
   "outputs": [],
   "source": [
    "#递归reclution o(n) 有上限\n",
    "def fibonacci3(n):\n",
    "    assert(n>=0)  #判断，也可以用if\n",
    "    if (n <= 1): \n",
    "        return (n,0)\n",
    "    (a, b) = fibonacci3(n-1)    \n",
    "    return (a+b, a)\n",
    "fibonacci3(980)##会报错，非常消耗内存"
   ]
  },
  {
   "cell_type": "markdown",
   "metadata": {},
   "source": [
    "## 2.查找Binary Search---\n",
    "##### 在list 中找是否存在某数，有返回index，无输出-1"
   ]
  },
  {
   "cell_type": "code",
   "execution_count": 60,
   "metadata": {
    "collapsed": false
   },
   "outputs": [
    {
     "name": "stdout",
     "output_type": "stream",
     "text": [
      "4\n",
      "-1\n"
     ]
    }
   ],
   "source": [
    "##----------------o(n)----list未排序\n",
    "    # If empty\n",
    "def search(num_list, val):  \n",
    "    if num_list == None:\n",
    "        return -1  \n",
    "    for i in range(0, len(num_list)):##for 循环的次数随着list的大小而变化，不一定要排序\n",
    "        if (num_list[i] == val):\n",
    "            return i\n",
    "    return -1\n",
    "num_list = [1,2,3,5,7,8,9]\n",
    "print(search(num_list, 7))\n",
    "print(search(num_list, 4))"
   ]
  },
  {
   "cell_type": "code",
   "execution_count": 61,
   "metadata": {
    "collapsed": false
   },
   "outputs": [
    {
     "name": "stdout",
     "output_type": "stream",
     "text": [
      "4\n",
      "-1\n"
     ]
    }
   ],
   "source": [
    "###--------------o(1)二分法----list排好了\n",
    "def bi_serach_re(num_list, val):\n",
    "    def bi_search(l, h):\n",
    "        # Not found\n",
    "        if l > h:\n",
    "            return -1\n",
    "        \n",
    "        # Check mid\n",
    "        mid = (l + h) // 2\n",
    "        if (num_list[mid] == val):\n",
    "            return mid;\n",
    "        elif (num_list[mid] < val):\n",
    "            return bi_search(mid + 1, h)\n",
    "        else:\n",
    "            return bi_search(l, mid - 1)\n",
    "        \n",
    "    return bi_search(0, len(num_list))\n",
    "num_list = [1,2,3,5,7,8,9]\n",
    "print(bi_serach_re(num_list, 7))\n",
    "print(bi_serach_re(num_list, 4))\n"
   ]
  },
  {
   "cell_type": "code",
   "execution_count": 62,
   "metadata": {
    "collapsed": false
   },
   "outputs": [
    {
     "name": "stdout",
     "output_type": "stream",
     "text": [
      "4\n",
      "-1\n"
     ]
    }
   ],
   "source": [
    "## -------------olog(n)------------2分法 排好序的\n",
    "def bi_search_iter(num_list, val):\n",
    "    l = 0\n",
    "    h = len(num_list)\n",
    "    while (l <= h):\n",
    "        mid = (l + h) // 2\n",
    "        if (num_list[mid] == val):\n",
    "            return mid\n",
    "        elif (num_list[mid] < val):\n",
    "            l = mid + 1\n",
    "        else:\n",
    "            h = mid - 1\n",
    "    return -1\n",
    "num_list = [1,2,3,5,7,8,9]\n",
    "print(bi_search_iter(num_list, 7))\n",
    "print(bi_search_iter(num_list, 4))"
   ]
  },
  {
   "cell_type": "markdown",
   "metadata": {},
   "source": [
    "### 2.2 若有重复的数据，查找的是中间的数，若我们想找第一个出现的，或者最后一个，该怎么找"
   ]
  },
  {
   "cell_type": "code",
   "execution_count": null,
   "metadata": {
    "collapsed": true
   },
   "outputs": [],
   "source": []
  },
  {
   "cell_type": "code",
   "execution_count": null,
   "metadata": {
    "collapsed": true
   },
   "outputs": [],
   "source": []
  },
  {
   "cell_type": "markdown",
   "metadata": {},
   "source": [
    "## 3.排序\n",
    "#### 1.冒泡排序Buble Sort\n",
    "#####  就是最大值冒泡到最后\n"
   ]
  },
  {
   "cell_type": "code",
   "execution_count": 64,
   "metadata": {
    "collapsed": false
   },
   "outputs": [
    {
     "name": "stdout",
     "output_type": "stream",
     "text": [
      "(10, 0.0)\n"
     ]
    }
   ],
   "source": [
    "##------------------o(n^2)  \n",
    "def _bubble_sort(nums: list, reverse=False):\n",
    "    import time\n",
    "    start = time.time()\n",
    "    for i in range(len(nums)):\n",
    "        # Get (i+1) largest in the correct position\n",
    "        for j in range(len(nums) - i - 1):  ##range(i+1,len(nums))\n",
    "            if nums[j] > nums[j + 1]:\n",
    "                nums[j], nums[j + 1] = nums[j + 1], nums[j]\n",
    "    if reverse:\n",
    "        #nums = nums[::-1]  # why this is not working?\n",
    "        nums.reverse()\n",
    "    t = time.time() - start\n",
    "    return len(nums), t\n",
    "l = [1, 3, 5, 7, 9, 2, 4, 6, 8, 0]\n",
    "l = _bubble_sort(l, reverse=True)\n",
    "print(l)"
   ]
  },
  {
   "cell_type": "code",
   "execution_count": null,
   "metadata": {
    "collapsed": true
   },
   "outputs": [],
   "source": [
    "x = list(zip(*rst))[0]\n",
    "y = list(zip(*rst))[1]\n",
    "\n",
    "plt.plot(x, y)"
   ]
  },
  {
   "cell_type": "code",
   "execution_count": 16,
   "metadata": {
    "collapsed": false
   },
   "outputs": [],
   "source": [
    "import arrayutil\n",
    "mylist = arrayutil.generateRandomArray(10000)"
   ]
  },
  {
   "cell_type": "code",
   "execution_count": 80,
   "metadata": {
    "collapsed": false
   },
   "outputs": [
    {
     "data": {
      "text/plain": [
       "[<matplotlib.lines.Line2D at 0x2100058c0f0>]"
      ]
     },
     "execution_count": 80,
     "metadata": {},
     "output_type": "execute_result"
    },
    {
     "data": {
      "image/png": "[encoded data removed]",
      "text/plain": [
       "<matplotlib.figure.Figure at 0x21000687630>"
      ]
     },
     "metadata": {},
     "output_type": "display_data"
    }
   ],
   "source": [
    "random_lists = [arrayutil.generateRandomArray(100 * n) for n in range(1, 20)]\n",
    "rst = [_bubble_sort(l) for l in random_lists]\n",
    "x = list(zip(*rst))[0]\n",
    "y = list(zip(*rst))[1]\n",
    "\n",
    "plt.plot(x, y)"
   ]
  },
  {
   "cell_type": "code",
   "execution_count": null,
   "metadata": {
    "collapsed": true
   },
   "outputs": [],
   "source": [
    "#最优，假设已经排好的情况\n",
    "def bubble_sort_mod(array):\n",
    "    import time\n",
    "    start = time.time()    \n",
    "    for i in range(len(array)): # n pass\n",
    "        is_sorted = True  # initialize is_sorted\n",
    "        for j in range(1, len(array) - i):\n",
    "            if (array[j] < array[j - 1]):\n",
    "                # swap\n",
    "                array[j], array[j - 1] = array[j - 1], array[j]\n",
    "                is_sorted = False\n",
    "        \n",
    "        if (is_sorted): break\n",
    "    t = time.time() - start\n",
    "    return len(array), t    "
   ]
  },
  {
   "cell_type": "markdown",
   "metadata": {},
   "source": [
    "## 3.排序\n",
    "#### 2.插入排序Insert Sort\n",
    "#### 从左插入：range（0，i）\n",
    "#### 从右插入：range(1,len(items)) 从index=1开始，一个一个与前面的比较大小，若前面的大，则交换位置，知道前面没有比其更大的数，\n"
   ]
  },
  {
   "cell_type": "code",
   "execution_count": 81,
   "metadata": {
    "collapsed": true
   },
   "outputs": [],
   "source": [
    "### 用的频率更多，虽然也是o(n^2)但要快得多\n",
    "def insert_sort(items):\n",
    "    import time\n",
    "    start = time.time()\n",
    "    for sort_inx in range(1,len(items)):\n",
    "        unsort_inx = sort_inx\n",
    "        while unsort_inx > 0 and items[unsort_inx-1] > items[unsort_inx]:\n",
    "            items[unsort_inx-1], items[unsort_inx] = items[unsort_inx], items[unsort_inx-1]\n",
    "            unsort_inx = unsort_inx-1  #啥意思\n",
    "    t = time.time() - start\n",
    "    return len(items), t            "
   ]
  },
  {
   "cell_type": "code",
   "execution_count": 82,
   "metadata": {
    "collapsed": true
   },
   "outputs": [],
   "source": [
    "random_lists = [arrayutil.generateRandomArray(100 * n) for n in range(1, 20)]\n",
    "\n",
    "rst = [insert_sort(l) for l in random_lists]"
   ]
  },
  {
   "cell_type": "code",
   "execution_count": 83,
   "metadata": {
    "collapsed": false,
    "scrolled": true
   },
   "outputs": [
    {
     "data": {
      "text/plain": [
       "[<matplotlib.lines.Line2D at 0x21000996cc0>]"
      ]
     },
     "execution_count": 83,
     "metadata": {},
     "output_type": "execute_result"
    },
    {
     "data": {
      "image/png": "[encoded data removed]",
      "text/plain": [
       "<matplotlib.figure.Figure at 0x210009ee0f0>"
      ]
     },
     "metadata": {},
     "output_type": "display_data"
    }
   ],
   "source": [
    "x = list(zip(*rst))[0]\n",
    "y = list(zip(*rst))[1]\n",
    "\n",
    "plt.plot(x, y)"
   ]
  },
  {
   "cell_type": "markdown",
   "metadata": {
    "collapsed": true
   },
   "source": [
    "## 3.排序\n",
    "#### 3.插入排序selection sort\n",
    "#### 找最小值"
   ]
  },
  {
   "cell_type": "code",
   "execution_count": null,
   "metadata": {
    "collapsed": true
   },
   "outputs": [],
   "source": [
    "def selection_sort(nums:list, reverse=False):\n",
    "    min_inx=0\n",
    "    for i in range(len(nums)):\n",
    "        for j in range(i+1,len(nums)):\n",
    "            if nums[min_inx]<nums[i]:\n",
    "                min_inx=i\n",
    "        nums[min_inx],nums[i]=nums[i],nums[min_inx]  ##在一轮for循环结束后，再进行交换\n"
   ]
  },
  {
   "cell_type": "markdown",
   "metadata": {},
   "source": [
    "## 3.排序\n",
    "#### 4.插入排序Merge sort ------------------ nlogn\n",
    "#### l.sort（）是insertion sort+merge\n",
    "#### 分治法"
   ]
  },
  {
   "cell_type": "code",
   "execution_count": 11,
   "metadata": {
    "collapsed": false
   },
   "outputs": [
    {
     "name": "stdout",
     "output_type": "stream",
     "text": [
      "[9, 8, 7, 6, 5, 4, 3, 2, 1, 0]\n"
     ]
    }
   ],
   "source": [
    "def _merge(a: list, b: list) -> list:\n",
    "    \"\"\"Merge two sorted list\"\"\"\n",
    "    c = []\n",
    "    while len(a) > 0 and len(b) > 0:\n",
    "        if a[0] < b[0]:\n",
    "            c.append(a[0])\n",
    "            a.remove(a[0])\n",
    "        else:\n",
    "            c.append(b[0])\n",
    "            b.remove(b[0])\n",
    "\n",
    "    if len(a) == 0:\n",
    "        c += b\n",
    "    else:\n",
    "        c += a\n",
    "    return c\n",
    "\n",
    "\n",
    "def _merge_sorted(nums: list) -> list:\n",
    "    # Won't sort in place\n",
    "    if len(nums) <= 1:\n",
    "        return nums\n",
    "\n",
    "    m = len(nums) // 2\n",
    "    a = _merge_sorted(nums[:m])\n",
    "    b = _merge_sorted(nums[m:])\n",
    "    return _merge(a, b)\n",
    "\n",
    "\n",
    "# Wrapper\n",
    "def merge_sorted(nums: list, reverse=False) -> list:\n",
    "    import time\n",
    "    start = time.time()\n",
    "    \"\"\"Merge Sort\"\"\"\n",
    "    nums = _merge_sorted(nums)\n",
    "    if reverse:\n",
    "        nums = nums[::-1]\n",
    "\n",
    "    t = time.time() - start\n",
    "    return nums, len(nums), t\n",
    "\n",
    "l = [1, 3, 5, 7, 9, 2, 4, 6, 8, 0]\n",
    "l = merge_sorted(l, reverse=True)[0]\n",
    "print(l)"
   ]
  },
  {
   "cell_type": "code",
   "execution_count": 18,
   "metadata": {
    "collapsed": false
   },
   "outputs": [],
   "source": [
    "random_lists = [arrayutil.generateRandomArray(100 * n) for n in range(1, 51)]\n",
    "rst = [merge_sorted(l) for l in random_lists]\n",
    "r = [(l[1],l[2]) for l in rst]"
   ]
  },
  {
   "cell_type": "code",
   "execution_count": 19,
   "metadata": {
    "collapsed": false
   },
   "outputs": [
    {
     "data": {
      "text/plain": [
       "[<matplotlib.lines.Line2D at 0x1a493d08400>]"
      ]
     },
     "execution_count": 19,
     "metadata": {},
     "output_type": "execute_result"
    },
    {
     "data": {
      "image/png": "[encoded data removed]",
      "text/plain": [
       "<matplotlib.figure.Figure at 0x1a493beef60>"
      ]
     },
     "metadata": {},
     "output_type": "display_data"
    }
   ],
   "source": [
    "import matplotlib.pyplot as plt\n",
    "%matplotlib inline  \n",
    "\n",
    "x = list(zip(*r))[0]\n",
    "y = list(zip(*r))[1]\n",
    "\n",
    "plt.plot(x, y)"
   ]
  },
  {
   "cell_type": "markdown",
   "metadata": {},
   "source": [
    "## 3.排序\n",
    "#### 4. Quick Sort  \n",
    "#### n^2,如果pivot选的好，这可以将其分为一半一半，类似merge sort"
   ]
  },
  {
   "cell_type": "code",
   "execution_count": 20,
   "metadata": {
    "collapsed": false
   },
   "outputs": [
    {
     "name": "stdout",
     "output_type": "stream",
     "text": [
      "[9, 8, 7, 6, 5, 4, 3, 2, 1, 0]\n"
     ]
    }
   ],
   "source": [
    "def _quick_sorted(nums: list) -> list:\n",
    "    if len(nums) <= 1:\n",
    "        return nums\n",
    "\n",
    "    pivot = nums[0]\n",
    "    left_nums = _quick_sorted([x for x in nums[1:] if x < pivot])\n",
    "    right_nums = _quick_sorted([x for x in nums[1:] if x >= pivot])\n",
    "    return left_nums + [pivot] + right_nums##需要空间复杂度 \n",
    "\n",
    "\n",
    "def quick_sorted(nums: list, reverse=False) -> list:\n",
    "    \"\"\"Quick Sort\"\"\"\n",
    "    nums = _quick_sorted(nums)\n",
    "    if reverse:\n",
    "        nums = nums[::-1]\n",
    "    return nums\n",
    "\n",
    "\n",
    "l = [1, 3, 5, 7, 9, 2, 4, 6, 8, 0]\n",
    "l = quick_sorted(l, reverse=True)\n",
    "print(l)"
   ]
  },
  {
   "cell_type": "code",
   "execution_count": null,
   "metadata": {
    "collapsed": true
   },
   "outputs": [],
   "source": [
    "def partition(self,alist,first,last):  ##不需要额外空间\n",
    "    pivotvalue=alist[first]\n",
    "    leftmark=first +1\n",
    "    rightmark=last\n",
    "    done=False\n",
    "    while not done:\n",
    "        while leftmark<=rightmark and alist[leftmark]<=pivotvalue:\n",
    "            leftmark=leftmark+1\n",
    "        while alist[rightmark]>=pivotvalue and rightmark>=leftmark:\n",
    "            rightmark=rightmark-1\n",
    "        if rightmark<leftmark:\n",
    "            done=True\n",
    "        else:\n",
    "            alist[leftmark],alist[rightmark]=alist[rightmark],alist[leftmark]\n",
    "    alist[first],alist[rightmark]=alist[rightmark],alist[first]  ##j与pivot进行交换\n",
    "    return rightmark       ##返回j"
   ]
  }
 ],
 "metadata": {
  "kernelspec": {
   "display_name": "Python 3",
   "language": "python",
   "name": "python3"
  },
  "language_info": {
   "codemirror_mode": {
    "name": "ipython",
    "version": 3
   },
   "file_extension": ".py",
   "mimetype": "text/x-python",
   "name": "python",
   "nbconvert_exporter": "python",
   "pygments_lexer": "ipython3",
   "version": "3.6.0"
  }
 },
 "nbformat": 4,
 "nbformat_minor": 2
}
