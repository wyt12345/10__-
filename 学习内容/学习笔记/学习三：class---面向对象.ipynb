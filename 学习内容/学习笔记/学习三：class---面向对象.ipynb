{
 "cells": [
  {
   "cell_type": "markdown",
   "metadata": {
    "collapsed": true
   },
   "source": [
    "## 对象、类与继承\n",
    ">关系\n",
    "\n",
    ">- person 为对象,对象下带有很多函数.\n",
    "\n",
    ">- class Person()：这种格式是类，是父类\n",
    "\n",
    ">- class MDPerson(Person):套用类，作为子类"
   ]
  },
  {
   "cell_type": "markdown",
   "metadata": {},
   "source": [
    "## 父类\n",
    "> class Person():\n",
    "\n",
    ">     def __init__(self, name, gender): # 第一个必须是self初始化\n",
    "      \n",
    ">     self.name = name  \n",
    "      \n",
    ">     self.gender = gender\n",
    "\n",
    ">- 第一个必须是self初始化|\n"
   ]
  },
  {
   "cell_type": "code",
   "execution_count": 5,
   "metadata": {
    "collapsed": true
   },
   "outputs": [],
   "source": [
    "from IPython.core.interactiveshell import InteractiveShell\n",
    "InteractiveShell.ast_node_interactivity = \"all\""
   ]
  },
  {
   "cell_type": "code",
   "execution_count": 17,
   "metadata": {
    "collapsed": false
   },
   "outputs": [
    {
     "ename": "NameError",
     "evalue": "name 'speak' is not defined",
     "output_type": "error",
     "traceback": [
      "\u001b[0;31m---------------------------------------------------------------------------\u001b[0m",
      "\u001b[0;31mNameError\u001b[0m                                 Traceback (most recent call last)",
      "\u001b[0;32m<ipython-input-17-3862a9a87a5e>\u001b[0m in \u001b[0;36m<module>\u001b[0;34m()\u001b[0m\n\u001b[1;32m     13\u001b[0m \u001b[0med\u001b[0m\u001b[1;33m.\u001b[0m\u001b[0mname\u001b[0m  \u001b[1;31m##所定义的，自身与特点的关系self.name = name，这样就能输出结果\u001b[0m\u001b[1;33m\u001b[0m\u001b[0m\n\u001b[1;32m     14\u001b[0m \u001b[0med\u001b[0m\u001b[1;33m.\u001b[0m\u001b[0mgender\u001b[0m   \u001b[1;31m##基本信息没有括号\u001b[0m\u001b[1;33m\u001b[0m\u001b[0m\n\u001b[0;32m---> 15\u001b[0;31m \u001b[0med\u001b[0m\u001b[1;33m.\u001b[0m\u001b[0msay\u001b[0m\u001b[1;33m(\u001b[0m\u001b[1;33m)\u001b[0m    \u001b[1;31m##结合信息有括号\u001b[0m\u001b[1;33m\u001b[0m\u001b[0m\n\u001b[0m",
      "\u001b[0;32m<ipython-input-17-3862a9a87a5e>\u001b[0m in \u001b[0;36msay\u001b[0;34m(self)\u001b[0m\n\u001b[1;32m      5\u001b[0m \u001b[1;33m\u001b[0m\u001b[0m\n\u001b[1;32m      6\u001b[0m     \u001b[1;32mdef\u001b[0m \u001b[0msay\u001b[0m\u001b[1;33m(\u001b[0m\u001b[0mself\u001b[0m\u001b[1;33m)\u001b[0m\u001b[1;33m:\u001b[0m   \u001b[1;31m##要用的参数，或者直接self.\u001b[0m\u001b[1;33m\u001b[0m\u001b[0m\n\u001b[0;32m----> 7\u001b[0;31m         \u001b[0mprint\u001b[0m\u001b[1;33m(\u001b[0m\u001b[1;34m\"Hi I'm \"\u001b[0m \u001b[1;33m+\u001b[0m \u001b[0mself\u001b[0m\u001b[1;33m.\u001b[0m\u001b[0mname\u001b[0m \u001b[1;33m+\u001b[0m \u001b[1;34m\", it's nice to meet you!\"\u001b[0m\u001b[1;33m+\u001b[0m\u001b[0mspeak\u001b[0m\u001b[1;33m(\u001b[0m\u001b[0mself\u001b[0m\u001b[1;33m.\u001b[0m\u001b[0mname\u001b[0m\u001b[1;33m)\u001b[0m\u001b[1;33m)\u001b[0m\u001b[1;33m\u001b[0m\u001b[0m\n\u001b[0m\u001b[1;32m      8\u001b[0m     \u001b[1;32mdef\u001b[0m \u001b[0mspeak\u001b[0m\u001b[1;33m(\u001b[0m\u001b[0mname\u001b[0m\u001b[1;33m)\u001b[0m\u001b[1;33m:\u001b[0m\u001b[1;33m\u001b[0m\u001b[0m\n\u001b[1;32m      9\u001b[0m         \u001b[1;32mreturn\u001b[0m \u001b[0mname\u001b[0m\u001b[1;33m*\u001b[0m\u001b[1;36m2\u001b[0m\u001b[1;33m\u001b[0m\u001b[0m\n",
      "\u001b[0;31mNameError\u001b[0m: name 'speak' is not defined"
     ]
    }
   ],
   "source": [
    "class Person():\n",
    "    def __init__(self, name, gender): # 第一个必须是self初始化\n",
    "        self.name = name  \n",
    "        self.gender = gender  ##只有这里将两者贴合起来了后面才能通过self访问，\n",
    "        \n",
    "    def say(self):   ##要用的参数，或者直接self.\n",
    "        print(\"Hi I'm \" + self.name + \", it's nice to meet you!\"+speak(self.name))\n",
    "    def speak(self):\n",
    "        return name*2\n",
    "\n",
    "ed = Person('Edward', 'Male')  ##保存下去\n",
    "type(ed)\n",
    "ed.name  ##所定义的，自身与特点的关系self.name = name，这样就能输出结果\n",
    "ed.gender   ##基本信息没有括号\n",
    "ed.say()    ##结合信息有括号"
   ]
  },
  {
   "cell_type": "code",
   "execution_count": 8,
   "metadata": {
    "collapsed": false
   },
   "outputs": [
    {
     "name": "stdout",
     "output_type": "stream",
     "text": [
      "Hi I'm Doctor Edward, it's nice to meet you!\n"
     ]
    }
   ],
   "source": [
    "ed = MDPerson('Edward', 'Male') \n",
    "ed.say()"
   ]
  },
  {
   "cell_type": "code",
   "execution_count": 10,
   "metadata": {
    "collapsed": false
   },
   "outputs": [
    {
     "name": "stdout",
     "output_type": "stream",
     "text": [
      "Hi I'm whfiuw, it's nice to meet you!\n"
     ]
    }
   ],
   "source": [
    "ed.say()"
   ]
  },
  {
   "cell_type": "markdown",
   "metadata": {},
   "source": [
    "## 子类\n",
    "> class MDPerson(Person):##\n",
    "\n",
    ">     def diagnose(self):  ##可以直接拿出父辈的信息关系,不需要__init__，\n",
    "                             但如果加了__init__，那么在你引用时必须把定义全部写出来，或者有super（）\n",
    "        print('You need some treatment.'+self.name)\n",
    "> ed = MDPerson(\"Edward\", 'Male')\n",
    "\n",
    "> ed.diagnose()\n",
    "\n",
    "> ed.say()  可以输出父辈的函数的结果，但无法在子辈函数里引用"
   ]
  },
  {
   "cell_type": "code",
   "execution_count": 12,
   "metadata": {
    "collapsed": false
   },
   "outputs": [
    {
     "name": "stdout",
     "output_type": "stream",
     "text": [
      "Hi I'm Doctor Edward from Cardiac Surgery department, how can I help you,is Male\n"
     ]
    }
   ],
   "source": [
    "class MDPerson(Person):\n",
    "    def __init__(self, name, gender, dept='Cardiac Surgery'):\n",
    "        self.name = 'Doctor ' + name\n",
    "        self.gender = 'is '+ gender\n",
    "        self.dept = dept\n",
    "    \n",
    "    def say(self):\n",
    "        print(\"Hi I'm %s from %s department, how can I help you,%s\" % (self.name, self.dept,self.gender))\n",
    "\n",
    "ed = MDPerson(\"Edward\", 'Male')\n",
    "ed.say()     ##输出的结果以子类的定义的关系为自主"
   ]
  },
  {
   "cell_type": "code",
   "execution_count": 2,
   "metadata": {
    "collapsed": false
   },
   "outputs": [
    {
     "name": "stdout",
     "output_type": "stream",
     "text": [
      "Hi I'm Doctor Edward, it's nice to meet you!\n"
     ]
    }
   ],
   "source": [
    "class MDPerson(Person):\n",
    "    def __init__(self, name, gender, dept='Cardiac Surgery'):\n",
    "        self.name = 'Doctor ' + name\n",
    "        self.gender = 'is '+ gender\n",
    "        self.dept = dept\n",
    "ed = MDPerson(\"Edward\", 'Male')\n",
    "ed.say()"
   ]
  },
  {
   "cell_type": "code",
   "execution_count": 10,
   "metadata": {
    "collapsed": false
   },
   "outputs": [
    {
     "name": "stdout",
     "output_type": "stream",
     "text": [
      "Hi I'm Edward from department, how can I help you,I am Male\n"
     ]
    }
   ],
   "source": [
    "class MDPerson(Person):\n",
    "    def say(self):\n",
    "        print(\"Hi I'm %s from department, how can I help you,I am %s\" % (self.name,self.gender))  \n",
    "        \n",
    "ed = MDPerson(\"Edward\", 'Male')\n",
    "ed.say()  #可以看出由于我们gender没有给出初始值，所以继承父类的notmale"
   ]
  },
  {
   "cell_type": "markdown",
   "metadata": {},
   "source": [
    "## super().__init__(name, gender)让子类也可以有定义且不影响你继续引用父类"
   ]
  },
  {
   "cell_type": "code",
   "execution_count": 16,
   "metadata": {
    "collapsed": false
   },
   "outputs": [
    {
     "ename": "AttributeError",
     "evalue": "'MDPerson' object has no attribute 'name'",
     "output_type": "error",
     "traceback": [
      "\u001b[0;31m---------------------------------------------------------------------------\u001b[0m",
      "\u001b[0;31mAttributeError\u001b[0m                            Traceback (most recent call last)",
      "\u001b[0;32m<ipython-input-16-02d4bb1730c3>\u001b[0m in \u001b[0;36m<module>\u001b[0;34m()\u001b[0m\n\u001b[1;32m      6\u001b[0m         \u001b[0mprint\u001b[0m\u001b[1;33m(\u001b[0m\u001b[1;34m\"Hi I'm %s from %s department, how can I help you,I am %s\"\u001b[0m \u001b[1;33m%\u001b[0m \u001b[1;33m(\u001b[0m\u001b[0mself\u001b[0m\u001b[1;33m.\u001b[0m\u001b[0mname\u001b[0m\u001b[1;33m,\u001b[0m \u001b[0mself\u001b[0m\u001b[1;33m.\u001b[0m\u001b[0mdept\u001b[0m\u001b[1;33m,\u001b[0m\u001b[0mself\u001b[0m\u001b[1;33m.\u001b[0m\u001b[0mgender\u001b[0m\u001b[1;33m)\u001b[0m\u001b[1;33m)\u001b[0m\u001b[1;33m\u001b[0m\u001b[0m\n\u001b[1;32m      7\u001b[0m \u001b[1;33m\u001b[0m\u001b[0m\n\u001b[0;32m----> 8\u001b[0;31m \u001b[0med\u001b[0m \u001b[1;33m=\u001b[0m \u001b[0mMDPerson\u001b[0m\u001b[1;33m(\u001b[0m\u001b[1;34m\"Edward\"\u001b[0m\u001b[1;33m,\u001b[0m \u001b[1;34m'Male'\u001b[0m\u001b[1;33m)\u001b[0m\u001b[1;33m\u001b[0m\u001b[0m\n\u001b[0m\u001b[1;32m      9\u001b[0m \u001b[0med\u001b[0m\u001b[1;33m.\u001b[0m\u001b[0msay\u001b[0m\u001b[1;33m(\u001b[0m\u001b[1;33m)\u001b[0m\u001b[1;31m#可以看出由于我们gender没有给出初始值，所以继承父类的notmale\u001b[0m\u001b[1;33m\u001b[0m\u001b[0m\n",
      "\u001b[0;32m<ipython-input-16-02d4bb1730c3>\u001b[0m in \u001b[0;36m__init__\u001b[0;34m(self, name, gender, dept)\u001b[0m\n\u001b[1;32m      1\u001b[0m \u001b[1;32mclass\u001b[0m \u001b[0mMDPerson\u001b[0m\u001b[1;33m(\u001b[0m\u001b[0mPerson\u001b[0m\u001b[1;33m)\u001b[0m\u001b[1;33m:\u001b[0m\u001b[1;33m\u001b[0m\u001b[0m\n\u001b[1;32m      2\u001b[0m     \u001b[1;32mdef\u001b[0m \u001b[0m__init__\u001b[0m\u001b[1;33m(\u001b[0m\u001b[0mself\u001b[0m\u001b[1;33m,\u001b[0m \u001b[0mname\u001b[0m\u001b[1;33m,\u001b[0m \u001b[0mgender\u001b[0m\u001b[1;33m,\u001b[0m \u001b[0mdept\u001b[0m\u001b[1;33m=\u001b[0m\u001b[1;34m'Cardiac Surgery'\u001b[0m\u001b[1;33m)\u001b[0m\u001b[1;33m:\u001b[0m\u001b[1;33m\u001b[0m\u001b[0m\n\u001b[0;32m----> 3\u001b[0;31m         \u001b[0mself\u001b[0m\u001b[1;33m.\u001b[0m\u001b[0mname\u001b[0m \u001b[1;33m=\u001b[0m \u001b[1;34m'Doctor '\u001b[0m \u001b[1;33m+\u001b[0m \u001b[0mself\u001b[0m\u001b[1;33m.\u001b[0m\u001b[0mname\u001b[0m  \u001b[1;31m##报错，不能用self.name,若子类有定义了，则self.name失效\u001b[0m\u001b[1;33m\u001b[0m\u001b[0m\n\u001b[0m\u001b[1;32m      4\u001b[0m         \u001b[0mself\u001b[0m\u001b[1;33m.\u001b[0m\u001b[0mdept\u001b[0m \u001b[1;33m=\u001b[0m \u001b[0mdept\u001b[0m                   \u001b[1;31m##除此之外，self.gender由于没有定义，你将无法引用\u001b[0m\u001b[1;33m\u001b[0m\u001b[0m\n\u001b[1;32m      5\u001b[0m     \u001b[1;32mdef\u001b[0m \u001b[0msay\u001b[0m\u001b[1;33m(\u001b[0m\u001b[0mself\u001b[0m\u001b[1;33m)\u001b[0m\u001b[1;33m:\u001b[0m\u001b[1;33m\u001b[0m\u001b[0m\n",
      "\u001b[0;31mAttributeError\u001b[0m: 'MDPerson' object has no attribute 'name'"
     ]
    }
   ],
   "source": [
    "class MDPerson(Person):\n",
    "    def __init__(self, name, gender, dept='Cardiac Surgery'):\n",
    "        self.name = 'Doctor ' + self.name  ##报错，不能用self.name,若子类有定义了，则self.name失效\n",
    "        self.dept = dept                   ##除此之外，self.gender由于没有定义，你将无法引用\n",
    "                                           ##解决以上问题只需要一个super\n",
    "    def say(self):\n",
    "        print(\"Hi I'm %s from %s department, how can I help you,I am %s\" % (self.name, self.dept,self.gender))  \n",
    "        \n",
    "ed = MDPerson(\"Edward\", 'Male')\n",
    "ed.say()#可以看出由于我们gender没有给出初始值，所以继承父类的notmale"
   ]
  },
  {
   "cell_type": "code",
   "execution_count": 17,
   "metadata": {
    "collapsed": false
   },
   "outputs": [
    {
     "name": "stdout",
     "output_type": "stream",
     "text": [
      "Hi I'm Doctor Edward from Cardiac Surgery department, how can I help you,I am Male\n"
     ]
    }
   ],
   "source": [
    "class MDPerson(Person):\n",
    "    def __init__(self, name, gender, dept='Cardiac Surgery'):\n",
    "        super().__init__(name, gender)\n",
    "        self.name = 'Doctor ' + self.name\n",
    "        self.dept = dept\n",
    "    def say(self):\n",
    "        print(\"Hi I'm %s from %s department, how can I help you,I am %s\" % (self.name, self.dept,self.gender))  \n",
    "        \n",
    "ed = MDPerson(\"Edward\", 'Male')\n",
    "\n",
    "ed.say()  #重新给出gender，就不是父类的"
   ]
  },
  {
   "cell_type": "markdown",
   "metadata": {},
   "source": [
    "##  property（fget=None，fset=None，fdel=None，doc=None）\n",
    "> 解释：fget是一个用于获取属性值的函数，同样fset是用于设置的函数，fdel是用于删除的函数属性。\n",
    "\n",
    "> 作用：将类方法转换为类属性，可以用 . 直接获取属性值或者对属性进行赋值，使用Python内置的@property装饰器就是负责把一个方法变成属性调用\n",
    "\n",
    "> 应用：第一种： name = property(get_name,set_name) 隐藏，保护数据\n",
    "      \n",
    ">       第二种：@property\n",
    "                "
   ]
  },
  {
   "cell_type": "code",
   "execution_count": 2,
   "metadata": {
    "collapsed": true
   },
   "outputs": [],
   "source": [
    "##可以隐藏\n",
    "class Person():\n",
    "    def __init__(self, input_name):\n",
    "        self.hidden_name = input_name\n",
    "        \n",
    "    def get_name(self):\n",
    "        print('Inside getter')\n",
    "        return self.hidden_name\n",
    "        \n",
    "    def set_name(self, input_name):\n",
    "        print('Inside setter')\n",
    "        self.hidden_name = input_name\n",
    "        \n",
    "    name = property(get_name,set_name)  ##加了这个，即使我们不知道用self.hidden_name，也可以通过self.name来获取信息"
   ]
  },
  {
   "cell_type": "code",
   "execution_count": 3,
   "metadata": {
    "collapsed": false
   },
   "outputs": [
    {
     "data": {
      "text/plain": [
       "<property at 0x2059fbf2368>"
      ]
     },
     "execution_count": 3,
     "metadata": {},
     "output_type": "execute_result"
    }
   ],
   "source": [
    "Person.name  ##变成属性"
   ]
  },
  {
   "cell_type": "code",
   "execution_count": 6,
   "metadata": {
    "collapsed": false
   },
   "outputs": [
    {
     "name": "stdout",
     "output_type": "stream",
     "text": [
      "17\n",
      "20\n",
      "35\n",
      "balala: 35\n",
      "None\n"
     ]
    }
   ],
   "source": [
    "class Person(object):\n",
    "    def __init__(self, name, age):\n",
    "        self.__name = name\n",
    "        self.__age = age\n",
    "\n",
    "    def get_age_fun(self):\n",
    "         return self.__age\n",
    "\n",
    "    def set_age_fun(self, value):\n",
    "        if not isinstance(value, int):\n",
    "            raise ValueError('年龄必须是数字!')\n",
    "        if value < 0 or value > 100:\n",
    "            raise ValueError('年龄必须是0-100')\n",
    "        self.__age = value\n",
    "\n",
    "    def print_info(self):\n",
    "        print('%s: %s' % (self.__name, self.__age))\n",
    "p = Person('balala',20)\n",
    "p.__age = 17    ##这样赋值没用\n",
    "print(p.__age) # 17\n",
    "print(p.get_age_fun()) # 20 表面上看，上面代码“成功”地设置了__age变量 17,但实际上这个__age变量和class内部的__age变量不是一个变量！\n",
    "# 内部的__age变量已经被Python解释器自动改成了_Person_age，而外部代码给p新增了一个__age变量。 所以调用 get_age_fun输出的是初始值\n",
    "p.set_age_fun(35)\n",
    "print(p.get_age_fun()) # 35\n",
    "\n",
    "print(p.print_info()) # balala: 35"
   ]
  },
  {
   "cell_type": "code",
   "execution_count": 20,
   "metadata": {
    "collapsed": false
   },
   "outputs": [
    {
     "name": "stdout",
     "output_type": "stream",
     "text": [
      "17\n",
      "20\n",
      "35\n",
      "balala: 35\n",
      "None\n"
     ]
    }
   ],
   "source": [
    "class Person(object):\n",
    "    def __init__(self, name, age):\n",
    "        self.__name = name\n",
    "        self.__age = age\n",
    "\n",
    "    @property\n",
    "    def get_age_fun(self):\n",
    "         return self.__age   ##未知，不是给的值\n",
    "\n",
    "    @get_age_fun.setter # get_age_fun是上面声明的方法，所以这里要给出具体赋值方法\n",
    "    def set_age_fun(self, value):\n",
    "        if not isinstance(value, int):\n",
    "            raise ValueError('年龄必须是数字!')\n",
    "        if value < 0 or value > 100:\n",
    "            raise ValueError('年龄必须是0-100')\n",
    "        self.__age = value\n",
    "\n",
    "    def print_info(self):\n",
    "        print('%s: %s' % (self.__name, self.__age))\n",
    "\n",
    "\n",
    "p = Person('balala',20)\n",
    "p.__age = 17\n",
    "print(p.__age) # 17\n",
    "print(p.get_age_fun) # 20 注意这里不带()，不是函数了，是属性\n",
    "\n",
    "#p.set_age_fun(35) 注意不能这样调用赋值了\n",
    "p.set_age_fun = 35 #  这里set_age_fun 就是 声明的函数不带()\n",
    "print(p.get_age_fun) # 35\n",
    "print(p.print_info()) # balala: 35"
   ]
  },
  {
   "cell_type": "code",
   "execution_count": 22,
   "metadata": {
    "collapsed": false
   },
   "outputs": [
    {
     "data": {
      "text/plain": [
       "20"
      ]
     },
     "execution_count": 22,
     "metadata": {},
     "output_type": "execute_result"
    }
   ],
   "source": [
    "p = Person('balala',20)\n",
    "p.get_age_fun"
   ]
  },
  {
   "cell_type": "code",
   "execution_count": 23,
   "metadata": {
    "collapsed": false
   },
   "outputs": [
    {
     "ename": "AttributeError",
     "evalue": "can't set attribute",
     "output_type": "error",
     "traceback": [
      "\u001b[0;31m---------------------------------------------------------------------------\u001b[0m",
      "\u001b[0;31mAttributeError\u001b[0m                            Traceback (most recent call last)",
      "\u001b[0;32m<ipython-input-23-e8fcd1dc4754>\u001b[0m in \u001b[0;36m<module>\u001b[0;34m()\u001b[0m\n\u001b[0;32m----> 1\u001b[0;31m \u001b[0mp\u001b[0m\u001b[1;33m.\u001b[0m\u001b[0mget_age_fun\u001b[0m\u001b[1;33m=\u001b[0m\u001b[1;36m26\u001b[0m\u001b[1;33m\u001b[0m\u001b[0m\n\u001b[0m",
      "\u001b[0;31mAttributeError\u001b[0m: can't set attribute"
     ]
    }
   ],
   "source": [
    "p.get_age_fun=26  ##虽然get_age_fun已经成为该类的属性，但无法直接赋值"
   ]
  },
  {
   "cell_type": "code",
   "execution_count": 24,
   "metadata": {
    "collapsed": false
   },
   "outputs": [
    {
     "data": {
      "text/plain": [
       "35"
      ]
     },
     "execution_count": 24,
     "metadata": {},
     "output_type": "execute_result"
    }
   ],
   "source": [
    "p.set_age_fun = 35  ##可以通过setter来赋值\n",
    "p.get_age_fun"
   ]
  },
  {
   "cell_type": "code",
   "execution_count": 25,
   "metadata": {
    "collapsed": false
   },
   "outputs": [
    {
     "data": {
      "text/plain": [
       "29"
      ]
     },
     "execution_count": 25,
     "metadata": {},
     "output_type": "execute_result"
    }
   ],
   "source": [
    "p = Person('bal',29) ##或者直接通过定义来\n",
    "p.get_age_fun"
   ]
  },
  {
   "cell_type": "code",
   "execution_count": null,
   "metadata": {
    "collapsed": true
   },
   "outputs": [],
   "source": [
    "class Person():\n",
    "    def __init__(self, input_name):\n",
    "        self.hidden_name = input_name\n",
    "    \n",
    "    @property                    ##getter\n",
    "    def name(self):\n",
    "        print('Inside getter')\n",
    "        return self.hidden_name\n",
    "    \n",
    "    @name.setter                ##setter\n",
    "    def name(self, input_name):\n",
    "        print('Inside setter')\n",
    "        self.hidden_name = input_name"
   ]
  },
  {
   "cell_type": "code",
   "execution_count": 17,
   "metadata": {
    "collapsed": false
   },
   "outputs": [
    {
     "ename": "TypeError",
     "evalue": "__init__() missing 1 required positional argument: 'gender'",
     "output_type": "error",
     "traceback": [
      "\u001b[0;31m---------------------------------------------------------------------------\u001b[0m",
      "\u001b[0;31mTypeError\u001b[0m                                 Traceback (most recent call last)",
      "\u001b[0;32m<ipython-input-17-e817611bef86>\u001b[0m in \u001b[0;36m<module>\u001b[0;34m()\u001b[0m\n\u001b[0;32m----> 1\u001b[0;31m \u001b[0msomeone\u001b[0m \u001b[1;33m=\u001b[0m \u001b[0mPerson\u001b[0m\u001b[1;33m(\u001b[0m\u001b[1;34m'Edward'\u001b[0m\u001b[1;33m)\u001b[0m\u001b[1;33m\u001b[0m\u001b[0m\n\u001b[0m\u001b[1;32m      2\u001b[0m \u001b[0msomeone\u001b[0m\u001b[1;33m.\u001b[0m\u001b[0mname\u001b[0m \u001b[1;33m=\u001b[0m \u001b[1;34m'Ed'\u001b[0m   \u001b[1;31m##可以保护，这样无法更改原来设置的名字\u001b[0m\u001b[1;33m\u001b[0m\u001b[0m\n",
      "\u001b[0;31mTypeError\u001b[0m: __init__() missing 1 required positional argument: 'gender'"
     ]
    }
   ],
   "source": [
    "someone = Person('Edward')\n",
    "someone.name = 'Ed'   ##可以保护，这样无法更改原来设置的名字"
   ]
  },
  {
   "cell_type": "code",
   "execution_count": 18,
   "metadata": {
    "collapsed": false
   },
   "outputs": [
    {
     "data": {
      "text/plain": [
       "'whfiuw'"
      ]
     },
     "execution_count": 18,
     "metadata": {},
     "output_type": "execute_result"
    }
   ],
   "source": [
    "class Person():\n",
    "    def __init__(self, name, gender): # 第一个必须是self初始化\n",
    "        self.name = name  \n",
    "        self.gender = gender  ##只有这里将两者贴合起来了后面才能通过self访问，\n",
    "        \n",
    "ed = Person('Edward', 'Male')  ##保存下去\n",
    "ed.name='whfiuw'\n",
    "ed.name"
   ]
  },
  {
   "cell_type": "code",
   "execution_count": 27,
   "metadata": {
    "collapsed": true
   },
   "outputs": [],
   "source": [
    "class Circle():\n",
    "    def __init__(self, radius):\n",
    "        self.radius = radius\n",
    "    \n",
    "    @property\n",
    "    def diameter(self):\n",
    "        return 2 * self.radius"
   ]
  },
  {
   "cell_type": "code",
   "execution_count": 28,
   "metadata": {
    "collapsed": false
   },
   "outputs": [
    {
     "name": "stdout",
     "output_type": "stream",
     "text": [
      "radius = 5, diameter = 10\n"
     ]
    }
   ],
   "source": [
    "c = Circle(5)\n",
    "print('radius = %d, diameter = %d' % (c.radius, c.diameter))"
   ]
  },
  {
   "cell_type": "code",
   "execution_count": null,
   "metadata": {
    "collapsed": true
   },
   "outputs": [],
   "source": []
  }
 ],
 "metadata": {
  "kernelspec": {
   "display_name": "Python 3",
   "language": "python",
   "name": "python3"
  },
  "language_info": {
   "codemirror_mode": {
    "name": "ipython",
    "version": 3
   },
   "file_extension": ".py",
   "mimetype": "text/x-python",
   "name": "python",
   "nbconvert_exporter": "python",
   "pygments_lexer": "ipython3",
   "version": "3.6.0"
  }
 },
 "nbformat": 4,
 "nbformat_minor": 2
}
