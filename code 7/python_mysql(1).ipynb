{
 "cells": [
  {
   "cell_type": "code",
   "execution_count": 5,
   "metadata": {
    "collapsed": false
   },
   "outputs": [],
   "source": [
    "import pymysql\n",
    "import numpy as np\n",
    "import pandas as pd\n",
    "from pandas import DataFrame\n",
    "\n",
    "#Some elements \n",
    "#Refering from https://www.tutorialspoint.com/python3/python_database_access.htm"
   ]
  },
  {
   "cell_type": "code",
   "execution_count": 8,
   "metadata": {
    "collapsed": false
   },
   "outputs": [],
   "source": [
    "conn=pymysql.connect(host='localhost',user='root',password='Wuyuting1997',db='HR')"
   ]
  },
  {
   "cell_type": "code",
   "execution_count": 9,
   "metadata": {
    "collapsed": true
   },
   "outputs": [],
   "source": [
    "a=conn.cursor()"
   ]
  },
  {
   "cell_type": "code",
   "execution_count": 12,
   "metadata": {
    "collapsed": true
   },
   "outputs": [],
   "source": [
    "sql='select * from `locations`;'"
   ]
  },
  {
   "cell_type": "code",
   "execution_count": 13,
   "metadata": {
    "collapsed": false
   },
   "outputs": [
    {
     "data": {
      "text/plain": [
       "23"
      ]
     },
     "execution_count": 13,
     "metadata": {},
     "output_type": "execute_result"
    }
   ],
   "source": [
    "a.execute(sql)"
   ]
  },
  {
   "cell_type": "code",
   "execution_count": 14,
   "metadata": {
    "collapsed": false
   },
   "outputs": [
    {
     "data": {
      "text/plain": [
       "((1000, '1297 Via Cola di Rie', '989', 'Roma', '', 'IT'),\n",
       " (1100, '93091 Calle della Testa', '10934', 'Venice', '', 'IT'),\n",
       " (1200, '2017 Shinjuku-ku', '1689', 'Tokyo', 'Tokyo Prefecture', 'JP'),\n",
       " (1300, '9450 Kamiya-cho', '6823', 'Hiroshima', '', 'JP'),\n",
       " (1400, '2014 Jabberwocky Rd', '26192', 'Southlake', 'Texas', 'US'),\n",
       " (1500,\n",
       "  '2011 Interiors Blvd',\n",
       "  '99236',\n",
       "  'South San Francisco',\n",
       "  'California',\n",
       "  'US'),\n",
       " (1600, '2007 Zagora St', '50090', 'South Brunswick', 'New Jersey', 'US'),\n",
       " (1700, '2004 Charade Rd', '98199', 'Seattle', 'Washington', 'US'),\n",
       " (1800, '147 Spadina Ave', 'M5V 2L7', 'Toronto', 'Ontario', 'CA'),\n",
       " (1900, '6092 Boxwood St', 'YSW 9T2', 'Whitehorse', 'Yukon', 'CA'),\n",
       " (2000, '40-5-12 Laogianggen', '190518', 'Beijing', '', 'CN'),\n",
       " (2100, '1298 Vileparle (E)', '490231', 'Bombay', 'Maharashtra', 'IN'),\n",
       " (2200, '12-98 Victoria Street', '2901', 'Sydney', 'New South Wales', 'AU'),\n",
       " (2300, '198 Clementi North', '540198', 'Singapore', '', 'SG'),\n",
       " (2400, '8204 Arthur St', '', 'London', '', 'UK'),\n",
       " (2500, '\"Magdalen Centre\\tThe Oxford\\tOX9 9ZB', '', '', '', ''),\n",
       " (2600, '', '', '', '', ''),\n",
       " (2700, '', '', '', '', ''),\n",
       " (2800, '', '', '', '', ''),\n",
       " (2900, '', '', '', '', ''),\n",
       " (3000, '', '', '', '', ''),\n",
       " (3100, '', '', '', '', ''),\n",
       " (3200, '', '', '', '', ''))"
      ]
     },
     "execution_count": 14,
     "metadata": {},
     "output_type": "execute_result"
    }
   ],
   "source": [
    "data=a.fetchall()\n",
    "data"
   ]
  },
  {
   "cell_type": "code",
   "execution_count": 19,
   "metadata": {
    "collapsed": true
   },
   "outputs": [],
   "source": [
    "df = pd.read_sql(sql, conn)"
   ]
  },
  {
   "cell_type": "code",
   "execution_count": 21,
   "metadata": {
    "collapsed": false
   },
   "outputs": [
    {
     "data": {
      "text/html": [
       "<div>\n",
       "<table border=\"1\" class=\"dataframe\">\n",
       "  <thead>\n",
       "    <tr style=\"text-align: right;\">\n",
       "      <th></th>\n",
       "      <th>location_id</th>\n",
       "      <th>street_address</th>\n",
       "      <th>postal_code</th>\n",
       "      <th>city</th>\n",
       "      <th>state_province</th>\n",
       "      <th>country_id</th>\n",
       "    </tr>\n",
       "  </thead>\n",
       "  <tbody>\n",
       "    <tr>\n",
       "      <th>0</th>\n",
       "      <td>1000</td>\n",
       "      <td>1297 Via Cola di Rie</td>\n",
       "      <td>989</td>\n",
       "      <td>Roma</td>\n",
       "      <td></td>\n",
       "      <td>IT</td>\n",
       "    </tr>\n",
       "    <tr>\n",
       "      <th>1</th>\n",
       "      <td>1100</td>\n",
       "      <td>93091 Calle della Testa</td>\n",
       "      <td>10934</td>\n",
       "      <td>Venice</td>\n",
       "      <td></td>\n",
       "      <td>IT</td>\n",
       "    </tr>\n",
       "    <tr>\n",
       "      <th>2</th>\n",
       "      <td>1200</td>\n",
       "      <td>2017 Shinjuku-ku</td>\n",
       "      <td>1689</td>\n",
       "      <td>Tokyo</td>\n",
       "      <td>Tokyo Prefecture</td>\n",
       "      <td>JP</td>\n",
       "    </tr>\n",
       "    <tr>\n",
       "      <th>3</th>\n",
       "      <td>1300</td>\n",
       "      <td>9450 Kamiya-cho</td>\n",
       "      <td>6823</td>\n",
       "      <td>Hiroshima</td>\n",
       "      <td></td>\n",
       "      <td>JP</td>\n",
       "    </tr>\n",
       "    <tr>\n",
       "      <th>4</th>\n",
       "      <td>1400</td>\n",
       "      <td>2014 Jabberwocky Rd</td>\n",
       "      <td>26192</td>\n",
       "      <td>Southlake</td>\n",
       "      <td>Texas</td>\n",
       "      <td>US</td>\n",
       "    </tr>\n",
       "    <tr>\n",
       "      <th>5</th>\n",
       "      <td>1500</td>\n",
       "      <td>2011 Interiors Blvd</td>\n",
       "      <td>99236</td>\n",
       "      <td>South San Francisco</td>\n",
       "      <td>California</td>\n",
       "      <td>US</td>\n",
       "    </tr>\n",
       "    <tr>\n",
       "      <th>6</th>\n",
       "      <td>1600</td>\n",
       "      <td>2007 Zagora St</td>\n",
       "      <td>50090</td>\n",
       "      <td>South Brunswick</td>\n",
       "      <td>New Jersey</td>\n",
       "      <td>US</td>\n",
       "    </tr>\n",
       "    <tr>\n",
       "      <th>7</th>\n",
       "      <td>1700</td>\n",
       "      <td>2004 Charade Rd</td>\n",
       "      <td>98199</td>\n",
       "      <td>Seattle</td>\n",
       "      <td>Washington</td>\n",
       "      <td>US</td>\n",
       "    </tr>\n",
       "    <tr>\n",
       "      <th>8</th>\n",
       "      <td>1800</td>\n",
       "      <td>147 Spadina Ave</td>\n",
       "      <td>M5V 2L7</td>\n",
       "      <td>Toronto</td>\n",
       "      <td>Ontario</td>\n",
       "      <td>CA</td>\n",
       "    </tr>\n",
       "    <tr>\n",
       "      <th>9</th>\n",
       "      <td>1900</td>\n",
       "      <td>6092 Boxwood St</td>\n",
       "      <td>YSW 9T2</td>\n",
       "      <td>Whitehorse</td>\n",
       "      <td>Yukon</td>\n",
       "      <td>CA</td>\n",
       "    </tr>\n",
       "  </tbody>\n",
       "</table>\n",
       "</div>"
      ],
      "text/plain": [
       "   location_id           street_address postal_code                 city  \\\n",
       "0         1000     1297 Via Cola di Rie         989                 Roma   \n",
       "1         1100  93091 Calle della Testa       10934               Venice   \n",
       "2         1200         2017 Shinjuku-ku        1689                Tokyo   \n",
       "3         1300          9450 Kamiya-cho        6823            Hiroshima   \n",
       "4         1400      2014 Jabberwocky Rd       26192            Southlake   \n",
       "5         1500      2011 Interiors Blvd       99236  South San Francisco   \n",
       "6         1600           2007 Zagora St       50090      South Brunswick   \n",
       "7         1700          2004 Charade Rd       98199              Seattle   \n",
       "8         1800          147 Spadina Ave     M5V 2L7              Toronto   \n",
       "9         1900          6092 Boxwood St     YSW 9T2           Whitehorse   \n",
       "\n",
       "     state_province country_id  \n",
       "0                           IT  \n",
       "1                           IT  \n",
       "2  Tokyo Prefecture         JP  \n",
       "3                           JP  \n",
       "4             Texas         US  \n",
       "5        California         US  \n",
       "6        New Jersey         US  \n",
       "7        Washington         US  \n",
       "8           Ontario         CA  \n",
       "9             Yukon         CA  "
      ]
     },
     "execution_count": 21,
     "metadata": {},
     "output_type": "execute_result"
    }
   ],
   "source": [
    "df.head(10)"
   ]
  },
  {
   "cell_type": "code",
   "execution_count": 22,
   "metadata": {
    "collapsed": false
   },
   "outputs": [
    {
     "data": {
      "text/plain": [
       "(23, 6)"
      ]
     },
     "execution_count": 22,
     "metadata": {},
     "output_type": "execute_result"
    }
   ],
   "source": [
    "df.shape"
   ]
  },
  {
   "cell_type": "markdown",
   "metadata": {},
   "source": [
    "# Create Databse and Table "
   ]
  },
  {
   "cell_type": "code",
   "execution_count": 2,
   "metadata": {
    "collapsed": true
   },
   "outputs": [],
   "source": [
    "import pymysql\n",
    "\n",
    "# Open database connection\n",
    "db = pymysql.connect(\"localhost\",\"root\",\"123\" )\n",
    "\n",
    "# prepare a cursor object using cursor() method\n",
    "cursor = db.cursor()\n"
   ]
  },
  {
   "cell_type": "code",
   "execution_count": 4,
   "metadata": {
    "collapsed": false
   },
   "outputs": [
    {
     "name": "stderr",
     "output_type": "stream",
     "text": [
      "/Users/zepeng/anaconda/lib/python3.5/site-packages/pymysql/cursors.py:166: Warning: (1007, \"Can't create database 'TEST'; database exists\")\n",
      "  result = self._query(query)\n"
     ]
    },
    {
     "data": {
      "text/plain": [
       "1"
      ]
     },
     "execution_count": 4,
     "metadata": {},
     "output_type": "execute_result"
    }
   ],
   "source": [
    "# Create a Database to start\n",
    "cursor.execute(\"CREATE DATABASE IF NOT EXISTS TEST\")"
   ]
  },
  {
   "cell_type": "code",
   "execution_count": 5,
   "metadata": {
    "collapsed": false
   },
   "outputs": [
    {
     "data": {
      "text/plain": [
       "0"
      ]
     },
     "execution_count": 5,
     "metadata": {},
     "output_type": "execute_result"
    }
   ],
   "source": [
    "# USE the Database TEST\n",
    "cursor.execute(\"USE TEST\")"
   ]
  },
  {
   "cell_type": "code",
   "execution_count": 6,
   "metadata": {
    "collapsed": false
   },
   "outputs": [
    {
     "name": "stderr",
     "output_type": "stream",
     "text": [
      "/Users/zepeng/anaconda/lib/python3.5/site-packages/pymysql/cursors.py:166: Warning: (1050, \"Table 'EMPLOYEE' already exists\")\n",
      "  result = self._query(query)\n"
     ]
    },
    {
     "data": {
      "text/plain": [
       "0"
      ]
     },
     "execution_count": 6,
     "metadata": {},
     "output_type": "execute_result"
    }
   ],
   "source": [
    "# Create table EMPLOYEE\n",
    "sql =  \"\"\"CREATE TABLE IF NOT EXISTS EMPLOYEE (\n",
    "   FIRST_NAME  CHAR(20) NOT NULL,\n",
    "   LAST_NAME  CHAR(20),\n",
    "   AGE INT,  \n",
    "   SEX CHAR(1),\n",
    "   INCOME FLOAT );\"\"\"\n",
    "\n",
    "cursor.execute(sql)\n"
   ]
  },
  {
   "cell_type": "code",
   "execution_count": 7,
   "metadata": {
    "collapsed": true
   },
   "outputs": [],
   "source": [
    "# disconnect from server\n",
    "db.close()"
   ]
  },
  {
   "cell_type": "markdown",
   "metadata": {},
   "source": [
    "# INSERT into Table"
   ]
  },
  {
   "cell_type": "code",
   "execution_count": 8,
   "metadata": {
    "collapsed": true
   },
   "outputs": [],
   "source": [
    "# Open database connection\n",
    "db = pymysql.connect(\"localhost\",\"root\",\"123\",\"TEST\" )\n",
    "\n",
    "# prepare a cursor object using cursor() method\n",
    "cursor = db.cursor()\n",
    "\n",
    "# Prepare SQL query to INSERT a record into the database.\n",
    "sql = \"\"\"INSERT INTO EMPLOYEE \n",
    "         VALUES ('John', 'Mohan', 22, 'M', 2000)\n",
    "      \"\"\"\n",
    "\n",
    "try:\n",
    "    # Execute the SQL command\n",
    "    cursor.execute(sql)\n",
    "    # Commit your changes in the database\n",
    "    db.commit()\n",
    "except:\n",
    "    # Rollback in case there is any error\n",
    "    db.rollback()\n",
    "\n",
    "# disconnect from server\n",
    "db.close()"
   ]
  },
  {
   "cell_type": "markdown",
   "metadata": {},
   "source": [
    "# Read Data"
   ]
  },
  {
   "cell_type": "code",
   "execution_count": 19,
   "metadata": {
    "collapsed": false
   },
   "outputs": [
    {
     "name": "stdout",
     "output_type": "stream",
     "text": [
      "('John', 'Mohan', 22, 'M', 2000.0)\n",
      "fname = John,lname = Mohan,age = 22,sex = M,income = 2000\n"
     ]
    }
   ],
   "source": [
    "# Open database connection\n",
    "db = pymysql.connect(\"localhost\",\"root\",\"123\",\"TEST\" )\n",
    "\n",
    "# prepare a cursor object using cursor() method\n",
    "cursor = db.cursor()\n",
    "\n",
    "# Prepare SQL query to INSERT a record into the database.\n",
    "sql = \"SELECT * FROM EMPLOYEE\"\n",
    "\n",
    "try:\n",
    "    # Execute the SQL command\n",
    "    cursor.execute(sql)\n",
    "    # Fetch all the rows in a list of lists.\n",
    "    results = cursor.fetchall()\n",
    "    for row in results:\n",
    "        print(row)\n",
    "        fname = row[0]\n",
    "        lname = row[1]\n",
    "        age = row[2]\n",
    "        sex = row[3]\n",
    "        income = row[4]\n",
    "    # Now print fetched result\n",
    "    print (\"fname = %s,lname = %s,age = %d,sex = %s,income = %d\" % \\\n",
    "             (fname, lname, age, sex, income ))\n",
    "except:\n",
    "    print (\"Error: unable to fetch data\")\n"
   ]
  },
  {
   "cell_type": "code",
   "execution_count": 20,
   "metadata": {
    "collapsed": true
   },
   "outputs": [],
   "source": [
    "\n",
    "# disconnect from server\n",
    "db.close()"
   ]
  },
  {
   "cell_type": "markdown",
   "metadata": {
    "collapsed": true
   },
   "source": [
    "# Update Database"
   ]
  },
  {
   "cell_type": "code",
   "execution_count": 43,
   "metadata": {
    "collapsed": false
   },
   "outputs": [],
   "source": [
    "import pymysql\n",
    "\n",
    "# Open database connection\n",
    "db = pymysql.connect(host='localhost',user='root',password='123',db='HR')\n",
    "\n",
    "# prepare a cursor object using cursor() method\n",
    "cursor = db.cursor()\n",
    "\n",
    "# Prepare SQL query to UPDATE required records\n",
    "sql = \"UPDATE job_grades SET highest_sal = 40000 WHERE grade_level = 'F';\"\n"
   ]
  },
  {
   "cell_type": "code",
   "execution_count": 46,
   "metadata": {
    "collapsed": false
   },
   "outputs": [],
   "source": [
    "\n",
    "try:\n",
    "    # Execute the SQL command\n",
    "    cursor.execute(sql)\n",
    "        # Commit your changes in the database\n",
    "    db.commit()\n",
    "\n",
    "\n",
    "except:\n",
    "    # Rollback in case there is any error\n",
    "    db.rollback()\n",
    "\n",
    "\n",
    "#disconnect from server\n",
    "db.close()\n"
   ]
  },
  {
   "cell_type": "markdown",
   "metadata": {
    "collapsed": true
   },
   "source": [
    "# Delete"
   ]
  },
  {
   "cell_type": "code",
   "execution_count": 47,
   "metadata": {
    "collapsed": true
   },
   "outputs": [],
   "source": [
    "import pymysql\n",
    "\n",
    "# Open database connection\n",
    "db = pymysql.connect(\"localhost\",\"root\",\"123\",\"TEST\" )\n",
    "\n",
    "# prepare a cursor object using cursor() method\n",
    "cursor = db.cursor()\n",
    "\n",
    "# Prepare SQL query to DELETE required records\n",
    "sql = \"DELETE FROM EMPLOYEE WHERE AGE > '%d'\" % (20)\n",
    "try:\n",
    "    # Execute the SQL command\n",
    "    cursor.execute(sql)\n",
    "    # Commit your changes in the database\n",
    "    db.commit()\n",
    "\n",
    "except:\n",
    "    # Rollback in case there is any error\n",
    "    db.rollback()\n",
    "\n",
    "# disconnect from server\n",
    "db.close()"
   ]
  },
  {
   "cell_type": "markdown",
   "metadata": {
    "collapsed": true
   },
   "source": [
    "'''\n",
    "Commit is an operation, which gives a green signal to the database to finalize the changes, and \n",
    "after this operation, no change can be reverted back.\n",
    "'''"
   ]
  },
  {
   "cell_type": "markdown",
   "metadata": {
    "collapsed": true
   },
   "source": [
    "'''\n",
    "If you are not satisfied with one or more of the changes and you want to revert back those changes \n",
    "completely, then use the rollback() method.\n",
    "'''"
   ]
  },
  {
   "cell_type": "code",
   "execution_count": null,
   "metadata": {
    "collapsed": true
   },
   "outputs": [],
   "source": []
  },
  {
   "cell_type": "code",
   "execution_count": null,
   "metadata": {
    "collapsed": true
   },
   "outputs": [],
   "source": []
  },
  {
   "cell_type": "code",
   "execution_count": null,
   "metadata": {
    "collapsed": true
   },
   "outputs": [],
   "source": []
  },
  {
   "cell_type": "code",
   "execution_count": null,
   "metadata": {
    "collapsed": true
   },
   "outputs": [],
   "source": []
  },
  {
   "cell_type": "code",
   "execution_count": null,
   "metadata": {
    "collapsed": true
   },
   "outputs": [],
   "source": []
  }
 ],
 "metadata": {
  "kernelspec": {
   "display_name": "Python 3",
   "language": "python",
   "name": "python3"
  }
 },
 "nbformat": 4,
 "nbformat_minor": 0
}
